{
 "cells": [
  {
   "cell_type": "code",
   "execution_count": 45,
   "id": "caaf795d-4f1a-4121-965d-ddc7f7deb1fd",
   "metadata": {},
   "outputs": [],
   "source": [
    "import pandas as pd\n",
    "import datetime\n",
    "import calendar\n",
    "import seaborn\n",
    "from matplotlib.ticker import PercentFormatter\n",
    "import matplotlib.pyplot as plt\n",
    "import numpy as np"
   ]
  },
  {
   "cell_type": "code",
   "execution_count": 22,
   "id": "1473bcb0-ef53-4e66-9712-4a0e539adabf",
   "metadata": {},
   "outputs": [],
   "source": [
    "df_validation = pd.read_csv(r'../../data/tidy/energy-validation-april2022-31march.csv', delimiter=',', skiprows=0, low_memory=False)"
   ]
  },
  {
   "cell_type": "code",
   "execution_count": 23,
   "id": "d1be862e-6cc3-4683-a7ca-5cd5e720e1cf",
   "metadata": {},
   "outputs": [
    {
     "data": {
      "text/html": [
       "<div>\n",
       "<style scoped>\n",
       "    .dataframe tbody tr th:only-of-type {\n",
       "        vertical-align: middle;\n",
       "    }\n",
       "\n",
       "    .dataframe tbody tr th {\n",
       "        vertical-align: top;\n",
       "    }\n",
       "\n",
       "    .dataframe thead th {\n",
       "        text-align: right;\n",
       "    }\n",
       "</style>\n",
       "<table border=\"1\" class=\"dataframe\">\n",
       "  <thead>\n",
       "    <tr style=\"text-align: right;\">\n",
       "      <th></th>\n",
       "      <th>Unnamed: 0</th>\n",
       "      <th>timestamp</th>\n",
       "      <th>equipment_id</th>\n",
       "      <th>gallons</th>\n",
       "      <th>date</th>\n",
       "      <th>Powertrain</th>\n",
       "    </tr>\n",
       "  </thead>\n",
       "  <tbody>\n",
       "    <tr>\n",
       "      <th>0</th>\n",
       "      <td>58909</td>\n",
       "      <td>2022-03-31 00:11:00</td>\n",
       "      <td>3310</td>\n",
       "      <td>33.10</td>\n",
       "      <td>2022-03-31</td>\n",
       "      <td>conventional</td>\n",
       "    </tr>\n",
       "    <tr>\n",
       "      <th>1</th>\n",
       "      <td>58910</td>\n",
       "      <td>2022-03-31 00:17:00</td>\n",
       "      <td>3303</td>\n",
       "      <td>6.40</td>\n",
       "      <td>2022-03-31</td>\n",
       "      <td>conventional</td>\n",
       "    </tr>\n",
       "    <tr>\n",
       "      <th>2</th>\n",
       "      <td>58911</td>\n",
       "      <td>2022-03-31 00:25:00</td>\n",
       "      <td>3320</td>\n",
       "      <td>12.40</td>\n",
       "      <td>2022-03-31</td>\n",
       "      <td>conventional</td>\n",
       "    </tr>\n",
       "    <tr>\n",
       "      <th>3</th>\n",
       "      <td>58912</td>\n",
       "      <td>2022-03-31 00:41:00</td>\n",
       "      <td>3402</td>\n",
       "      <td>34.80</td>\n",
       "      <td>2022-03-31</td>\n",
       "      <td>hybrid</td>\n",
       "    </tr>\n",
       "    <tr>\n",
       "      <th>4</th>\n",
       "      <td>58913</td>\n",
       "      <td>2022-03-31 00:49:00</td>\n",
       "      <td>3226</td>\n",
       "      <td>39.40</td>\n",
       "      <td>2022-03-31</td>\n",
       "      <td>conventional</td>\n",
       "    </tr>\n",
       "    <tr>\n",
       "      <th>...</th>\n",
       "      <td>...</td>\n",
       "      <td>...</td>\n",
       "      <td>...</td>\n",
       "      <td>...</td>\n",
       "      <td>...</td>\n",
       "      <td>...</td>\n",
       "    </tr>\n",
       "    <tr>\n",
       "      <th>3065</th>\n",
       "      <td>59563</td>\n",
       "      <td>2022-04-30 22:52:00</td>\n",
       "      <td>3228</td>\n",
       "      <td>20.90</td>\n",
       "      <td>2022-04-30</td>\n",
       "      <td>conventional</td>\n",
       "    </tr>\n",
       "    <tr>\n",
       "      <th>3066</th>\n",
       "      <td>24290</td>\n",
       "      <td>2022-04-30 22:53:00</td>\n",
       "      <td>1862</td>\n",
       "      <td>41.22</td>\n",
       "      <td>2022-04-30</td>\n",
       "      <td>conventional</td>\n",
       "    </tr>\n",
       "    <tr>\n",
       "      <th>3067</th>\n",
       "      <td>59564</td>\n",
       "      <td>2022-04-30 23:29:00</td>\n",
       "      <td>3314</td>\n",
       "      <td>23.50</td>\n",
       "      <td>2022-04-30</td>\n",
       "      <td>conventional</td>\n",
       "    </tr>\n",
       "    <tr>\n",
       "      <th>3068</th>\n",
       "      <td>59565</td>\n",
       "      <td>2022-04-30 23:43:00</td>\n",
       "      <td>3401</td>\n",
       "      <td>40.60</td>\n",
       "      <td>2022-04-30</td>\n",
       "      <td>hybrid</td>\n",
       "    </tr>\n",
       "    <tr>\n",
       "      <th>3069</th>\n",
       "      <td>59566</td>\n",
       "      <td>2022-04-30 23:51:00</td>\n",
       "      <td>3322</td>\n",
       "      <td>27.70</td>\n",
       "      <td>2022-04-30</td>\n",
       "      <td>conventional</td>\n",
       "    </tr>\n",
       "  </tbody>\n",
       "</table>\n",
       "<p>3070 rows × 6 columns</p>\n",
       "</div>"
      ],
      "text/plain": [
       "      Unnamed: 0            timestamp  equipment_id  gallons        date  \\\n",
       "0          58909  2022-03-31 00:11:00          3310    33.10  2022-03-31   \n",
       "1          58910  2022-03-31 00:17:00          3303     6.40  2022-03-31   \n",
       "2          58911  2022-03-31 00:25:00          3320    12.40  2022-03-31   \n",
       "3          58912  2022-03-31 00:41:00          3402    34.80  2022-03-31   \n",
       "4          58913  2022-03-31 00:49:00          3226    39.40  2022-03-31   \n",
       "...          ...                  ...           ...      ...         ...   \n",
       "3065       59563  2022-04-30 22:52:00          3228    20.90  2022-04-30   \n",
       "3066       24290  2022-04-30 22:53:00          1862    41.22  2022-04-30   \n",
       "3067       59564  2022-04-30 23:29:00          3314    23.50  2022-04-30   \n",
       "3068       59565  2022-04-30 23:43:00          3401    40.60  2022-04-30   \n",
       "3069       59566  2022-04-30 23:51:00          3322    27.70  2022-04-30   \n",
       "\n",
       "        Powertrain  \n",
       "0     conventional  \n",
       "1     conventional  \n",
       "2     conventional  \n",
       "3           hybrid  \n",
       "4     conventional  \n",
       "...            ...  \n",
       "3065  conventional  \n",
       "3066  conventional  \n",
       "3067  conventional  \n",
       "3068        hybrid  \n",
       "3069  conventional  \n",
       "\n",
       "[3070 rows x 6 columns]"
      ]
     },
     "execution_count": 23,
     "metadata": {},
     "output_type": "execute_result"
    }
   ],
   "source": [
    "df_validation"
   ]
  },
  {
   "cell_type": "code",
   "execution_count": 24,
   "id": "9a89e298-918c-4020-becc-a746375f2a95",
   "metadata": {},
   "outputs": [],
   "source": [
    "df_validation['date'] = pd.to_datetime(df_validation['date'])"
   ]
  },
  {
   "cell_type": "code",
   "execution_count": 25,
   "id": "29b0484c-dd5c-45fd-afcc-09c7df968f71",
   "metadata": {},
   "outputs": [],
   "source": [
    "df_validation['dayofweek']=df_validation['date'].dt.dayofweek"
   ]
  },
  {
   "cell_type": "code",
   "execution_count": 27,
   "id": "fadf2c33-5af0-410e-b0fa-ed8c1b4d1045",
   "metadata": {},
   "outputs": [
    {
     "data": {
      "text/html": [
       "<div>\n",
       "<style scoped>\n",
       "    .dataframe tbody tr th:only-of-type {\n",
       "        vertical-align: middle;\n",
       "    }\n",
       "\n",
       "    .dataframe tbody tr th {\n",
       "        vertical-align: top;\n",
       "    }\n",
       "\n",
       "    .dataframe thead th {\n",
       "        text-align: right;\n",
       "    }\n",
       "</style>\n",
       "<table border=\"1\" class=\"dataframe\">\n",
       "  <thead>\n",
       "    <tr style=\"text-align: right;\">\n",
       "      <th></th>\n",
       "      <th>Unnamed: 0</th>\n",
       "      <th>timestamp</th>\n",
       "      <th>equipment_id</th>\n",
       "      <th>gallons</th>\n",
       "      <th>date</th>\n",
       "      <th>Powertrain</th>\n",
       "      <th>dayofweek</th>\n",
       "    </tr>\n",
       "  </thead>\n",
       "  <tbody>\n",
       "    <tr>\n",
       "      <th>0</th>\n",
       "      <td>58909</td>\n",
       "      <td>2022-03-31 00:11:00</td>\n",
       "      <td>3310</td>\n",
       "      <td>33.10</td>\n",
       "      <td>2022-03-31</td>\n",
       "      <td>conventional</td>\n",
       "      <td>3</td>\n",
       "    </tr>\n",
       "    <tr>\n",
       "      <th>1</th>\n",
       "      <td>58910</td>\n",
       "      <td>2022-03-31 00:17:00</td>\n",
       "      <td>3303</td>\n",
       "      <td>6.40</td>\n",
       "      <td>2022-03-31</td>\n",
       "      <td>conventional</td>\n",
       "      <td>3</td>\n",
       "    </tr>\n",
       "    <tr>\n",
       "      <th>2</th>\n",
       "      <td>58911</td>\n",
       "      <td>2022-03-31 00:25:00</td>\n",
       "      <td>3320</td>\n",
       "      <td>12.40</td>\n",
       "      <td>2022-03-31</td>\n",
       "      <td>conventional</td>\n",
       "      <td>3</td>\n",
       "    </tr>\n",
       "    <tr>\n",
       "      <th>3</th>\n",
       "      <td>58912</td>\n",
       "      <td>2022-03-31 00:41:00</td>\n",
       "      <td>3402</td>\n",
       "      <td>34.80</td>\n",
       "      <td>2022-03-31</td>\n",
       "      <td>hybrid</td>\n",
       "      <td>3</td>\n",
       "    </tr>\n",
       "    <tr>\n",
       "      <th>4</th>\n",
       "      <td>58913</td>\n",
       "      <td>2022-03-31 00:49:00</td>\n",
       "      <td>3226</td>\n",
       "      <td>39.40</td>\n",
       "      <td>2022-03-31</td>\n",
       "      <td>conventional</td>\n",
       "      <td>3</td>\n",
       "    </tr>\n",
       "    <tr>\n",
       "      <th>...</th>\n",
       "      <td>...</td>\n",
       "      <td>...</td>\n",
       "      <td>...</td>\n",
       "      <td>...</td>\n",
       "      <td>...</td>\n",
       "      <td>...</td>\n",
       "      <td>...</td>\n",
       "    </tr>\n",
       "    <tr>\n",
       "      <th>3065</th>\n",
       "      <td>59563</td>\n",
       "      <td>2022-04-30 22:52:00</td>\n",
       "      <td>3228</td>\n",
       "      <td>20.90</td>\n",
       "      <td>2022-04-30</td>\n",
       "      <td>conventional</td>\n",
       "      <td>5</td>\n",
       "    </tr>\n",
       "    <tr>\n",
       "      <th>3066</th>\n",
       "      <td>24290</td>\n",
       "      <td>2022-04-30 22:53:00</td>\n",
       "      <td>1862</td>\n",
       "      <td>41.22</td>\n",
       "      <td>2022-04-30</td>\n",
       "      <td>conventional</td>\n",
       "      <td>5</td>\n",
       "    </tr>\n",
       "    <tr>\n",
       "      <th>3067</th>\n",
       "      <td>59564</td>\n",
       "      <td>2022-04-30 23:29:00</td>\n",
       "      <td>3314</td>\n",
       "      <td>23.50</td>\n",
       "      <td>2022-04-30</td>\n",
       "      <td>conventional</td>\n",
       "      <td>5</td>\n",
       "    </tr>\n",
       "    <tr>\n",
       "      <th>3068</th>\n",
       "      <td>59565</td>\n",
       "      <td>2022-04-30 23:43:00</td>\n",
       "      <td>3401</td>\n",
       "      <td>40.60</td>\n",
       "      <td>2022-04-30</td>\n",
       "      <td>hybrid</td>\n",
       "      <td>5</td>\n",
       "    </tr>\n",
       "    <tr>\n",
       "      <th>3069</th>\n",
       "      <td>59566</td>\n",
       "      <td>2022-04-30 23:51:00</td>\n",
       "      <td>3322</td>\n",
       "      <td>27.70</td>\n",
       "      <td>2022-04-30</td>\n",
       "      <td>conventional</td>\n",
       "      <td>5</td>\n",
       "    </tr>\n",
       "  </tbody>\n",
       "</table>\n",
       "<p>3070 rows × 7 columns</p>\n",
       "</div>"
      ],
      "text/plain": [
       "      Unnamed: 0            timestamp  equipment_id  gallons       date  \\\n",
       "0          58909  2022-03-31 00:11:00          3310    33.10 2022-03-31   \n",
       "1          58910  2022-03-31 00:17:00          3303     6.40 2022-03-31   \n",
       "2          58911  2022-03-31 00:25:00          3320    12.40 2022-03-31   \n",
       "3          58912  2022-03-31 00:41:00          3402    34.80 2022-03-31   \n",
       "4          58913  2022-03-31 00:49:00          3226    39.40 2022-03-31   \n",
       "...          ...                  ...           ...      ...        ...   \n",
       "3065       59563  2022-04-30 22:52:00          3228    20.90 2022-04-30   \n",
       "3066       24290  2022-04-30 22:53:00          1862    41.22 2022-04-30   \n",
       "3067       59564  2022-04-30 23:29:00          3314    23.50 2022-04-30   \n",
       "3068       59565  2022-04-30 23:43:00          3401    40.60 2022-04-30   \n",
       "3069       59566  2022-04-30 23:51:00          3322    27.70 2022-04-30   \n",
       "\n",
       "        Powertrain  dayofweek  \n",
       "0     conventional          3  \n",
       "1     conventional          3  \n",
       "2     conventional          3  \n",
       "3           hybrid          3  \n",
       "4     conventional          3  \n",
       "...            ...        ...  \n",
       "3065  conventional          5  \n",
       "3066  conventional          5  \n",
       "3067  conventional          5  \n",
       "3068        hybrid          5  \n",
       "3069  conventional          5  \n",
       "\n",
       "[3070 rows x 7 columns]"
      ]
     },
     "execution_count": 27,
     "metadata": {},
     "output_type": "execute_result"
    }
   ],
   "source": [
    "df_validation"
   ]
  },
  {
   "cell_type": "code",
   "execution_count": 31,
   "id": "794c57af-0915-466a-bfee-b4625fadc51f",
   "metadata": {},
   "outputs": [
    {
     "data": {
      "text/plain": [
       "array([3, 4, 5, 6, 0, 1, 2], dtype=int64)"
      ]
     },
     "execution_count": 31,
     "metadata": {},
     "output_type": "execute_result"
    }
   ],
   "source": [
    "df_validation['dayofweek'].unique()"
   ]
  },
  {
   "cell_type": "code",
   "execution_count": 33,
   "id": "470c9dcc-561c-4a9f-99df-30d9baf2e05f",
   "metadata": {},
   "outputs": [
    {
     "data": {
      "text/plain": [
       "151"
      ]
     },
     "execution_count": 33,
     "metadata": {},
     "output_type": "execute_result"
    }
   ],
   "source": [
    "df_validation['dayofweek'].value_counts()[6]"
   ]
  },
  {
   "cell_type": "code",
   "execution_count": 34,
   "id": "3899416f-0f65-4198-ade8-fd60e382ee0f",
   "metadata": {},
   "outputs": [],
   "source": [
    "df_validation['dayofweek'].replace(0, 'MO', inplace=True)\n",
    "df_validation['dayofweek'].replace(1, 'TU', inplace=True)\n",
    "df_validation['dayofweek'].replace(2, 'WE', inplace=True)\n",
    "df_validation['dayofweek'].replace(3, 'TH', inplace=True)\n",
    "df_validation['dayofweek'].replace(4, 'FR', inplace=True)\n",
    "df_validation['dayofweek'].replace(5, 'SA', inplace=True)\n",
    "df_validation['dayofweek'].replace(6, 'SU', inplace=True)"
   ]
  },
  {
   "cell_type": "code",
   "execution_count": 36,
   "id": "c2959a6c-fee2-4c1e-807b-687284c0f6a4",
   "metadata": {},
   "outputs": [
    {
     "data": {
      "text/plain": [
       "<AxesSubplot: >"
      ]
     },
     "execution_count": 36,
     "metadata": {},
     "output_type": "execute_result"
    },
    {
     "data": {
      "image/png": "[encoded data removed]",
      "text/plain": [
       "<Figure size 640x480 with 1 Axes>"
      ]
     },
     "metadata": {},
     "output_type": "display_data"
    }
   ],
   "source": [
    "df_validation['dayofweek'].hist()"
   ]
  },
  {
   "cell_type": "code",
   "execution_count": 38,
   "id": "11413ff8-9592-4e0d-b78a-4572e0ae7b87",
   "metadata": {},
   "outputs": [
    {
     "data": {
      "text/plain": [
       "<AxesSubplot: xlabel='dayofweek', ylabel='Probability'>"
      ]
     },
     "execution_count": 38,
     "metadata": {},
     "output_type": "execute_result"
    },
    {
     "data": {
      "image/png": "[encoded data removed]",
      "text/plain": [
       "<Figure size 640x480 with 1 Axes>"
      ]
     },
     "metadata": {},
     "output_type": "display_data"
    }
   ],
   "source": [
    "seaborn.histplot(\n",
    "    data=df_validation,\n",
    "    x='dayofweek',\n",
    "    discrete=True,\n",
    "    stat='probability'\n",
    ")"
   ]
  },
  {
   "cell_type": "code",
   "execution_count": 46,
   "id": "1da6e8cc-ce11-41a3-8ecc-eec74f2d5202",
   "metadata": {},
   "outputs": [
    {
     "data": {
      "image/png": "[encoded data removed]",
      "text/plain": [
       "<Figure size 640x480 with 1 Axes>"
      ]
     },
     "metadata": {},
     "output_type": "display_data"
    }
   ],
   "source": [
    "plt.hist(df_validation['dayofweek'], weights=np.ones(len(df_validation['dayofweek'])) / len(df_validation['dayofweek']))\n",
    "\n",
    "plt.gca().yaxis.set_major_formatter(PercentFormatter(1))\n",
    "plt.show()"
   ]
  },
  {
   "cell_type": "code",
   "execution_count": 47,
   "id": "6a9cece6-0dfc-4b6c-a726-a7163dfd30b7",
   "metadata": {},
   "outputs": [
    {
     "data": {
      "text/plain": [
       "<AxesSubplot: >"
      ]
     },
     "execution_count": 47,
     "metadata": {},
     "output_type": "execute_result"
    },
    {
     "data": {
      "image/png": "[encoded data removed]",
      "text/plain": [
       "<Figure size 640x480 with 1 Axes>"
      ]
     },
     "metadata": {},
     "output_type": "display_data"
    }
   ],
   "source": [
    "df_validation['dayofweek'].value_counts().plot(kind='bar')"
   ]
  },
  {
   "cell_type": "code",
   "execution_count": 55,
   "id": "48aaf967-df16-4c88-aa85-4a2047d59fdc",
   "metadata": {},
   "outputs": [
    {
     "data": {
      "text/plain": [
       "[Text(0, 0.5, 'Percent')]"
      ]
     },
     "execution_count": 55,
     "metadata": {},
     "output_type": "execute_result"
    },
    {
     "data": {
      "image/png": "[encoded data removed]",
      "text/plain": [
       "<Figure size 640x480 with 1 Axes>"
      ]
     },
     "metadata": {},
     "output_type": "display_data"
    }
   ],
   "source": [
    "ax = seaborn.barplot(x=\"dayofweek\", y=\"gallons\", data=df_validation, estimator=lambda x: len(x) / len(df_validation) * 100, orient=\"v\")\n",
    "ax.set(ylabel=\"Percent\")"
   ]
  },
  {
   "cell_type": "code",
   "execution_count": null,
   "id": "eac186b7-9ff8-4756-a641-a2cbe0d071ef",
   "metadata": {},
   "outputs": [],
   "source": []
  }
 ],
 "metadata": {
  "kernelspec": {
   "display_name": "Python 3 (ipykernel)",
   "language": "python",
   "name": "python3"
  },
  "language_info": {
   "codemirror_mode": {
    "name": "ipython",
    "version": 3
   },
   "file_extension": ".py",
   "mimetype": "text/x-python",
   "name": "python",
   "nbconvert_exporter": "python",
   "pygments_lexer": "ipython3",
   "version": "3.11.0"
  }
 },
 "nbformat": 4,
 "nbformat_minor": 5
}
