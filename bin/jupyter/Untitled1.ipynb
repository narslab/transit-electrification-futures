{
 "cells": [
  {
   "cell_type": "code",
   "execution_count": 4,
   "id": "e03ac1eb-9766-47b2-bdc6-d492b0961670",
   "metadata": {},
   "outputs": [
    {
     "ename": "ModuleNotFoundError",
     "evalue": "No module named '_moves'",
     "output_type": "error",
     "traceback": [
      "\u001b[1;31m---------------------------------------------------------------------------\u001b[0m",
      "\u001b[1;31mModuleNotFoundError\u001b[0m                       Traceback (most recent call last)",
      "Cell \u001b[1;32mIn [4], line 2\u001b[0m\n\u001b[0;32m      1\u001b[0m \u001b[38;5;66;03m# Import the necessary modules\u001b[39;00m\n\u001b[1;32m----> 2\u001b[0m \u001b[38;5;28;01mimport\u001b[39;00m \u001b[38;5;21;01mmoves\u001b[39;00m\n\u001b[0;32m      3\u001b[0m \u001b[38;5;28;01mfrom\u001b[39;00m \u001b[38;5;21;01mmoves\u001b[39;00m \u001b[38;5;28;01mimport\u001b[39;00m io, model\n\u001b[0;32m      5\u001b[0m \u001b[38;5;66;03m# Load the MOVES dataset\u001b[39;00m\n",
      "File \u001b[1;32m~\\anaconda3\\envs\\ox\\Lib\\site-packages\\moves\\__init__.py:1\u001b[0m\n\u001b[1;32m----> 1\u001b[0m \u001b[38;5;28;01mfrom\u001b[39;00m \u001b[38;5;21;01m_moves\u001b[39;00m \u001b[38;5;28;01mimport\u001b[39;00m \u001b[38;5;241m*\u001b[39m\n",
      "\u001b[1;31mModuleNotFoundError\u001b[0m: No module named '_moves'"
     ]
    }
   ],
   "source": [
    "# Import the necessary modules\n",
    "import moves\n",
    "from moves import io, model\n",
    "\n",
    "# Load the MOVES dataset\n",
    "dataset = io.load_moves_data()\n",
    "\n",
    "# Set up a dictionary of input parameters for the NEW FLYER XDE60 (ARTIC) bus\n",
    "input_dict = {\n",
    "    'Vehicle Type': 'Transit Bus - Hybrid',\n",
    "    'Bus Technology Type': 'Diesel-Hybrid',\n",
    "    'Vehicle Model Year': 2020,\n",
    "    'Rated Horsepower': 300,\n",
    "    'Transmission Type': 'Automatic',\n",
    "    'Fuel Type': 'Diesel',\n",
    "    'Axle Configuration': 'Articulated'\n",
    "}\n",
    "\n",
    "# Set up a scenario object with the input parameters\n",
    "scenario = model.Scenario(input_dict)\n",
    "\n",
    "# Estimate emissions using the MOVES model\n",
    "results = scenario.run_moves_simulation(dataset)\n",
    "\n",
    "# Print the emissions results\n",
    "print(results.emissions)\n"
   ]
  },
  {
   "cell_type": "code",
   "execution_count": 2,
   "id": "25d6922d-e57a-4cf9-868c-a798eae33123",
   "metadata": {},
   "outputs": [
    {
     "ename": "SyntaxError",
     "evalue": "invalid syntax (3731364634.py, line 1)",
     "output_type": "error",
     "traceback": [
      "\u001b[1;36m  Cell \u001b[1;32mIn [2], line 1\u001b[1;36m\u001b[0m\n\u001b[1;33m    export PYTHONPATH=$PYTHONPATH:/c/Users/Mahsa/anaconda3/envs/ox/Lib/site-packages\u001b[0m\n\u001b[1;37m           ^\u001b[0m\n\u001b[1;31mSyntaxError\u001b[0m\u001b[1;31m:\u001b[0m invalid syntax\n"
     ]
    }
   ],
   "source": []
  },
  {
   "cell_type": "code",
   "execution_count": null,
   "id": "338c5ec5-3e9c-4b1b-b0de-8e90fbbd0727",
   "metadata": {},
   "outputs": [],
   "source": []
  }
 ],
 "metadata": {
  "kernelspec": {
   "display_name": "Python 3 (ipykernel)",
   "language": "python",
   "name": "python3"
  },
  "language_info": {
   "codemirror_mode": {
    "name": "ipython",
    "version": 3
   },
   "file_extension": ".py",
   "mimetype": "text/x-python",
   "name": "python",
   "nbconvert_exporter": "python",
   "pygments_lexer": "ipython3",
   "version": "3.11.0"
  }
 },
 "nbformat": 4,
 "nbformat_minor": 5
}
