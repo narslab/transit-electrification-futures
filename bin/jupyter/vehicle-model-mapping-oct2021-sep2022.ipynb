{
 "cells": [
  {
   "cell_type": "code",
   "execution_count": 14,
   "id": "de25208e-db4e-42c9-8c49-69b623c68e09",
   "metadata": {},
   "outputs": [],
   "source": [
    "import pandas as pd\n",
    "import matplotlib.pyplot as plt\n",
    "from matplotlib.dates import DateFormatter\n",
    "import numpy as np"
   ]
  },
  {
   "cell_type": "code",
   "execution_count": 9,
   "id": "574bfd2e-1421-46e0-aa2a-f95701a175d9",
   "metadata": {},
   "outputs": [],
   "source": [
    "df = pd.read_csv(r'../../results/computed-trajectories-Oct2021toSep2022.csv', delimiter=',', skiprows=0, low_memory=False)\n",
    "df2 = pd.read_csv(r'../../data/tidy/vehicles-summary.csv', delimiter=',', skiprows=0, low_memory=False)"
   ]
  },
  {
   "cell_type": "code",
   "execution_count": 10,
   "id": "c6c5ecf4-b0fa-473d-9b01-99a29fdfdfa8",
   "metadata": {},
   "outputs": [],
   "source": [
    "### Map powertrain\n",
    "mydict = df2.groupby('Type')['Equipment ID'].agg(list).to_dict()\n",
    "d = {val:key for key, lst in mydict.items() for val in lst}\n",
    "df['Powertrain'] = df['Vehicle'].map(d)"
   ]
  },
  {
   "cell_type": "code",
   "execution_count": 11,
   "id": "01356a1c-9958-4944-9ea2-14f421b5029d",
   "metadata": {},
   "outputs": [],
   "source": [
    "### Map vehicle models\n",
    "mydict = df2.groupby('Model')['Equipment ID'].agg(list).to_dict()\n",
    "d = {val:key for key, lst in mydict.items() for val in lst}\n",
    "df['VehicleModel'] = df['Vehicle'].map(d)"
   ]
  },
  {
   "cell_type": "code",
   "execution_count": 12,
   "id": "177876d1-5144-4fa6-82f4-22558c7b4541",
   "metadata": {},
   "outputs": [],
   "source": [
    "# Assign weights based on vehicle models\n",
    "thisdict = {\n",
    "  \"Gillig 30 \":25700,\n",
    "  \"Gillig 35\":26440,\n",
    "  \"Gillig 40\":27180,\n",
    "  \"NEW FLYER XD35\": 26900 ,\n",
    "  \"NEW FLYER XD40\": 28250 ,\n",
    "  \"NEW FLYER XDE40\": 28250 ,\n",
    "  \"NEW FLYER XDE60 (ARTIC)\": 42250 ,\n",
    "  \"NEW FLYER XE35\": 26900 ,\n",
    "  \"NEW FLYER XE40\": 32770 ,\n",
    "  \"PROTERRA CATALYST BE-40\": 27370 ,\n",
    "}\n",
    "df['VehiclWeight(lb)'] = df['VehicleModel'].map(thisdict)"
   ]
  },
  {
   "cell_type": "code",
   "execution_count": null,
   "id": "f67bdd02-e07b-4b9b-9e5d-d52d9d9139c8",
   "metadata": {},
   "outputs": [],
   "source": [
    "# map grades\n",
    "df_trajectories = df.copy()\n",
    "elevation_dict = df_elevation.set_index('stopid')['elevation'].to_dict()\n",
    "df_trajectories['elevation'] = df_trajectories['Stop'].map(elevation_dict)\n",
    "df_trajectories.sort_values(by=['Vehicle', 'ServiceDateTime'], ascending=True, inplace=True)\n",
    "\n",
    "def calculate_grade(row, prev_row):\n",
    "    if row.name == 0 or row['dist'] == 0:\n",
    "        return 0\n",
    "    elevation_diff = (row['elevation'] - prev_row['elevation']) / 1000\n",
    "    distance = row['dist'] * 1.61\n",
    "    if elevation_diff**2 < distance**2:\n",
    "        return elevation_diff / np.sqrt(distance**2 - elevation_diff**2)\n",
    "    return 0\n",
    "\n",
    "df_trajectories['grade'] = df_trajectories.apply(lambda row: calculate_grade(row, df_trajectories.shift(1).loc[row.name]), axis=1)"
   ]
  },
  {
   "cell_type": "code",
   "execution_count": null,
   "id": "fd05bc6c-fa92-46a1-8812-8d906afbc293",
   "metadata": {},
   "outputs": [],
   "source": [
    "df_trajectories"
   ]
  },
  {
   "cell_type": "code",
   "execution_count": null,
   "id": "4ac49fd7-7434-4659-b10a-0babdffff9d2",
   "metadata": {},
   "outputs": [],
   "source": [
    "# save the final data frame with mapped model and weights\n",
    "df_trajectories.to_csv('../../results/trajectories-mapped-powertrain-weight-grade-oct2021-sep2022.csv')"
   ]
  },
  {
   "cell_type": "code",
   "execution_count": null,
   "id": "ca698464-14e9-4659-b6a1-f08083a8c59e",
   "metadata": {},
   "outputs": [],
   "source": []
  }
 ],
 "metadata": {
  "kernelspec": {
   "display_name": "Python 3 (ipykernel)",
   "language": "python",
   "name": "python3"
  },
  "language_info": {
   "codemirror_mode": {
    "name": "ipython",
    "version": 3
   },
   "file_extension": ".py",
   "mimetype": "text/x-python",
   "name": "python",
   "nbconvert_exporter": "python",
   "pygments_lexer": "ipython3",
   "version": "3.11.0"
  }
 },
 "nbformat": 4,
 "nbformat_minor": 5
}
