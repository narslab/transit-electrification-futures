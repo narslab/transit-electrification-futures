{
 "cells": [
  {
   "cell_type": "code",
   "execution_count": 8,
   "id": "2618e5ec",
   "metadata": {},
   "outputs": [],
   "source": [
    "from shapely.geometry import Point\n",
    "import pandas as pd\n",
    "import matplotlib.pyplot as plt\n",
    "import matplotlib.patches as mpatches\n",
    "from haversine import haversine\n",
    "from datetime import datetime\n",
    "import seaborn as sns\n",
    "import matplotlib\n",
    "from matplotlib.pyplot import figure\n",
    "from requests import get\n",
    "from pandas import json_normalize\n",
    "#import geopandas as gpd\n",
    "#from geopandas import GeoDataFrame"
   ]
  },
  {
   "cell_type": "code",
   "execution_count": 12,
   "id": "bd59ee43-af5f-423c-a293-6b7a13033af6",
   "metadata": {},
   "outputs": [],
   "source": [
    "df = pd.read_csv('../../data/tidy/stops-lon-lat.csv', delimiter=',', low_memory=False)"
   ]
  },
  {
   "cell_type": "code",
   "execution_count": 13,
   "id": "ef065483-03db-4586-ba35-7ef07126014b",
   "metadata": {},
   "outputs": [
    {
     "data": {
      "text/html": [
       "<div>\n",
       "<style scoped>\n",
       "    .dataframe tbody tr th:only-of-type {\n",
       "        vertical-align: middle;\n",
       "    }\n",
       "\n",
       "    .dataframe tbody tr th {\n",
       "        vertical-align: top;\n",
       "    }\n",
       "\n",
       "    .dataframe thead th {\n",
       "        text-align: right;\n",
       "    }\n",
       "</style>\n",
       "<table border=\"1\" class=\"dataframe\">\n",
       "  <thead>\n",
       "    <tr style=\"text-align: right;\">\n",
       "      <th></th>\n",
       "      <th>stopid</th>\n",
       "      <th>lat</th>\n",
       "      <th>lon</th>\n",
       "    </tr>\n",
       "  </thead>\n",
       "  <tbody>\n",
       "    <tr>\n",
       "      <th>0</th>\n",
       "      <td>1</td>\n",
       "      <td>42.47704</td>\n",
       "      <td>-72.60745</td>\n",
       "    </tr>\n",
       "    <tr>\n",
       "      <th>1</th>\n",
       "      <td>2</td>\n",
       "      <td>42.47255</td>\n",
       "      <td>-72.60140</td>\n",
       "    </tr>\n",
       "    <tr>\n",
       "      <th>2</th>\n",
       "      <td>4</td>\n",
       "      <td>42.46802</td>\n",
       "      <td>-72.59544</td>\n",
       "    </tr>\n",
       "    <tr>\n",
       "      <th>3</th>\n",
       "      <td>6</td>\n",
       "      <td>42.46539</td>\n",
       "      <td>-72.57587</td>\n",
       "    </tr>\n",
       "    <tr>\n",
       "      <th>4</th>\n",
       "      <td>7</td>\n",
       "      <td>42.45935</td>\n",
       "      <td>-72.57845</td>\n",
       "    </tr>\n",
       "    <tr>\n",
       "      <th>...</th>\n",
       "      <td>...</td>\n",
       "      <td>...</td>\n",
       "      <td>...</td>\n",
       "    </tr>\n",
       "    <tr>\n",
       "      <th>1843</th>\n",
       "      <td>11144</td>\n",
       "      <td>42.20812</td>\n",
       "      <td>-72.60650</td>\n",
       "    </tr>\n",
       "    <tr>\n",
       "      <th>1844</th>\n",
       "      <td>11701</td>\n",
       "      <td>42.37166</td>\n",
       "      <td>-72.48001</td>\n",
       "    </tr>\n",
       "    <tr>\n",
       "      <th>1845</th>\n",
       "      <td>12601</td>\n",
       "      <td>42.36747</td>\n",
       "      <td>-72.47976</td>\n",
       "    </tr>\n",
       "    <tr>\n",
       "      <th>1846</th>\n",
       "      <td>12901</td>\n",
       "      <td>42.36507</td>\n",
       "      <td>-72.48429</td>\n",
       "    </tr>\n",
       "    <tr>\n",
       "      <th>1847</th>\n",
       "      <td>13101</td>\n",
       "      <td>42.36330</td>\n",
       "      <td>-72.48833</td>\n",
       "    </tr>\n",
       "  </tbody>\n",
       "</table>\n",
       "<p>1848 rows × 3 columns</p>\n",
       "</div>"
      ],
      "text/plain": [
       "      stopid       lat       lon\n",
       "0          1  42.47704 -72.60745\n",
       "1          2  42.47255 -72.60140\n",
       "2          4  42.46802 -72.59544\n",
       "3          6  42.46539 -72.57587\n",
       "4          7  42.45935 -72.57845\n",
       "...      ...       ...       ...\n",
       "1843   11144  42.20812 -72.60650\n",
       "1844   11701  42.37166 -72.48001\n",
       "1845   12601  42.36747 -72.47976\n",
       "1846   12901  42.36507 -72.48429\n",
       "1847   13101  42.36330 -72.48833\n",
       "\n",
       "[1848 rows x 3 columns]"
      ]
     },
     "execution_count": 13,
     "metadata": {},
     "output_type": "execute_result"
    }
   ],
   "source": [
    "df"
   ]
  },
  {
   "cell_type": "code",
   "execution_count": 26,
   "id": "885853ac-4bf0-498a-9bec-92d48d5a500e",
   "metadata": {},
   "outputs": [],
   "source": [
    "def get_elevation(lat = None, lon = None):\n",
    "    '''\n",
    "        script for returning elevation in m from lat, long\n",
    "    '''\n",
    "    if lat is None or lon is None: return None\n",
    "    \n",
    "    query = ('https://api.open-elevation.com/api/v1/lookup'\n",
    "             f'?locations={lat},{lon}')\n",
    "    \n",
    "    # Request with a timeout for slow responses\n",
    "    r = get(query, timeout = 20)\n",
    "\n",
    "    # Only get the json response in case of 200 or 201\n",
    "    if r.status_code == 200 or r.status_code == 201:\n",
    "        elevation = json_normalize(r.json(), 'results')['elevation'].values[0]\n",
    "    else: \n",
    "        elevation = None\n",
    "    return elevation"
   ]
  },
  {
   "cell_type": "code",
   "execution_count": 18,
   "id": "6a96246b-019f-4747-9f6e-f815cccd6602",
   "metadata": {},
   "outputs": [
    {
     "data": {
      "text/plain": [
       "-72.6014"
      ]
     },
     "execution_count": 18,
     "metadata": {},
     "output_type": "execute_result"
    }
   ],
   "source": [
    "df.loc[1,'lon']"
   ]
  },
  {
   "cell_type": "code",
   "execution_count": null,
   "id": "2f168bd7-a92f-465a-b31f-18c7263ba3f5",
   "metadata": {},
   "outputs": [],
   "source": [
    "df.to"
   ]
  },
  {
   "cell_type": "code",
   "execution_count": 28,
   "id": "4d347190-a35d-4660-a391-12517eecfc4b",
   "metadata": {},
   "outputs": [],
   "source": [
    "for i in df.index[1:5]:\n",
    "    elevation = get_elevation(lat = df.loc[i , 'lat'], lon = df.loc[i , 'lon'])\n",
    "    df.at[i, 'elevation'] = elevation"
   ]
  },
  {
   "cell_type": "code",
   "execution_count": 29,
   "id": "a9a583d3-bbb8-49a4-abcd-5d93ad9cd0fb",
   "metadata": {},
   "outputs": [
    {
     "data": {
      "text/html": [
       "<div>\n",
       "<style scoped>\n",
       "    .dataframe tbody tr th:only-of-type {\n",
       "        vertical-align: middle;\n",
       "    }\n",
       "\n",
       "    .dataframe tbody tr th {\n",
       "        vertical-align: top;\n",
       "    }\n",
       "\n",
       "    .dataframe thead th {\n",
       "        text-align: right;\n",
       "    }\n",
       "</style>\n",
       "<table border=\"1\" class=\"dataframe\">\n",
       "  <thead>\n",
       "    <tr style=\"text-align: right;\">\n",
       "      <th></th>\n",
       "      <th>stopid</th>\n",
       "      <th>lat</th>\n",
       "      <th>lon</th>\n",
       "      <th>elevation</th>\n",
       "    </tr>\n",
       "  </thead>\n",
       "  <tbody>\n",
       "    <tr>\n",
       "      <th>0</th>\n",
       "      <td>1</td>\n",
       "      <td>42.47704</td>\n",
       "      <td>-72.60745</td>\n",
       "      <td>NaN</td>\n",
       "    </tr>\n",
       "    <tr>\n",
       "      <th>1</th>\n",
       "      <td>2</td>\n",
       "      <td>42.47255</td>\n",
       "      <td>-72.60140</td>\n",
       "      <td>67.0</td>\n",
       "    </tr>\n",
       "    <tr>\n",
       "      <th>2</th>\n",
       "      <td>4</td>\n",
       "      <td>42.46802</td>\n",
       "      <td>-72.59544</td>\n",
       "      <td>66.0</td>\n",
       "    </tr>\n",
       "    <tr>\n",
       "      <th>3</th>\n",
       "      <td>6</td>\n",
       "      <td>42.46539</td>\n",
       "      <td>-72.57587</td>\n",
       "      <td>42.0</td>\n",
       "    </tr>\n",
       "    <tr>\n",
       "      <th>4</th>\n",
       "      <td>7</td>\n",
       "      <td>42.45935</td>\n",
       "      <td>-72.57845</td>\n",
       "      <td>46.0</td>\n",
       "    </tr>\n",
       "  </tbody>\n",
       "</table>\n",
       "</div>"
      ],
      "text/plain": [
       "   stopid       lat       lon  elevation\n",
       "0       1  42.47704 -72.60745        NaN\n",
       "1       2  42.47255 -72.60140       67.0\n",
       "2       4  42.46802 -72.59544       66.0\n",
       "3       6  42.46539 -72.57587       42.0\n",
       "4       7  42.45935 -72.57845       46.0"
      ]
     },
     "execution_count": 29,
     "metadata": {},
     "output_type": "execute_result"
    }
   ],
   "source": [
    "df.head()"
   ]
  },
  {
   "cell_type": "code",
   "execution_count": 36,
   "id": "c8e9f734-b6d8-4612-b5f3-99173c1e3bff",
   "metadata": {},
   "outputs": [],
   "source": [
    "df.to_csv('../../results/stop-elevations.csv',index=False)"
   ]
  },
  {
   "cell_type": "code",
   "execution_count": 35,
   "id": "c328e791-25c3-43ed-b0c7-baed76b640bc",
   "metadata": {},
   "outputs": [
    {
     "name": "stdout",
     "output_type": "stream",
     "text": [
      "Object `to_csv()` not found.\n"
     ]
    }
   ],
   "source": []
  }
 ],
 "metadata": {
  "kernelspec": {
   "display_name": "Python 3 (ipykernel)",
   "language": "python",
   "name": "python3"
  },
  "language_info": {
   "codemirror_mode": {
    "name": "ipython",
    "version": 3
   },
   "file_extension": ".py",
   "mimetype": "text/x-python",
   "name": "python",
   "nbconvert_exporter": "python",
   "pygments_lexer": "ipython3",
   "version": "3.9.13"
  }
 },
 "nbformat": 4,
 "nbformat_minor": 5
}
