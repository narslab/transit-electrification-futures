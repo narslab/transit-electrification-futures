{
 "cells": [
  {
   "cell_type": "code",
   "execution_count": 2,
   "id": "92b73b88-dcbb-456c-b454-1183e49b8a31",
   "metadata": {},
   "outputs": [],
   "source": [
    "import pandas as pd\n",
    "import matplotlib.pyplot as plt\n",
    "import seaborn as sns\n",
    "import numpy as np"
   ]
  },
  {
   "cell_type": "code",
   "execution_count": 3,
   "id": "580ee7d2-297e-4bef-bf19-f7d187837927",
   "metadata": {},
   "outputs": [],
   "source": [
    "df = pd.read_csv(r'../../results/calibration-grid-search-BEB-oct2021-sep2022_01072024.csv', delimiter=',', skiprows=0, low_memory=False)"
   ]
  },
  {
   "cell_type": "code",
   "execution_count": 4,
   "id": "260d6227-4ec1-4a93-b754-91b82f13b8ad",
   "metadata": {},
   "outputs": [
    {
     "data": {
      "text/html": [
       "<div>\n",
       "<style scoped>\n",
       "    .dataframe tbody tr th:only-of-type {\n",
       "        vertical-align: middle;\n",
       "    }\n",
       "\n",
       "    .dataframe tbody tr th {\n",
       "        vertical-align: top;\n",
       "    }\n",
       "\n",
       "    .dataframe thead th {\n",
       "        text-align: right;\n",
       "    }\n",
       "</style>\n",
       "<table border=\"1\" class=\"dataframe\">\n",
       "  <thead>\n",
       "    <tr style=\"text-align: right;\">\n",
       "      <th></th>\n",
       "      <th>Unnamed: 0</th>\n",
       "      <th>parameter1_values</th>\n",
       "      <th>parameter2_values</th>\n",
       "      <th>parameter3_values</th>\n",
       "      <th>eta_rb</th>\n",
       "      <th>RMSE_Energy_train</th>\n",
       "      <th>MAPE_Energy_train</th>\n",
       "    </tr>\n",
       "  </thead>\n",
       "  <tbody>\n",
       "    <tr>\n",
       "      <th>0</th>\n",
       "      <td>0</td>\n",
       "      <td>0.0411</td>\n",
       "      <td>0.91</td>\n",
       "      <td>0.92</td>\n",
       "      <td>19908       1.000000\\n19909       1.000000\\n19...</td>\n",
       "      <td>74.075464</td>\n",
       "      <td>0.503277</td>\n",
       "    </tr>\n",
       "  </tbody>\n",
       "</table>\n",
       "</div>"
      ],
      "text/plain": [
       "   Unnamed: 0  parameter1_values  parameter2_values  parameter3_values  \\\n",
       "0           0             0.0411               0.91               0.92   \n",
       "\n",
       "                                              eta_rb  RMSE_Energy_train  \\\n",
       "0  19908       1.000000\\n19909       1.000000\\n19...          74.075464   \n",
       "\n",
       "   MAPE_Energy_train  \n",
       "0           0.503277  "
      ]
     },
     "execution_count": 4,
     "metadata": {},
     "output_type": "execute_result"
    }
   ],
   "source": [
    "df"
   ]
  },
  {
   "cell_type": "code",
   "execution_count": 6,
   "id": "b6f822aa-9132-4a36-9443-d140ba08aefa",
   "metadata": {},
   "outputs": [
    {
     "name": "stdout",
     "output_type": "stream",
     "text": [
      "Non-numeric value found and ignored: ...\n",
      "Non-numeric value found and ignored: Name:\n",
      "Non-numeric value found and ignored: Acceleration,\n",
      "Non-numeric value found and ignored: Length:\n",
      "Non-numeric value found and ignored: 504831,\n",
      "Non-numeric value found and ignored: dtype:\n",
      "Non-numeric value found and ignored: float64\n"
     ]
    },
    {
     "data": {
      "image/png": "[encoded data removed]",
      "text/plain": [
       "<Figure size 432x288 with 1 Axes>"
      ]
     },
     "metadata": {
      "needs_background": "light"
     },
     "output_type": "display_data"
    }
   ],
   "source": [
    "# Initialize an empty list to hold all numeric values\n",
    "eta_rb_list = []\n",
    "\n",
    "# Iterate over each row in the dataframe\n",
    "for index, row in df.iterrows():\n",
    "    # Split the string into parts based on spaces and new lines, then iterate through the parts\n",
    "    for part in row['eta_rb'].replace('\\n', ' ').split():\n",
    "        try:\n",
    "            # Attempt to convert each part to a float and append to the list\n",
    "            eta_rb_list.append(float(part))\n",
    "        except ValueError:\n",
    "            # If a part is not a number, print it and ignore\n",
    "            print(f\"Non-numeric value found and ignored: {part}\")\n",
    "\n",
    "# Once all numbers are collected, plot the histogram\n",
    "plt.hist(eta_rb_list, bins=20)\n",
    "plt.title('Histogram of eta_rb')\n",
    "plt.xlabel('Value')\n",
    "plt.ylabel('Frequency')\n",
    "plt.show()"
   ]
  },
  {
   "cell_type": "code",
   "execution_count": 7,
   "id": "ebaab5b4-9154-406c-8765-bbe5ab4d537d",
   "metadata": {},
   "outputs": [
    {
     "data": {
      "text/plain": [
       "[19908.0,\n",
       " 1.0,\n",
       " 19909.0,\n",
       " 1.0,\n",
       " 19910.0,\n",
       " 1.0,\n",
       " 19911.0,\n",
       " 1.0,\n",
       " 19912.0,\n",
       " 1.0,\n",
       " 14980965.0,\n",
       " 0.31488,\n",
       " 14980966.0,\n",
       " 0.004409,\n",
       " 14980967.0,\n",
       " 0.037417,\n",
       " 14980968.0,\n",
       " 1.0,\n",
       " 14980969.0,\n",
       " 1.0]"
      ]
     },
     "execution_count": 7,
     "metadata": {},
     "output_type": "execute_result"
    }
   ],
   "source": [
    "eta_rb_list"
   ]
  },
  {
   "cell_type": "code",
   "execution_count": null,
   "id": "03a2078c-2b64-497b-90d9-57e6009920bb",
   "metadata": {},
   "outputs": [],
   "source": []
  }
 ],
 "metadata": {
  "kernelspec": {
   "display_name": "Python 3 (ipykernel)",
   "language": "python",
   "name": "python3"
  },
  "language_info": {
   "codemirror_mode": {
    "name": "ipython",
    "version": 3
   },
   "file_extension": ".py",
   "mimetype": "text/x-python",
   "name": "python",
   "nbconvert_exporter": "python",
   "pygments_lexer": "ipython3",
   "version": "3.9.12"
  }
 },
 "nbformat": 4,
 "nbformat_minor": 5
}
