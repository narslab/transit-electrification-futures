{
 "cells": [
  {
   "cell_type": "code",
   "execution_count": 19,
   "id": "119e630a-bee6-4e6c-8493-ce1866a3381f",
   "metadata": {},
   "outputs": [],
   "source": [
    "import pandas as pd\n",
    "import matplotlib.pyplot as plt"
   ]
  },
  {
   "cell_type": "code",
   "execution_count": 20,
   "id": "6ee9600c-9653-46e1-9bcb-db569ca17156",
   "metadata": {},
   "outputs": [],
   "source": [
    "xls = pd.ExcelFile(r'../../data/raw/PVTA Vehicles.xlsx')"
   ]
  },
  {
   "cell_type": "code",
   "execution_count": 21,
   "id": "1421f6c9-c7d5-4509-acca-36342e38dcfc",
   "metadata": {},
   "outputs": [],
   "source": [
    "df1 = pd.read_excel(xls, 'DimVehicle')\n",
    "df2 = pd.read_excel(xls, 'Active Vehicles')\n",
    "df3 = pd.read_excel(xls, 'Active Vehicle Summary')\n",
    "df4 = pd.read_excel(xls, 'Vehicle Summary from Fall 2021 ')"
   ]
  },
  {
   "cell_type": "code",
   "execution_count": 22,
   "id": "bf727f2a",
   "metadata": {},
   "outputs": [
    {
     "data": {
      "text/html": [
       "<div>\n",
       "<style scoped>\n",
       "    .dataframe tbody tr th:only-of-type {\n",
       "        vertical-align: middle;\n",
       "    }\n",
       "\n",
       "    .dataframe tbody tr th {\n",
       "        vertical-align: top;\n",
       "    }\n",
       "\n",
       "    .dataframe thead th {\n",
       "        text-align: right;\n",
       "    }\n",
       "</style>\n",
       "<table border=\"1\" class=\"dataframe\">\n",
       "  <thead>\n",
       "    <tr style=\"text-align: right;\">\n",
       "      <th></th>\n",
       "      <th>VehicleKey</th>\n",
       "      <th>VehicleRecordID</th>\n",
       "      <th>TransitAuthorityKey</th>\n",
       "      <th>ActiveDate</th>\n",
       "      <th>DeleteDate</th>\n",
       "      <th>VehicleActive</th>\n",
       "      <th>VehicleActiveDesc</th>\n",
       "      <th>VehicleFareboxID</th>\n",
       "      <th>VehicleReportLabel</th>\n",
       "      <th>VehicleDesc</th>\n",
       "      <th>...</th>\n",
       "      <th>HasMDC</th>\n",
       "      <th>HasAPC</th>\n",
       "      <th>HasAnnunciator</th>\n",
       "      <th>HasVoice</th>\n",
       "      <th>HasData</th>\n",
       "      <th>HasJ1939</th>\n",
       "      <th>HasVoip</th>\n",
       "      <th>HasVideoTagging</th>\n",
       "      <th>UniqueVehicleInternalId</th>\n",
       "      <th>ExcludeInd</th>\n",
       "    </tr>\n",
       "  </thead>\n",
       "  <tbody>\n",
       "    <tr>\n",
       "      <th>0</th>\n",
       "      <td>-1</td>\n",
       "      <td>-1</td>\n",
       "      <td>-1</td>\n",
       "      <td>NaN</td>\n",
       "      <td>NaN</td>\n",
       "      <td>NaN</td>\n",
       "      <td>NaN</td>\n",
       "      <td>NaN</td>\n",
       "      <td>Unknown</td>\n",
       "      <td>Unknown</td>\n",
       "      <td>...</td>\n",
       "      <td>0</td>\n",
       "      <td>0</td>\n",
       "      <td>0</td>\n",
       "      <td>0</td>\n",
       "      <td>0</td>\n",
       "      <td>0</td>\n",
       "      <td>0</td>\n",
       "      <td>0</td>\n",
       "      <td>-1</td>\n",
       "      <td>0</td>\n",
       "    </tr>\n",
       "    <tr>\n",
       "      <th>1</th>\n",
       "      <td>1000</td>\n",
       "      <td>0</td>\n",
       "      <td>1</td>\n",
       "      <td>2010-03-25 15:37:39.200</td>\n",
       "      <td>NaN</td>\n",
       "      <td>0.0</td>\n",
       "      <td>Not Active</td>\n",
       "      <td>0.0</td>\n",
       "      <td>(X) Undefined</td>\n",
       "      <td>NaN</td>\n",
       "      <td>...</td>\n",
       "      <td>0</td>\n",
       "      <td>0</td>\n",
       "      <td>0</td>\n",
       "      <td>0</td>\n",
       "      <td>0</td>\n",
       "      <td>0</td>\n",
       "      <td>0</td>\n",
       "      <td>0</td>\n",
       "      <td>1000</td>\n",
       "      <td>0</td>\n",
       "    </tr>\n",
       "    <tr>\n",
       "      <th>2</th>\n",
       "      <td>1001</td>\n",
       "      <td>1</td>\n",
       "      <td>1</td>\n",
       "      <td>2010-03-26 11:20:55.847</td>\n",
       "      <td>2010-09-01 17:44:30.010</td>\n",
       "      <td>0.0</td>\n",
       "      <td>Not Active</td>\n",
       "      <td>7121.0</td>\n",
       "      <td>(X) 7121</td>\n",
       "      <td>7121</td>\n",
       "      <td>...</td>\n",
       "      <td>0</td>\n",
       "      <td>0</td>\n",
       "      <td>0</td>\n",
       "      <td>0</td>\n",
       "      <td>0</td>\n",
       "      <td>0</td>\n",
       "      <td>0</td>\n",
       "      <td>0</td>\n",
       "      <td>0</td>\n",
       "      <td>0</td>\n",
       "    </tr>\n",
       "    <tr>\n",
       "      <th>3</th>\n",
       "      <td>1002</td>\n",
       "      <td>2</td>\n",
       "      <td>1</td>\n",
       "      <td>2010-03-26 11:21:05.313</td>\n",
       "      <td>2012-10-04 11:50:06.160</td>\n",
       "      <td>0.0</td>\n",
       "      <td>Not Active</td>\n",
       "      <td>7123.0</td>\n",
       "      <td>(X) 7123</td>\n",
       "      <td>7123</td>\n",
       "      <td>...</td>\n",
       "      <td>0</td>\n",
       "      <td>0</td>\n",
       "      <td>0</td>\n",
       "      <td>1</td>\n",
       "      <td>1</td>\n",
       "      <td>0</td>\n",
       "      <td>0</td>\n",
       "      <td>0</td>\n",
       "      <td>0</td>\n",
       "      <td>0</td>\n",
       "    </tr>\n",
       "    <tr>\n",
       "      <th>4</th>\n",
       "      <td>1003</td>\n",
       "      <td>3</td>\n",
       "      <td>1</td>\n",
       "      <td>2010-03-26 11:21:13.547</td>\n",
       "      <td>2012-05-15 15:21:56.197</td>\n",
       "      <td>0.0</td>\n",
       "      <td>Not Active</td>\n",
       "      <td>7126.0</td>\n",
       "      <td>(X) 7126</td>\n",
       "      <td>7126</td>\n",
       "      <td>...</td>\n",
       "      <td>0</td>\n",
       "      <td>0</td>\n",
       "      <td>0</td>\n",
       "      <td>0</td>\n",
       "      <td>0</td>\n",
       "      <td>0</td>\n",
       "      <td>0</td>\n",
       "      <td>0</td>\n",
       "      <td>0</td>\n",
       "      <td>0</td>\n",
       "    </tr>\n",
       "  </tbody>\n",
       "</table>\n",
       "<p>5 rows × 38 columns</p>\n",
       "</div>"
      ],
      "text/plain": [
       "   VehicleKey  VehicleRecordID  TransitAuthorityKey               ActiveDate  \\\n",
       "0          -1               -1                   -1                      NaN   \n",
       "1        1000                0                    1  2010-03-25 15:37:39.200   \n",
       "2        1001                1                    1  2010-03-26 11:20:55.847   \n",
       "3        1002                2                    1  2010-03-26 11:21:05.313   \n",
       "4        1003                3                    1  2010-03-26 11:21:13.547   \n",
       "\n",
       "                DeleteDate  VehicleActive VehicleActiveDesc  VehicleFareboxID  \\\n",
       "0                      NaN            NaN               NaN               NaN   \n",
       "1                      NaN            0.0        Not Active               0.0   \n",
       "2  2010-09-01 17:44:30.010            0.0        Not Active            7121.0   \n",
       "3  2012-10-04 11:50:06.160            0.0        Not Active            7123.0   \n",
       "4  2012-05-15 15:21:56.197            0.0        Not Active            7126.0   \n",
       "\n",
       "  VehicleReportLabel VehicleDesc  ...  HasMDC HasAPC HasAnnunciator  HasVoice  \\\n",
       "0            Unknown     Unknown  ...       0      0              0         0   \n",
       "1      (X) Undefined         NaN  ...       0      0              0         0   \n",
       "2           (X) 7121        7121  ...       0      0              0         0   \n",
       "3           (X) 7123        7123  ...       0      0              0         1   \n",
       "4           (X) 7126        7126  ...       0      0              0         0   \n",
       "\n",
       "   HasData  HasJ1939  HasVoip  HasVideoTagging  UniqueVehicleInternalId  \\\n",
       "0        0         0        0                0                       -1   \n",
       "1        0         0        0                0                     1000   \n",
       "2        0         0        0                0                        0   \n",
       "3        1         0        0                0                        0   \n",
       "4        0         0        0                0                        0   \n",
       "\n",
       "   ExcludeInd  \n",
       "0           0  \n",
       "1           0  \n",
       "2           0  \n",
       "3           0  \n",
       "4           0  \n",
       "\n",
       "[5 rows x 38 columns]"
      ]
     },
     "execution_count": 22,
     "metadata": {},
     "output_type": "execute_result"
    }
   ],
   "source": [
    "df1.head()"
   ]
  },
  {
   "cell_type": "code",
   "execution_count": 23,
   "id": "3ef6943b",
   "metadata": {},
   "outputs": [
    {
     "data": {
      "text/html": [
       "<div>\n",
       "<style scoped>\n",
       "    .dataframe tbody tr th:only-of-type {\n",
       "        vertical-align: middle;\n",
       "    }\n",
       "\n",
       "    .dataframe tbody tr th {\n",
       "        vertical-align: top;\n",
       "    }\n",
       "\n",
       "    .dataframe thead th {\n",
       "        text-align: right;\n",
       "    }\n",
       "</style>\n",
       "<table border=\"1\" class=\"dataframe\">\n",
       "  <thead>\n",
       "    <tr style=\"text-align: right;\">\n",
       "      <th></th>\n",
       "      <th>VehicleKey</th>\n",
       "      <th>VehicleRecordID</th>\n",
       "      <th>TransitAuthorityKey</th>\n",
       "      <th>ActiveDate</th>\n",
       "      <th>DeleteDate</th>\n",
       "      <th>VehicleActive</th>\n",
       "      <th>VehicleActiveDesc</th>\n",
       "      <th>VehicleFareboxID</th>\n",
       "      <th>VehicleReportLabel</th>\n",
       "      <th>VehicleDesc</th>\n",
       "      <th>...</th>\n",
       "      <th>HasMDC</th>\n",
       "      <th>HasAPC</th>\n",
       "      <th>HasAnnunciator</th>\n",
       "      <th>HasVoice</th>\n",
       "      <th>HasData</th>\n",
       "      <th>HasJ1939</th>\n",
       "      <th>HasVoip</th>\n",
       "      <th>HasVideoTagging</th>\n",
       "      <th>UniqueVehicleInternalId</th>\n",
       "      <th>ExcludeInd</th>\n",
       "    </tr>\n",
       "  </thead>\n",
       "  <tbody>\n",
       "    <tr>\n",
       "      <th>0</th>\n",
       "      <td>1808</td>\n",
       "      <td>57</td>\n",
       "      <td>1</td>\n",
       "      <td>2018-08-01 08:45:39.657</td>\n",
       "      <td>NaN</td>\n",
       "      <td>1</td>\n",
       "      <td>Active</td>\n",
       "      <td>1407</td>\n",
       "      <td>1407</td>\n",
       "      <td>NaN</td>\n",
       "      <td>...</td>\n",
       "      <td>0</td>\n",
       "      <td>0</td>\n",
       "      <td>0</td>\n",
       "      <td>1</td>\n",
       "      <td>1</td>\n",
       "      <td>0</td>\n",
       "      <td>0</td>\n",
       "      <td>0</td>\n",
       "      <td>0</td>\n",
       "      <td>0</td>\n",
       "    </tr>\n",
       "    <tr>\n",
       "      <th>1</th>\n",
       "      <td>3103</td>\n",
       "      <td>282</td>\n",
       "      <td>2</td>\n",
       "      <td>2021-06-14 13:18:37.577</td>\n",
       "      <td>NaN</td>\n",
       "      <td>1</td>\n",
       "      <td>Active</td>\n",
       "      <td>1860</td>\n",
       "      <td>1860</td>\n",
       "      <td>2021 New Flyer</td>\n",
       "      <td>...</td>\n",
       "      <td>0</td>\n",
       "      <td>1</td>\n",
       "      <td>1</td>\n",
       "      <td>1</td>\n",
       "      <td>1</td>\n",
       "      <td>0</td>\n",
       "      <td>0</td>\n",
       "      <td>0</td>\n",
       "      <td>3103</td>\n",
       "      <td>0</td>\n",
       "    </tr>\n",
       "    <tr>\n",
       "      <th>2</th>\n",
       "      <td>3104</td>\n",
       "      <td>283</td>\n",
       "      <td>2</td>\n",
       "      <td>2021-06-14 13:18:59.120</td>\n",
       "      <td>NaN</td>\n",
       "      <td>1</td>\n",
       "      <td>Active</td>\n",
       "      <td>1861</td>\n",
       "      <td>1861</td>\n",
       "      <td>2021 New Flyer</td>\n",
       "      <td>...</td>\n",
       "      <td>0</td>\n",
       "      <td>1</td>\n",
       "      <td>1</td>\n",
       "      <td>1</td>\n",
       "      <td>1</td>\n",
       "      <td>0</td>\n",
       "      <td>0</td>\n",
       "      <td>0</td>\n",
       "      <td>3104</td>\n",
       "      <td>0</td>\n",
       "    </tr>\n",
       "    <tr>\n",
       "      <th>3</th>\n",
       "      <td>3116</td>\n",
       "      <td>286</td>\n",
       "      <td>2</td>\n",
       "      <td>2021-06-22 09:40:00.130</td>\n",
       "      <td>NaN</td>\n",
       "      <td>1</td>\n",
       "      <td>Active</td>\n",
       "      <td>1722</td>\n",
       "      <td>1722</td>\n",
       "      <td>2021 bus</td>\n",
       "      <td>...</td>\n",
       "      <td>0</td>\n",
       "      <td>1</td>\n",
       "      <td>1</td>\n",
       "      <td>1</td>\n",
       "      <td>1</td>\n",
       "      <td>0</td>\n",
       "      <td>0</td>\n",
       "      <td>0</td>\n",
       "      <td>3116</td>\n",
       "      <td>0</td>\n",
       "    </tr>\n",
       "    <tr>\n",
       "      <th>4</th>\n",
       "      <td>3117</td>\n",
       "      <td>287</td>\n",
       "      <td>2</td>\n",
       "      <td>2021-06-22 09:40:24.203</td>\n",
       "      <td>NaN</td>\n",
       "      <td>1</td>\n",
       "      <td>Active</td>\n",
       "      <td>1723</td>\n",
       "      <td>1723</td>\n",
       "      <td>2021 bus</td>\n",
       "      <td>...</td>\n",
       "      <td>0</td>\n",
       "      <td>1</td>\n",
       "      <td>1</td>\n",
       "      <td>1</td>\n",
       "      <td>1</td>\n",
       "      <td>0</td>\n",
       "      <td>0</td>\n",
       "      <td>0</td>\n",
       "      <td>3117</td>\n",
       "      <td>0</td>\n",
       "    </tr>\n",
       "  </tbody>\n",
       "</table>\n",
       "<p>5 rows × 38 columns</p>\n",
       "</div>"
      ],
      "text/plain": [
       "   VehicleKey  VehicleRecordID  TransitAuthorityKey               ActiveDate  \\\n",
       "0        1808               57                    1  2018-08-01 08:45:39.657   \n",
       "1        3103              282                    2  2021-06-14 13:18:37.577   \n",
       "2        3104              283                    2  2021-06-14 13:18:59.120   \n",
       "3        3116              286                    2  2021-06-22 09:40:00.130   \n",
       "4        3117              287                    2  2021-06-22 09:40:24.203   \n",
       "\n",
       "   DeleteDate  VehicleActive VehicleActiveDesc  VehicleFareboxID  \\\n",
       "0         NaN              1            Active              1407   \n",
       "1         NaN              1            Active              1860   \n",
       "2         NaN              1            Active              1861   \n",
       "3         NaN              1            Active              1722   \n",
       "4         NaN              1            Active              1723   \n",
       "\n",
       "  VehicleReportLabel     VehicleDesc  ...  HasMDC HasAPC HasAnnunciator  \\\n",
       "0               1407             NaN  ...       0      0              0   \n",
       "1               1860  2021 New Flyer  ...       0      1              1   \n",
       "2               1861  2021 New Flyer  ...       0      1              1   \n",
       "3               1722        2021 bus  ...       0      1              1   \n",
       "4               1723        2021 bus  ...       0      1              1   \n",
       "\n",
       "   HasVoice  HasData  HasJ1939  HasVoip  HasVideoTagging  \\\n",
       "0         1        1         0        0                0   \n",
       "1         1        1         0        0                0   \n",
       "2         1        1         0        0                0   \n",
       "3         1        1         0        0                0   \n",
       "4         1        1         0        0                0   \n",
       "\n",
       "   UniqueVehicleInternalId  ExcludeInd  \n",
       "0                        0           0  \n",
       "1                     3103           0  \n",
       "2                     3104           0  \n",
       "3                     3116           0  \n",
       "4                     3117           0  \n",
       "\n",
       "[5 rows x 38 columns]"
      ]
     },
     "execution_count": 23,
     "metadata": {},
     "output_type": "execute_result"
    }
   ],
   "source": [
    "df2.head()"
   ]
  },
  {
   "cell_type": "code",
   "execution_count": 24,
   "id": "93164101",
   "metadata": {},
   "outputs": [
    {
     "data": {
      "text/html": [
       "<div>\n",
       "<style scoped>\n",
       "    .dataframe tbody tr th:only-of-type {\n",
       "        vertical-align: middle;\n",
       "    }\n",
       "\n",
       "    .dataframe tbody tr th {\n",
       "        vertical-align: top;\n",
       "    }\n",
       "\n",
       "    .dataframe thead th {\n",
       "        text-align: right;\n",
       "    }\n",
       "</style>\n",
       "<table border=\"1\" class=\"dataframe\">\n",
       "  <thead>\n",
       "    <tr style=\"text-align: right;\">\n",
       "      <th></th>\n",
       "      <th>VehicleDesc</th>\n",
       "      <th>FleetGroupDesc</th>\n",
       "      <th>VehicleFareboxID</th>\n",
       "      <th>SeatingCapacity</th>\n",
       "      <th>TotalCapacity</th>\n",
       "      <th>LastOdometer (5/10/22, before 9:00AM)</th>\n",
       "    </tr>\n",
       "  </thead>\n",
       "  <tbody>\n",
       "    <tr>\n",
       "      <th>0</th>\n",
       "      <td>N - D4 - 11 Ford E350 - Cam-SD</td>\n",
       "      <td>Paratransit</td>\n",
       "      <td>5583</td>\n",
       "      <td>NaN</td>\n",
       "      <td>NaN</td>\n",
       "      <td>143748581</td>\n",
       "    </tr>\n",
       "    <tr>\n",
       "      <th>1</th>\n",
       "      <td>2006 GILLIG LowFloor</td>\n",
       "      <td>Fixed Route</td>\n",
       "      <td>1515</td>\n",
       "      <td>32.0</td>\n",
       "      <td>40.0</td>\n",
       "      <td>999999</td>\n",
       "    </tr>\n",
       "    <tr>\n",
       "      <th>2</th>\n",
       "      <td>2016 Van</td>\n",
       "      <td>Paratransit</td>\n",
       "      <td>5692</td>\n",
       "      <td>NaN</td>\n",
       "      <td>NaN</td>\n",
       "      <td>973862</td>\n",
       "    </tr>\n",
       "    <tr>\n",
       "      <th>3</th>\n",
       "      <td>2014 Ford Van</td>\n",
       "      <td>Paratransit</td>\n",
       "      <td>5647</td>\n",
       "      <td>NaN</td>\n",
       "      <td>NaN</td>\n",
       "      <td>654774</td>\n",
       "    </tr>\n",
       "    <tr>\n",
       "      <th>4</th>\n",
       "      <td>Maint test bench</td>\n",
       "      <td>Fixed Route</td>\n",
       "      <td>1508</td>\n",
       "      <td>32.0</td>\n",
       "      <td>40.0</td>\n",
       "      <td>484222</td>\n",
       "    </tr>\n",
       "  </tbody>\n",
       "</table>\n",
       "</div>"
      ],
      "text/plain": [
       "                      VehicleDesc FleetGroupDesc  VehicleFareboxID  \\\n",
       "0  N - D4 - 11 Ford E350 - Cam-SD    Paratransit              5583   \n",
       "1            2006 GILLIG LowFloor    Fixed Route              1515   \n",
       "2                        2016 Van    Paratransit              5692   \n",
       "3                   2014 Ford Van    Paratransit              5647   \n",
       "4                Maint test bench    Fixed Route              1508   \n",
       "\n",
       "   SeatingCapacity  TotalCapacity  LastOdometer (5/10/22, before 9:00AM)  \n",
       "0              NaN            NaN                              143748581  \n",
       "1             32.0           40.0                                 999999  \n",
       "2              NaN            NaN                                 973862  \n",
       "3              NaN            NaN                                 654774  \n",
       "4             32.0           40.0                                 484222  "
      ]
     },
     "execution_count": 24,
     "metadata": {},
     "output_type": "execute_result"
    }
   ],
   "source": [
    "df3.head()"
   ]
  },
  {
   "cell_type": "code",
   "execution_count": 25,
   "id": "1b713257",
   "metadata": {},
   "outputs": [
    {
     "data": {
      "text/html": [
       "<div>\n",
       "<style scoped>\n",
       "    .dataframe tbody tr th:only-of-type {\n",
       "        vertical-align: middle;\n",
       "    }\n",
       "\n",
       "    .dataframe tbody tr th {\n",
       "        vertical-align: top;\n",
       "    }\n",
       "\n",
       "    .dataframe thead th {\n",
       "        text-align: right;\n",
       "    }\n",
       "</style>\n",
       "<table border=\"1\" class=\"dataframe\">\n",
       "  <thead>\n",
       "    <tr style=\"text-align: right;\">\n",
       "      <th></th>\n",
       "      <th>Asset Class</th>\n",
       "      <th>Major Category</th>\n",
       "      <th>Asset Name</th>\n",
       "      <th>Year</th>\n",
       "      <th>Length</th>\n",
       "      <th>ID/Serial Number</th>\n",
       "      <th>Age</th>\n",
       "      <th>Vehicle Mileage</th>\n",
       "      <th>Replacement Cost/Value</th>\n",
       "      <th>Useful Life Benchmark</th>\n",
       "      <th>At or Past ULB</th>\n",
       "      <th>At or Past ULB.1</th>\n",
       "      <th>TERM Rating (Age Based Only)</th>\n",
       "      <th>Notes</th>\n",
       "      <th>Most Recent Odometer (5/10/22)</th>\n",
       "      <th>Difference (Extra Mileage)</th>\n",
       "    </tr>\n",
       "  </thead>\n",
       "  <tbody>\n",
       "    <tr>\n",
       "      <th>0</th>\n",
       "      <td>Minibus (MB)</td>\n",
       "      <td>Heavy</td>\n",
       "      <td>1193</td>\n",
       "      <td>2001</td>\n",
       "      <td>30</td>\n",
       "      <td>1C9S2HFS31W535214</td>\n",
       "      <td>20</td>\n",
       "      <td>48837</td>\n",
       "      <td>364805</td>\n",
       "      <td>13</td>\n",
       "      <td>Yes</td>\n",
       "      <td>-0.538462</td>\n",
       "      <td>1</td>\n",
       "      <td>NaN</td>\n",
       "      <td>NaN</td>\n",
       "      <td>NaN</td>\n",
       "    </tr>\n",
       "    <tr>\n",
       "      <th>1</th>\n",
       "      <td>Minibus (MB)</td>\n",
       "      <td>Heavy</td>\n",
       "      <td>1192</td>\n",
       "      <td>2001</td>\n",
       "      <td>30</td>\n",
       "      <td>1C9S2HFS11W535213</td>\n",
       "      <td>20</td>\n",
       "      <td>46244</td>\n",
       "      <td>364805</td>\n",
       "      <td>13</td>\n",
       "      <td>Yes</td>\n",
       "      <td>-0.538462</td>\n",
       "      <td>1</td>\n",
       "      <td>NaN</td>\n",
       "      <td>NaN</td>\n",
       "      <td>NaN</td>\n",
       "    </tr>\n",
       "    <tr>\n",
       "      <th>2</th>\n",
       "      <td>Vans (VN)</td>\n",
       "      <td>Light</td>\n",
       "      <td>5692</td>\n",
       "      <td>2016</td>\n",
       "      <td>Van</td>\n",
       "      <td>1FDEE3FS6GDC54974</td>\n",
       "      <td>5</td>\n",
       "      <td>124374</td>\n",
       "      <td>61547</td>\n",
       "      <td>4</td>\n",
       "      <td>Yes</td>\n",
       "      <td>-0.250000</td>\n",
       "      <td>2</td>\n",
       "      <td>NaN</td>\n",
       "      <td>973862.0</td>\n",
       "      <td>849488.0</td>\n",
       "    </tr>\n",
       "    <tr>\n",
       "      <th>3</th>\n",
       "      <td>Bus (BU)</td>\n",
       "      <td>Heavy</td>\n",
       "      <td>1515</td>\n",
       "      <td>2006</td>\n",
       "      <td>35</td>\n",
       "      <td>15GGB291161076810</td>\n",
       "      <td>15</td>\n",
       "      <td>499849</td>\n",
       "      <td>349657</td>\n",
       "      <td>12</td>\n",
       "      <td>Yes</td>\n",
       "      <td>-0.250000</td>\n",
       "      <td>2</td>\n",
       "      <td>NaN</td>\n",
       "      <td>999999.0</td>\n",
       "      <td>500150.0</td>\n",
       "    </tr>\n",
       "    <tr>\n",
       "      <th>4</th>\n",
       "      <td>Bus (BU)</td>\n",
       "      <td>Heavy</td>\n",
       "      <td>1510</td>\n",
       "      <td>2006</td>\n",
       "      <td>35</td>\n",
       "      <td>15GGB291861076805</td>\n",
       "      <td>15</td>\n",
       "      <td>348201</td>\n",
       "      <td>349657</td>\n",
       "      <td>12</td>\n",
       "      <td>Yes</td>\n",
       "      <td>-0.250000</td>\n",
       "      <td>2</td>\n",
       "      <td>NaN</td>\n",
       "      <td>484222.0</td>\n",
       "      <td>136021.0</td>\n",
       "    </tr>\n",
       "  </tbody>\n",
       "</table>\n",
       "</div>"
      ],
      "text/plain": [
       "    Asset Class Major Category  Asset Name  Year Length   ID/Serial Number  \\\n",
       "0  Minibus (MB)          Heavy        1193  2001     30  1C9S2HFS31W535214   \n",
       "1  Minibus (MB)          Heavy        1192  2001     30  1C9S2HFS11W535213   \n",
       "2     Vans (VN)          Light        5692  2016    Van  1FDEE3FS6GDC54974   \n",
       "3      Bus (BU)          Heavy        1515  2006     35  15GGB291161076810   \n",
       "4      Bus (BU)          Heavy        1510  2006     35  15GGB291861076805   \n",
       "\n",
       "   Age  Vehicle Mileage  Replacement Cost/Value  Useful Life Benchmark  \\\n",
       "0   20            48837                  364805                     13   \n",
       "1   20            46244                  364805                     13   \n",
       "2    5           124374                   61547                      4   \n",
       "3   15           499849                  349657                     12   \n",
       "4   15           348201                  349657                     12   \n",
       "\n",
       "  At or Past ULB  At or Past ULB.1  TERM Rating (Age Based Only) Notes  \\\n",
       "0            Yes         -0.538462                             1   NaN   \n",
       "1            Yes         -0.538462                             1   NaN   \n",
       "2            Yes         -0.250000                             2   NaN   \n",
       "3            Yes         -0.250000                             2   NaN   \n",
       "4            Yes         -0.250000                             2   NaN   \n",
       "\n",
       "   Most Recent Odometer (5/10/22)  Difference (Extra Mileage)  \n",
       "0                             NaN                         NaN  \n",
       "1                             NaN                         NaN  \n",
       "2                        973862.0                    849488.0  \n",
       "3                        999999.0                    500150.0  \n",
       "4                        484222.0                    136021.0  "
      ]
     },
     "execution_count": 25,
     "metadata": {},
     "output_type": "execute_result"
    }
   ],
   "source": [
    "df4.head()"
   ]
  },
  {
   "cell_type": "code",
   "execution_count": 26,
   "id": "6795c24f-f098-4aab-9a3e-4fc216148116",
   "metadata": {},
   "outputs": [
    {
     "data": {
      "text/plain": [
       "array(['Minibus (MB)', 'Vans (VN)', 'Bus (BU)', 'Articulated Bus (AB)',\n",
       "       'Minivan (MV)', 'Cutaway Bus (CU)'], dtype=object)"
      ]
     },
     "execution_count": 26,
     "metadata": {},
     "output_type": "execute_result"
    }
   ],
   "source": [
    "df4['Asset Class'].unique()"
   ]
  },
  {
   "cell_type": "code",
   "execution_count": 27,
   "id": "ac35dd89-e5ad-48f2-bffd-363dde3cf07c",
   "metadata": {},
   "outputs": [],
   "source": [
    "df4['Asset Class'].replace('Minibus (MB)', 'Minibus', inplace=True)\n",
    "df4['Asset Class'].replace('Vans (VN)', 'Van', inplace=True)\n",
    "df4['Asset Class'].replace('Bus (BU)', 'Bus', inplace=True)\n",
    "df4['Asset Class'].replace('Articulated Bus (AB)', 'Articulated Bus', inplace=True)\n",
    "df4['Asset Class'].replace('Minivan (MV)', 'Minivan', inplace=True)\n",
    "df4['Asset Class'].replace('Cutaway Bus (CU)', 'Cutaway Bus', inplace=True)"
   ]
  },
  {
   "cell_type": "code",
   "execution_count": 28,
   "id": "5a7a2a42",
   "metadata": {},
   "outputs": [
    {
     "data": {
      "image/png": "[encoded data removed]",
      "text/plain": [
       "<Figure size 1152x360 with 1 Axes>"
      ]
     },
     "metadata": {
      "needs_background": "light"
     },
     "output_type": "display_data"
    }
   ],
   "source": [
    "fig, ax = plt.subplots()\n",
    "df4['Asset Class'].hist(rwidth=20 , figsize = (16,5), orientation='horizontal', zorder=3)\n",
    "plt.ylabel(\"Fleet type\", fontsize=18)\n",
    "plt.xlabel(\"Count\", fontsize=18)\n",
    "plt.yticks(fontsize=14)\n",
    "plt.xticks(fontsize=14)\n",
    "fig.savefig(r'../../figures/hist-fleet-type1.png', dpi=400, bbox_inches='tight')"
   ]
  },
  {
   "cell_type": "code",
   "execution_count": 29,
   "id": "8f9c47b2",
   "metadata": {},
   "outputs": [
    {
     "data": {
      "image/png": "[encoded data removed]",
      "text/plain": [
       "<Figure size 1152x288 with 1 Axes>"
      ]
     },
     "metadata": {
      "needs_background": "light"
     },
     "output_type": "display_data"
    }
   ],
   "source": [
    "fig, ax = plt.subplots()\n",
    "df4['Major Category'].hist(figsize = (16,4), orientation='horizontal', zorder=3)\n",
    "plt.ylabel(\"Major category\", fontsize=18)\n",
    "plt.xlabel(\"Count\", fontsize=18)\n",
    "plt.xticks(fontsize=14)\n",
    "plt.yticks(fontsize=14)\n",
    "fig.savefig(r'../../figures/hist-fleet-type2.png', dpi=400, bbox_inches='tight')"
   ]
  },
  {
   "cell_type": "code",
   "execution_count": 30,
   "id": "f9912229",
   "metadata": {},
   "outputs": [
    {
     "name": "stdout",
     "output_type": "stream",
     "text": [
      "0.5882352941176471\n"
     ]
    }
   ],
   "source": [
    "print(len(df4[df4['Major Category'] == 'Heavy'])/(len(df4[df4['Major Category'] == 'Heavy'])+len(df4[df4['Major Category'] == 'Light'])+len(df4[df4['Major Category'] == 'Medium'])))"
   ]
  },
  {
   "cell_type": "code",
   "execution_count": 31,
   "id": "419e1dca",
   "metadata": {},
   "outputs": [
    {
     "name": "stdout",
     "output_type": "stream",
     "text": [
      "0.40294117647058825\n"
     ]
    }
   ],
   "source": [
    "print(len(df4[df4['Major Category'] == 'Light'])/(len(df4[df4['Major Category'] == 'Heavy'])+len(df4[df4['Major Category'] == 'Light'])+len(df4[df4['Major Category'] == 'Medium'])))"
   ]
  },
  {
   "cell_type": "code",
   "execution_count": 32,
   "id": "bd52ee64",
   "metadata": {},
   "outputs": [
    {
     "name": "stdout",
     "output_type": "stream",
     "text": [
      "0.008823529411764706\n"
     ]
    }
   ],
   "source": [
    "print(len(df4[df4['Major Category'] == 'Medium'])/(len(df4[df4['Major Category'] == 'Heavy'])+len(df4[df4['Major Category'] == 'Light'])+len(df4[df4['Major Category'] == 'Medium'])))"
   ]
  },
  {
   "cell_type": "code",
   "execution_count": 33,
   "id": "b9f2c343",
   "metadata": {},
   "outputs": [
    {
     "data": {
      "image/png": "[encoded data removed]",
      "text/plain": [
       "<Figure size 1152x864 with 1 Axes>"
      ]
     },
     "metadata": {
      "needs_background": "light"
     },
     "output_type": "display_data"
    }
   ],
   "source": [
    "df4.plot(kind='scatter',x='Asset Class', y='Useful Life Benchmark', s=400, c='teal', figsize = (16,12))\n",
    "plt.ylabel(\"Useful life\", fontsize=36)\n",
    "plt.xlabel(\"Asset class\", fontsize=36)\n",
    "plt.xticks(fontsize=28, rotation=45)\n",
    "plt.yticks(fontsize=28)\n",
    "plt.savefig(r'../../figures/useful-life.png', dpi=400, bbox_inches='tight')\n",
    "plt.show()"
   ]
  },
  {
   "cell_type": "code",
   "execution_count": 34,
   "id": "77ae7dcf",
   "metadata": {},
   "outputs": [
    {
     "data": {
      "image/png": "[encoded data removed]",
      "text/plain": [
       "<Figure size 720x864 with 1 Axes>"
      ]
     },
     "metadata": {
      "needs_background": "light"
     },
     "output_type": "display_data"
    }
   ],
   "source": [
    "fig, ax = plt.subplots()\n",
    "df4['Useful Life Benchmark'].hist(figsize = (10,12), zorder=3)\n",
    "plt.xlabel(\"Useful life\", fontsize=18)\n",
    "plt.ylabel(\"Count\", fontsize=18)\n",
    "plt.xticks(fontsize=14)\n",
    "plt.yticks(fontsize=14)\n",
    "fig.savefig(r'../../figures/hist-useful-life.png', dpi=400, bbox_inches='tight')"
   ]
  },
  {
   "cell_type": "code",
   "execution_count": 35,
   "id": "7506a2d7",
   "metadata": {},
   "outputs": [
    {
     "data": {
      "image/png": "[encoded data removed]",
      "text/plain": [
       "<Figure size 1152x864 with 1 Axes>"
      ]
     },
     "metadata": {
      "needs_background": "light"
     },
     "output_type": "display_data"
    }
   ],
   "source": [
    "df4.plot(kind='scatter',x='Asset Class',y='Age', s=400, c='teal', figsize = (16,12))\n",
    "plt.ylabel(\"Age\", fontsize=36)\n",
    "plt.xlabel(\"Asset class\", fontsize=36)\n",
    "plt.xticks(fontsize=28, rotation=45)\n",
    "plt.yticks(fontsize=28)\n",
    "plt.savefig(r'../../figures/age.png', dpi=400, bbox_inches='tight')\n",
    "plt.show()"
   ]
  },
  {
   "cell_type": "code",
   "execution_count": 36,
   "id": "4e104f1c",
   "metadata": {},
   "outputs": [
    {
     "data": {
      "image/png": "[encoded data removed]",
      "text/plain": [
       "<Figure size 720x864 with 1 Axes>"
      ]
     },
     "metadata": {
      "needs_background": "light"
     },
     "output_type": "display_data"
    }
   ],
   "source": [
    "fig, ax = plt.subplots()\n",
    "df4['Age'].hist(figsize = (10,12), zorder=3)\n",
    "plt.xlabel(\"Age\", fontsize=18)\n",
    "plt.ylabel(\"Count\", fontsize=18)\n",
    "plt.xticks(fontsize=14)\n",
    "plt.yticks(fontsize=14)\n",
    "ax.locator_params(axis='x', integer=True)\n",
    "fig.savefig(r'../../figures/hist-age.png', dpi=400, bbox_inches='tight')"
   ]
  },
  {
   "cell_type": "code",
   "execution_count": 37,
   "id": "076c91ac",
   "metadata": {},
   "outputs": [
    {
     "data": {
      "text/plain": [
       "<AxesSubplot:>"
      ]
     },
     "execution_count": 37,
     "metadata": {},
     "output_type": "execute_result"
    },
    {
     "data": {
      "image/png": "[encoded data removed]",
      "text/plain": [
       "<Figure size 720x864 with 1 Axes>"
      ]
     },
     "metadata": {
      "needs_background": "light"
     },
     "output_type": "display_data"
    }
   ],
   "source": [
    "df4['At or Past ULB'].hist(figsize = (10,12))"
   ]
  },
  {
   "cell_type": "code",
   "execution_count": 38,
   "id": "179b6fdd",
   "metadata": {},
   "outputs": [
    {
     "name": "stdout",
     "output_type": "stream",
     "text": [
      "0.34411764705882353\n"
     ]
    }
   ],
   "source": [
    "print(len(df4[df4['At or Past ULB'] == 'Yes'])/(len(df4[df4['At or Past ULB'] == 'Yes'])+len(df4[df4['At or Past ULB'] == 'No'])))"
   ]
  },
  {
   "cell_type": "code",
   "execution_count": 39,
   "id": "a7716218",
   "metadata": {},
   "outputs": [
    {
     "data": {
      "text/plain": [
       "<AxesSubplot:>"
      ]
     },
     "execution_count": 39,
     "metadata": {},
     "output_type": "execute_result"
    },
    {
     "data": {
      "image/png": "[encoded data removed]",
      "text/plain": [
       "<Figure size 720x864 with 1 Axes>"
      ]
     },
     "metadata": {
      "needs_background": "light"
     },
     "output_type": "display_data"
    }
   ],
   "source": [
    "df4['Most Recent Odometer (5/10/22)'].hist(figsize = (10,12))\n"
   ]
  },
  {
   "cell_type": "code",
   "execution_count": 40,
   "id": "f1d5f064",
   "metadata": {},
   "outputs": [
    {
     "data": {
      "text/plain": [
       "<AxesSubplot:>"
      ]
     },
     "execution_count": 40,
     "metadata": {},
     "output_type": "execute_result"
    },
    {
     "data": {
      "image/png": "[encoded data removed]",
      "text/plain": [
       "<Figure size 720x864 with 1 Axes>"
      ]
     },
     "metadata": {
      "needs_background": "light"
     },
     "output_type": "display_data"
    }
   ],
   "source": [
    "df4['Vehicle Mileage'].hist(figsize = (10,12))"
   ]
  },
  {
   "cell_type": "code",
   "execution_count": 41,
   "id": "7ab8d031",
   "metadata": {},
   "outputs": [
    {
     "data": {
      "text/plain": [
       "<AxesSubplot:>"
      ]
     },
     "execution_count": 41,
     "metadata": {},
     "output_type": "execute_result"
    },
    {
     "data": {
      "image/png": "[encoded data removed]",
      "text/plain": [
       "<Figure size 720x864 with 1 Axes>"
      ]
     },
     "metadata": {
      "needs_background": "light"
     },
     "output_type": "display_data"
    }
   ],
   "source": [
    "df4['Replacement Cost/Value'].hist(figsize = (10,12))"
   ]
  },
  {
   "cell_type": "code",
   "execution_count": 42,
   "id": "a7314800",
   "metadata": {},
   "outputs": [],
   "source": [
    "#The odometer is used to measure the distance traveled while mileage, is the fuel consumption per kilometer. "
   ]
  },
  {
   "cell_type": "code",
   "execution_count": 43,
   "id": "3714f0be",
   "metadata": {},
   "outputs": [
    {
     "data": {
      "text/plain": [
       "340"
      ]
     },
     "execution_count": 43,
     "metadata": {},
     "output_type": "execute_result"
    }
   ],
   "source": [
    "len(df4['Asset Name'].unique())\n"
   ]
  },
  {
   "cell_type": "code",
   "execution_count": 44,
   "id": "b2c98a87",
   "metadata": {},
   "outputs": [
    {
     "data": {
      "text/plain": [
       "340"
      ]
     },
     "execution_count": 44,
     "metadata": {},
     "output_type": "execute_result"
    }
   ],
   "source": [
    "len(df4['ID/Serial Number'].unique())"
   ]
  },
  {
   "cell_type": "code",
   "execution_count": 45,
   "id": "3f473eca",
   "metadata": {},
   "outputs": [],
   "source": [
    "xls2 = pd.ExcelFile(r'../../data/raw/CTF Fuel Tickets FY22.xlsx')"
   ]
  },
  {
   "cell_type": "code",
   "execution_count": 46,
   "id": "2e49de66",
   "metadata": {},
   "outputs": [],
   "source": [
    "df_CTF = pd.read_excel(xls2, 'CTF')"
   ]
  },
  {
   "cell_type": "code",
   "execution_count": 47,
   "id": "05177fc8",
   "metadata": {},
   "outputs": [
    {
     "data": {
      "text/html": [
       "<div>\n",
       "<style scoped>\n",
       "    .dataframe tbody tr th:only-of-type {\n",
       "        vertical-align: middle;\n",
       "    }\n",
       "\n",
       "    .dataframe tbody tr th {\n",
       "        vertical-align: top;\n",
       "    }\n",
       "\n",
       "    .dataframe thead th {\n",
       "        text-align: right;\n",
       "    }\n",
       "</style>\n",
       "<table border=\"1\" class=\"dataframe\">\n",
       "  <thead>\n",
       "    <tr style=\"text-align: right;\">\n",
       "      <th></th>\n",
       "      <th>Unnamed: 0</th>\n",
       "      <th>Unnamed: 1</th>\n",
       "      <th>Unnamed: 2</th>\n",
       "      <th>Unnamed: 3</th>\n",
       "      <th>Unnamed: 4</th>\n",
       "    </tr>\n",
       "  </thead>\n",
       "  <tbody>\n",
       "    <tr>\n",
       "      <th>0</th>\n",
       "      <td>2006 GILLIG 30`</td>\n",
       "      <td>NaN</td>\n",
       "      <td>NaN</td>\n",
       "      <td>NaN</td>\n",
       "      <td>NaN</td>\n",
       "    </tr>\n",
       "    <tr>\n",
       "      <th>1</th>\n",
       "      <td>Equipment ID</td>\n",
       "      <td>Qty</td>\n",
       "      <td>Transaction Date</td>\n",
       "      <td>Meter1Reading</td>\n",
       "      <td>Fuel Orfluid Type</td>\n",
       "    </tr>\n",
       "    <tr>\n",
       "      <th>2</th>\n",
       "      <td>1406</td>\n",
       "      <td>44.36</td>\n",
       "      <td>2021-07-01 20:53:00</td>\n",
       "      <td>376123</td>\n",
       "      <td>DIE</td>\n",
       "    </tr>\n",
       "    <tr>\n",
       "      <th>3</th>\n",
       "      <td>1406</td>\n",
       "      <td>8.06</td>\n",
       "      <td>2021-07-02 15:15:00</td>\n",
       "      <td>376170</td>\n",
       "      <td>DIE</td>\n",
       "    </tr>\n",
       "    <tr>\n",
       "      <th>4</th>\n",
       "      <td>NaN</td>\n",
       "      <td>NaN</td>\n",
       "      <td>NaN</td>\n",
       "      <td>NaN</td>\n",
       "      <td>NaN</td>\n",
       "    </tr>\n",
       "    <tr>\n",
       "      <th>...</th>\n",
       "      <td>...</td>\n",
       "      <td>...</td>\n",
       "      <td>...</td>\n",
       "      <td>...</td>\n",
       "      <td>...</td>\n",
       "    </tr>\n",
       "    <tr>\n",
       "      <th>24587</th>\n",
       "      <td>3308</td>\n",
       "      <td>24.11</td>\n",
       "      <td>2021-10-18 16:08:00</td>\n",
       "      <td>236365</td>\n",
       "      <td>DIE</td>\n",
       "    </tr>\n",
       "    <tr>\n",
       "      <th>24588</th>\n",
       "      <td>3308</td>\n",
       "      <td>8.29</td>\n",
       "      <td>2021-10-19 15:35:00</td>\n",
       "      <td>0</td>\n",
       "      <td>DIE</td>\n",
       "    </tr>\n",
       "    <tr>\n",
       "      <th>24589</th>\n",
       "      <td>3308</td>\n",
       "      <td>13.04</td>\n",
       "      <td>2021-10-21 15:39:00</td>\n",
       "      <td>236474</td>\n",
       "      <td>DIE</td>\n",
       "    </tr>\n",
       "    <tr>\n",
       "      <th>24590</th>\n",
       "      <td>3308</td>\n",
       "      <td>6.88</td>\n",
       "      <td>2021-10-22 08:34:00</td>\n",
       "      <td>236496</td>\n",
       "      <td>DIE</td>\n",
       "    </tr>\n",
       "    <tr>\n",
       "      <th>24591</th>\n",
       "      <td>3308</td>\n",
       "      <td>5.53</td>\n",
       "      <td>2021-10-25 15:30:00</td>\n",
       "      <td>0</td>\n",
       "      <td>DIE</td>\n",
       "    </tr>\n",
       "  </tbody>\n",
       "</table>\n",
       "<p>24592 rows × 5 columns</p>\n",
       "</div>"
      ],
      "text/plain": [
       "            Unnamed: 0 Unnamed: 1           Unnamed: 2     Unnamed: 3  \\\n",
       "0      2006 GILLIG 30`        NaN                  NaN            NaN   \n",
       "1         Equipment ID        Qty     Transaction Date  Meter1Reading   \n",
       "2                 1406      44.36  2021-07-01 20:53:00         376123   \n",
       "3                 1406       8.06  2021-07-02 15:15:00         376170   \n",
       "4                  NaN        NaN                  NaN            NaN   \n",
       "...                ...        ...                  ...            ...   \n",
       "24587             3308      24.11  2021-10-18 16:08:00         236365   \n",
       "24588             3308       8.29  2021-10-19 15:35:00              0   \n",
       "24589             3308      13.04  2021-10-21 15:39:00         236474   \n",
       "24590             3308       6.88  2021-10-22 08:34:00         236496   \n",
       "24591             3308       5.53  2021-10-25 15:30:00              0   \n",
       "\n",
       "              Unnamed: 4  \n",
       "0                    NaN  \n",
       "1      Fuel Orfluid Type  \n",
       "2                    DIE  \n",
       "3                    DIE  \n",
       "4                    NaN  \n",
       "...                  ...  \n",
       "24587                DIE  \n",
       "24588                DIE  \n",
       "24589                DIE  \n",
       "24590                DIE  \n",
       "24591                DIE  \n",
       "\n",
       "[24592 rows x 5 columns]"
      ]
     },
     "execution_count": 47,
     "metadata": {},
     "output_type": "execute_result"
    }
   ],
   "source": [
    "df_CTF"
   ]
  },
  {
   "cell_type": "code",
   "execution_count": 48,
   "id": "e515e2b9",
   "metadata": {},
   "outputs": [
    {
     "data": {
      "text/plain": [
       "0        2006 GILLIG 30`\n",
       "1           Equipment ID\n",
       "2                   1406\n",
       "3                   1406\n",
       "4                    NaN\n",
       "              ...       \n",
       "24587               3308\n",
       "24588               3308\n",
       "24589               3308\n",
       "24590               3308\n",
       "24591               3308\n",
       "Name: Unnamed: 0, Length: 24592, dtype: object"
      ]
     },
     "execution_count": 48,
     "metadata": {},
     "output_type": "execute_result"
    }
   ],
   "source": [
    "df_CTF['Unnamed: 0']"
   ]
  },
  {
   "cell_type": "code",
   "execution_count": null,
   "id": "7886ff7d",
   "metadata": {},
   "outputs": [],
   "source": []
  },
  {
   "cell_type": "code",
   "execution_count": null,
   "id": "dec55891",
   "metadata": {},
   "outputs": [],
   "source": []
  }
 ],
 "metadata": {
  "kernelspec": {
   "display_name": "Python 3 (ipykernel)",
   "language": "python",
   "name": "python3"
  },
  "language_info": {
   "codemirror_mode": {
    "name": "ipython",
    "version": 3
   },
   "file_extension": ".py",
   "mimetype": "text/x-python",
   "name": "python",
   "nbconvert_exporter": "python",
   "pygments_lexer": "ipython3",
   "version": "3.9.12"
  }
 },
 "nbformat": 4,
 "nbformat_minor": 5
}
