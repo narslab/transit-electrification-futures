{
 "cells": [
  {
   "cell_type": "code",
   "execution_count": 1,
   "id": "2618e5ec",
   "metadata": {},
   "outputs": [],
   "source": [
    "import pandas as pd"
   ]
  },
  {
   "cell_type": "code",
   "execution_count": 48,
   "id": "bd59ee43-af5f-423c-a293-6b7a13033af6",
   "metadata": {},
   "outputs": [],
   "source": [
    "df = pd.read_csv(r'../../data/raw/Apr2022LatLon.csv', delimiter=',', skiprows=0, low_memory=False)"
   ]
  },
  {
   "cell_type": "code",
   "execution_count": 49,
   "id": "c1a2d716",
   "metadata": {},
   "outputs": [
    {
     "data": {
      "text/plain": [
       "1849"
      ]
     },
     "execution_count": 49,
     "metadata": {},
     "output_type": "execute_result"
    }
   ],
   "source": [
    "len(df['Stop'].unique())"
   ]
  },
  {
   "cell_type": "code",
   "execution_count": 50,
   "id": "e10d28bf",
   "metadata": {},
   "outputs": [],
   "source": [
    "df_stops=df[[\"Stop\", \"Lat\", \"Lon\"]]"
   ]
  },
  {
   "cell_type": "code",
   "execution_count": 51,
   "id": "7ecd9c26",
   "metadata": {},
   "outputs": [],
   "source": [
    "df_stops = df_stops.groupby(['Stop']).max().reset_index()"
   ]
  },
  {
   "cell_type": "code",
   "execution_count": 52,
   "id": "d182391a",
   "metadata": {},
   "outputs": [
    {
     "data": {
      "text/html": [
       "<div>\n",
       "<style scoped>\n",
       "    .dataframe tbody tr th:only-of-type {\n",
       "        vertical-align: middle;\n",
       "    }\n",
       "\n",
       "    .dataframe tbody tr th {\n",
       "        vertical-align: top;\n",
       "    }\n",
       "\n",
       "    .dataframe thead th {\n",
       "        text-align: right;\n",
       "    }\n",
       "</style>\n",
       "<table border=\"1\" class=\"dataframe\">\n",
       "  <thead>\n",
       "    <tr style=\"text-align: right;\">\n",
       "      <th></th>\n",
       "      <th>Stop</th>\n",
       "      <th>Lat</th>\n",
       "      <th>Lon</th>\n",
       "    </tr>\n",
       "  </thead>\n",
       "  <tbody>\n",
       "    <tr>\n",
       "      <th>0</th>\n",
       "      <td>0</td>\n",
       "      <td>NaN</td>\n",
       "      <td>NaN</td>\n",
       "    </tr>\n",
       "    <tr>\n",
       "      <th>1</th>\n",
       "      <td>1</td>\n",
       "      <td>42.47704</td>\n",
       "      <td>-72.60745</td>\n",
       "    </tr>\n",
       "    <tr>\n",
       "      <th>2</th>\n",
       "      <td>2</td>\n",
       "      <td>42.47255</td>\n",
       "      <td>-72.60140</td>\n",
       "    </tr>\n",
       "    <tr>\n",
       "      <th>3</th>\n",
       "      <td>4</td>\n",
       "      <td>42.46802</td>\n",
       "      <td>-72.59544</td>\n",
       "    </tr>\n",
       "    <tr>\n",
       "      <th>4</th>\n",
       "      <td>6</td>\n",
       "      <td>42.46539</td>\n",
       "      <td>-72.57587</td>\n",
       "    </tr>\n",
       "    <tr>\n",
       "      <th>...</th>\n",
       "      <td>...</td>\n",
       "      <td>...</td>\n",
       "      <td>...</td>\n",
       "    </tr>\n",
       "    <tr>\n",
       "      <th>1844</th>\n",
       "      <td>11144</td>\n",
       "      <td>42.20812</td>\n",
       "      <td>-72.60650</td>\n",
       "    </tr>\n",
       "    <tr>\n",
       "      <th>1845</th>\n",
       "      <td>11701</td>\n",
       "      <td>42.37166</td>\n",
       "      <td>-72.48001</td>\n",
       "    </tr>\n",
       "    <tr>\n",
       "      <th>1846</th>\n",
       "      <td>12601</td>\n",
       "      <td>42.36747</td>\n",
       "      <td>-72.47976</td>\n",
       "    </tr>\n",
       "    <tr>\n",
       "      <th>1847</th>\n",
       "      <td>12901</td>\n",
       "      <td>42.36507</td>\n",
       "      <td>-72.48429</td>\n",
       "    </tr>\n",
       "    <tr>\n",
       "      <th>1848</th>\n",
       "      <td>13101</td>\n",
       "      <td>42.36330</td>\n",
       "      <td>-72.48833</td>\n",
       "    </tr>\n",
       "  </tbody>\n",
       "</table>\n",
       "<p>1849 rows × 3 columns</p>\n",
       "</div>"
      ],
      "text/plain": [
       "       Stop       Lat       Lon\n",
       "0         0       NaN       NaN\n",
       "1         1  42.47704 -72.60745\n",
       "2         2  42.47255 -72.60140\n",
       "3         4  42.46802 -72.59544\n",
       "4         6  42.46539 -72.57587\n",
       "...     ...       ...       ...\n",
       "1844  11144  42.20812 -72.60650\n",
       "1845  11701  42.37166 -72.48001\n",
       "1846  12601  42.36747 -72.47976\n",
       "1847  12901  42.36507 -72.48429\n",
       "1848  13101  42.36330 -72.48833\n",
       "\n",
       "[1849 rows x 3 columns]"
      ]
     },
     "execution_count": 52,
     "metadata": {},
     "output_type": "execute_result"
    }
   ],
   "source": [
    "df_stops"
   ]
  },
  {
   "cell_type": "code",
   "execution_count": 53,
   "id": "7543694e",
   "metadata": {},
   "outputs": [],
   "source": [
    "df_stops.to_csv(r'../../data/tidy/stops-lan-lat.csv')"
   ]
  },
  {
   "cell_type": "code",
   "execution_count": null,
   "id": "0db3db30",
   "metadata": {},
   "outputs": [],
   "source": []
  }
 ],
 "metadata": {
  "kernelspec": {
   "display_name": "Python 3 (ipykernel)",
   "language": "python",
   "name": "python3"
  },
  "language_info": {
   "codemirror_mode": {
    "name": "ipython",
    "version": 3
   },
   "file_extension": ".py",
   "mimetype": "text/x-python",
   "name": "python",
   "nbconvert_exporter": "python",
   "pygments_lexer": "ipython3",
   "version": "3.11.0"
  }
 },
 "nbformat": 4,
 "nbformat_minor": 5
}
