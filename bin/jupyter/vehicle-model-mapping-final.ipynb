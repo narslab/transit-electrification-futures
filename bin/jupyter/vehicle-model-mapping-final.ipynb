{
 "cells": [
  {
   "cell_type": "code",
   "execution_count": 1,
   "id": "2ab65b2e",
   "metadata": {},
   "outputs": [],
   "source": [
    "import pandas as pd\n",
    "import matplotlib.pyplot as plt"
   ]
  },
  {
   "cell_type": "code",
   "execution_count": 2,
   "id": "9ad7d130",
   "metadata": {},
   "outputs": [],
   "source": [
    "df = pd.read_csv(r'../../results/computed-trajectories2.csv', delimiter=',', skiprows=0, low_memory=False)\n",
    "df2 = pd.read_csv(r'../../data/tidy/vehicles-summary.csv', delimiter=',', skiprows=0, low_memory=False)"
   ]
  },
  {
   "cell_type": "code",
   "execution_count": 3,
   "id": "feaaa3f1",
   "metadata": {},
   "outputs": [],
   "source": [
    "### Map powertrain"
   ]
  },
  {
   "cell_type": "code",
   "execution_count": 4,
   "id": "d912d55d",
   "metadata": {},
   "outputs": [
    {
     "name": "stdout",
     "output_type": "stream",
     "text": [
      "{'conventional': [1406, 1510, 1513, 1515, 1618, 1619, 1621, 1630, 1632, 1552, 1553, 1554, 1555, 1556, 1557, 1558, 1559, 1561, 1562, 1640, 1641, 1642, 1643, 1644, 1645, 1646, 1647, 1648, 1649, 1563, 1564, 1565, 1566, 1567, 1568, 1569, 1571, 1572, 1573, 1574, 1575, 1576, 1577, 1578, 1650, 1651, 1652, 1653, 1654, 1655, 1656, 1657, 1658, 1659, 1660, 1661, 1662, 1663, 1664, 1701, 1810, 1811, 1812, 1813, 1814, 1815, 1816, 1817, 1818, 1819, 1821, 1822, 1823, 1824, 1825, 1826, 1830, 1831, 1832, 1833, 1834, 1835, 1836, 1837, 1710, 1711, 1712, 1713, 1714, 1840, 1841, 1842, 1843, 1844, 1845, 1846, 1847, 1848, 1849, 1670, 1671, 1672, 1673, 1715, 1716, 1717, 1718, 1719, 1720, 1850, 1851, 1852, 1853, 1854, 1855, 1856, 1721, 1722, 1723, 1857, 1858, 1859, 1860, 1861, 1724, 1725, 1726, 1727, 1728, 1729, 1862, 1863, 1864, 3211, 3307, 3308, 7610, 7550, 7551, 7660, 7661, 7662, 7552, 7801, 7802, 7811, 7812, 7813, 7814, 7815, 7553, 7554, 7816, 7817, 3201, 3202, 3203, 3203, 3204, 3205, 3212, 3213, 3214, 3215, 3221, 3222, 3223, 3224, 3225, 3226, 3227, 3228, 3301, 3302, 3303, 3304, 3305, 3306, 3309, 3310, 3311, 3312, 3313, 3314, 3315, 3316, 3317, 3318, 3319, 3320, 3321, 3322, 3323, 3324, 3325, 3326, 5574, 1205], 'electric': [1413, 1414, 1415, 1416, 1320, 1321, 1322, 1323, 1420, 1421, 7700, 3501, 1410, 1411, 1412], 'hybrid': [1801, 1802, 1803, 1804, 1805, 7901, 7902, 3401, 3402]}\n"
     ]
    }
   ],
   "source": [
    "mydict = df2.groupby('Type')['Equipment ID'].agg(list).to_dict()\n",
    "print (mydict)"
   ]
  },
  {
   "cell_type": "code",
   "execution_count": 5,
   "id": "ba51fbe0",
   "metadata": {},
   "outputs": [],
   "source": [
    "d = {val:key for key, lst in mydict.items() for val in lst}\n",
    "df['Powertrain'] = df['Vehicle'].map(d)"
   ]
  },
  {
   "cell_type": "code",
   "execution_count": 6,
   "id": "245fec67",
   "metadata": {},
   "outputs": [
    {
     "data": {
      "text/plain": [
       "array(['conventional', 'electric', 'hybrid'], dtype=object)"
      ]
     },
     "execution_count": 6,
     "metadata": {},
     "output_type": "execute_result"
    }
   ],
   "source": [
    "df['Powertrain'].unique()"
   ]
  },
  {
   "cell_type": "code",
   "execution_count": 7,
   "id": "c1de4367",
   "metadata": {},
   "outputs": [],
   "source": [
    "### Map vehicle models"
   ]
  },
  {
   "cell_type": "code",
   "execution_count": 8,
   "id": "f4af52d0",
   "metadata": {},
   "outputs": [
    {
     "name": "stdout",
     "output_type": "stream",
     "text": [
      "{'Gillig 30 ': [1406, 1205], 'Gillig 35': [1510, 1513, 1515, 1552, 1553, 1554, 1555, 1556, 1557, 1558, 1559, 1561, 1562, 1563, 1564, 1565, 1566, 1567, 1568, 1569, 1571, 1572, 1573, 1574, 1575, 1576, 1577, 1578, 7550, 7551, 7552, 3306, 3309, 3310, 3311, 3312, 3313, 3314, 3315, 5574], 'Gillig 40': [1618, 1619, 1621, 1630, 1632, 1640, 1641, 1642, 1643, 1644, 1645, 1646, 1647, 1648, 1649, 1650, 1651, 1652, 1653, 1654, 1655, 1656, 1657, 1658, 1659, 1660, 1661, 1662, 1663, 1664, 1670, 1671, 1672, 1673, 3211, 7610, 7660, 7661, 7662, 3201, 3202, 3203, 3203, 3204, 3205, 3212, 3213, 3214, 3215, 3221, 3222, 3223, 3224, 3225, 3226, 3227, 3228, 3301, 3302, 3303, 3304, 3305, 3316, 3317, 3318, 3319, 3320], 'NEW FLYER XD35': [1701, 1710, 1711, 1712, 1713, 1714, 1715, 1716, 1717, 1718, 1719, 1720, 1721, 1722, 1723, 1724, 1725, 1726, 1727, 1728, 1729, 3307, 3308, 7553, 7554], 'NEW FLYER XD40': [1810, 1811, 1812, 1813, 1814, 1815, 1816, 1817, 1818, 1819, 1821, 1822, 1823, 1824, 1825, 1826, 1830, 1831, 1832, 1833, 1834, 1835, 1836, 1837, 1840, 1841, 1842, 1843, 1844, 1845, 1846, 1847, 1848, 1849, 1850, 1851, 1852, 1853, 1854, 1855, 1856, 1857, 1858, 1859, 1860, 1861, 1862, 1863, 1864, 7801, 7802, 7811, 7812, 7813, 7814, 7815, 7816, 7817, 3321, 3322, 3323, 3324, 3325, 3326], 'NEW FLYER XDE40': [1801, 1802, 1803, 1804, 1805], 'NEW FLYER XDE60 (ARTIC)': [7901, 7902, 3401, 3402], 'NEW FLYER XE35': [1320, 1321, 1322, 1323], 'NEW FLYER XE40': [1420, 1421, 7700, 3501], 'PROTERRA CATALYST BE-40': [1413, 1414, 1415, 1416, 1410, 1411, 1412]}\n"
     ]
    }
   ],
   "source": [
    "mydict = df2.groupby('Model')['Equipment ID'].agg(list).to_dict()\n",
    "print (mydict)"
   ]
  },
  {
   "cell_type": "code",
   "execution_count": 9,
   "id": "b539a742",
   "metadata": {},
   "outputs": [],
   "source": [
    "d = {val:key for key, lst in mydict.items() for val in lst}\n",
    "df['VehicleModel'] = df['Vehicle'].map(d)"
   ]
  },
  {
   "cell_type": "code",
   "execution_count": 10,
   "id": "f1fe8651",
   "metadata": {},
   "outputs": [
    {
     "data": {
      "text/plain": [
       "array(['Gillig 30 ', 'NEW FLYER XE35', 'PROTERRA CATALYST BE-40',\n",
       "       'NEW FLYER XE40', 'Gillig 35', 'Gillig 40', 'NEW FLYER XD35',\n",
       "       'NEW FLYER XDE40', 'NEW FLYER XD40', 'NEW FLYER XDE60 (ARTIC)'],\n",
       "      dtype=object)"
      ]
     },
     "execution_count": 10,
     "metadata": {},
     "output_type": "execute_result"
    }
   ],
   "source": [
    "df['VehicleModel'].unique()"
   ]
  },
  {
   "cell_type": "code",
   "execution_count": 11,
   "id": "4c2c3bbc",
   "metadata": {},
   "outputs": [],
   "source": [
    "# Assign weights based on vehicle models"
   ]
  },
  {
   "cell_type": "code",
   "execution_count": 12,
   "id": "d65159d3",
   "metadata": {},
   "outputs": [],
   "source": [
    "# weights for different models\n",
    "thisdict = {\n",
    "  \"Gillig 30 \":25700,\n",
    "  \"Gillig 35\":26440,\n",
    "  \"Gillig 40\":27180,\n",
    "  \"NEW FLYER XD35\": 26900 ,\n",
    "  \"NEW FLYER XD40\": 28250 ,\n",
    "  \"NEW FLYER XDE40\": 28250 ,\n",
    "  \"NEW FLYER XDE60 (ARTIC)\": 42250 ,\n",
    "  \"NEW FLYER XE35\": 26900 ,\n",
    "  \"NEW FLYER XE40\": 32770 ,\n",
    "  \"PROTERRA CATALYST BE-40\": 27370 ,\n",
    "}"
   ]
  },
  {
   "cell_type": "code",
   "execution_count": 13,
   "id": "b1e856ce",
   "metadata": {},
   "outputs": [],
   "source": [
    "df['VehiclWeight(lb)'] = df['VehicleModel'].map(thisdict)"
   ]
  },
  {
   "cell_type": "code",
   "execution_count": 14,
   "id": "5a23189a",
   "metadata": {},
   "outputs": [
    {
     "data": {
      "text/plain": [
       "array([25700, 26900, 27370, 32770, 26440, 27180, 28250, 42250],\n",
       "      dtype=int64)"
      ]
     },
     "execution_count": 14,
     "metadata": {},
     "output_type": "execute_result"
    }
   ],
   "source": [
    "df['VehiclWeight(lb)'].unique()"
   ]
  },
  {
   "cell_type": "code",
   "execution_count": 15,
   "id": "57eb0a41",
   "metadata": {},
   "outputs": [
    {
     "data": {
      "text/plain": [
       "array([], dtype=int64)"
      ]
     },
     "execution_count": 15,
     "metadata": {},
     "output_type": "execute_result"
    }
   ],
   "source": [
    "df['Vehicle'][df['VehiclWeight(lb)'].isnull()].unique()"
   ]
  },
  {
   "cell_type": "code",
   "execution_count": 16,
   "id": "7eff01da",
   "metadata": {},
   "outputs": [],
   "source": [
    "# save the final data frame with mapped model and weights\n",
    "df.to_csv(r'../../results/trajectories-mapped-powertrain-weight.csv')"
   ]
  },
  {
   "cell_type": "code",
   "execution_count": 17,
   "id": "280220b9",
   "metadata": {},
   "outputs": [
    {
     "data": {
      "text/html": [
       "<div>\n",
       "<style scoped>\n",
       "    .dataframe tbody tr th:only-of-type {\n",
       "        vertical-align: middle;\n",
       "    }\n",
       "\n",
       "    .dataframe tbody tr th {\n",
       "        vertical-align: top;\n",
       "    }\n",
       "\n",
       "    .dataframe thead th {\n",
       "        text-align: right;\n",
       "    }\n",
       "</style>\n",
       "<table border=\"1\" class=\"dataframe\">\n",
       "  <thead>\n",
       "    <tr style=\"text-align: right;\">\n",
       "      <th></th>\n",
       "      <th>VehicleModel</th>\n",
       "    </tr>\n",
       "  </thead>\n",
       "  <tbody>\n",
       "  </tbody>\n",
       "</table>\n",
       "</div>"
      ],
      "text/plain": [
       "Empty DataFrame\n",
       "Columns: [VehicleModel]\n",
       "Index: []"
      ]
     },
     "execution_count": 17,
     "metadata": {},
     "output_type": "execute_result"
    }
   ],
   "source": [
    "df[['VehicleModel']].loc[df['Vehicle'] == '7902']"
   ]
  },
  {
   "cell_type": "code",
   "execution_count": 18,
   "id": "820348ea-adfd-4d65-9e7d-4fad80385bac",
   "metadata": {},
   "outputs": [
    {
     "data": {
      "text/plain": [
       "Index(['Unnamed: 0.1', 'ServiceDateTime', 'Unnamed: 0', 'DateKey',\n",
       "       'CalendarDate', 'Year', 'Month', 'OpKey', 'Operator', 'RtKey', 'RtKey2',\n",
       "       'Route', 'RouteName', 'TripKey', 'Trip', 'StopKey', 'Stop', 'StopName',\n",
       "       'Lat', 'Lon', 'Vehicle', 'VehicleType', 'SeatedCap', 'TotalCap',\n",
       "       'Boards', 'Alights', 'Onboard', 'Bike', 'Wheelchair', 'Weekday', 'Hour',\n",
       "       'Minute', 'Second', 'Date', 'Daytype', 'time', 'time_delta',\n",
       "       'time_delta_in_seconds', 'dist', 'speed', 'acc', 'Powertrain',\n",
       "       'VehicleModel', 'VehiclWeight(lb)'],\n",
       "      dtype='object')"
      ]
     },
     "execution_count": 18,
     "metadata": {},
     "output_type": "execute_result"
    }
   ],
   "source": [
    "df.columns"
   ]
  },
  {
   "cell_type": "code",
   "execution_count": 19,
   "id": "579c13ee-6734-4549-9c6e-7a20ca036edf",
   "metadata": {},
   "outputs": [
    {
     "data": {
      "text/html": [
       "<div>\n",
       "<style scoped>\n",
       "    .dataframe tbody tr th:only-of-type {\n",
       "        vertical-align: middle;\n",
       "    }\n",
       "\n",
       "    .dataframe tbody tr th {\n",
       "        vertical-align: top;\n",
       "    }\n",
       "\n",
       "    .dataframe thead th {\n",
       "        text-align: right;\n",
       "    }\n",
       "</style>\n",
       "<table border=\"1\" class=\"dataframe\">\n",
       "  <thead>\n",
       "    <tr style=\"text-align: right;\">\n",
       "      <th></th>\n",
       "      <th>Powertrain</th>\n",
       "      <th>VehicleModel</th>\n",
       "    </tr>\n",
       "  </thead>\n",
       "  <tbody>\n",
       "    <tr>\n",
       "      <th>1355789</th>\n",
       "      <td>hybrid</td>\n",
       "      <td>NEW FLYER XDE60 (ARTIC)</td>\n",
       "    </tr>\n",
       "    <tr>\n",
       "      <th>1355790</th>\n",
       "      <td>hybrid</td>\n",
       "      <td>NEW FLYER XDE60 (ARTIC)</td>\n",
       "    </tr>\n",
       "    <tr>\n",
       "      <th>1355791</th>\n",
       "      <td>hybrid</td>\n",
       "      <td>NEW FLYER XDE60 (ARTIC)</td>\n",
       "    </tr>\n",
       "    <tr>\n",
       "      <th>1355792</th>\n",
       "      <td>hybrid</td>\n",
       "      <td>NEW FLYER XDE60 (ARTIC)</td>\n",
       "    </tr>\n",
       "    <tr>\n",
       "      <th>1355793</th>\n",
       "      <td>hybrid</td>\n",
       "      <td>NEW FLYER XDE60 (ARTIC)</td>\n",
       "    </tr>\n",
       "    <tr>\n",
       "      <th>...</th>\n",
       "      <td>...</td>\n",
       "      <td>...</td>\n",
       "    </tr>\n",
       "    <tr>\n",
       "      <th>1360782</th>\n",
       "      <td>hybrid</td>\n",
       "      <td>NEW FLYER XDE60 (ARTIC)</td>\n",
       "    </tr>\n",
       "    <tr>\n",
       "      <th>1360783</th>\n",
       "      <td>hybrid</td>\n",
       "      <td>NEW FLYER XDE60 (ARTIC)</td>\n",
       "    </tr>\n",
       "    <tr>\n",
       "      <th>1360784</th>\n",
       "      <td>hybrid</td>\n",
       "      <td>NEW FLYER XDE60 (ARTIC)</td>\n",
       "    </tr>\n",
       "    <tr>\n",
       "      <th>1360785</th>\n",
       "      <td>hybrid</td>\n",
       "      <td>NEW FLYER XDE60 (ARTIC)</td>\n",
       "    </tr>\n",
       "    <tr>\n",
       "      <th>1360786</th>\n",
       "      <td>hybrid</td>\n",
       "      <td>NEW FLYER XDE60 (ARTIC)</td>\n",
       "    </tr>\n",
       "  </tbody>\n",
       "</table>\n",
       "<p>4998 rows × 2 columns</p>\n",
       "</div>"
      ],
      "text/plain": [
       "        Powertrain             VehicleModel\n",
       "1355789     hybrid  NEW FLYER XDE60 (ARTIC)\n",
       "1355790     hybrid  NEW FLYER XDE60 (ARTIC)\n",
       "1355791     hybrid  NEW FLYER XDE60 (ARTIC)\n",
       "1355792     hybrid  NEW FLYER XDE60 (ARTIC)\n",
       "1355793     hybrid  NEW FLYER XDE60 (ARTIC)\n",
       "...            ...                      ...\n",
       "1360782     hybrid  NEW FLYER XDE60 (ARTIC)\n",
       "1360783     hybrid  NEW FLYER XDE60 (ARTIC)\n",
       "1360784     hybrid  NEW FLYER XDE60 (ARTIC)\n",
       "1360785     hybrid  NEW FLYER XDE60 (ARTIC)\n",
       "1360786     hybrid  NEW FLYER XDE60 (ARTIC)\n",
       "\n",
       "[4998 rows x 2 columns]"
      ]
     },
     "execution_count": 19,
     "metadata": {},
     "output_type": "execute_result"
    }
   ],
   "source": [
    "df[['Powertrain','VehicleModel']].loc[df['Vehicle'] == 7902]"
   ]
  },
  {
   "cell_type": "code",
   "execution_count": 20,
   "id": "2af92c8c-73ac-47db-be22-18081898c389",
   "metadata": {},
   "outputs": [
    {
     "data": {
      "text/plain": [
       "array([1205, 1320, 1321, 1322, 1323, 1410, 1411, 1412, 1413, 1415, 1416,\n",
       "       1420, 1421, 1552, 1553, 1555, 1557, 1563, 1564, 1565, 1566, 1567,\n",
       "       1568, 1571, 1572, 1574, 1575, 1576, 1577, 1578, 1619, 1640, 1642,\n",
       "       1643, 1644, 1648, 1649, 1650, 1651, 1652, 1653, 1654, 1655, 1656,\n",
       "       1657, 1658, 1659, 1660, 1661, 1662, 1663, 1664, 1670, 1671, 1672,\n",
       "       1701, 1710, 1711, 1712, 1714, 1715, 1716, 1717, 1718, 1719, 1720,\n",
       "       1721, 1722, 1723, 1724, 1725, 1726, 1727, 1728, 1729, 1801, 1802,\n",
       "       1803, 1804, 1805, 1811, 1812, 1813, 1814, 1815, 1817, 1819, 1821,\n",
       "       1822, 1823, 1824, 1825, 1826, 1831, 1832, 1833, 1834, 1835, 1836,\n",
       "       1837, 1840, 1841, 1842, 1843, 1844, 1845, 1847, 1848, 1849, 1850,\n",
       "       1851, 1852, 1853, 1854, 1855, 1856, 1857, 1858, 1859, 1860, 1861,\n",
       "       1862, 1864, 3212, 3221, 3222, 3223, 3225, 3226, 3228, 3301, 3302,\n",
       "       3303, 3304, 3305, 3306, 3307, 3308, 3309, 3310, 3311, 3312, 3313,\n",
       "       3314, 3316, 3317, 3318, 3319, 3320, 3321, 3322, 3323, 3324, 3325,\n",
       "       3326, 3401, 3402, 3501, 5574, 7550, 7551, 7552, 7553, 7554, 7610,\n",
       "       7660, 7661, 7662, 7801, 7802, 7811, 7812, 7813, 7814, 7815, 7816,\n",
       "       7901, 7902], dtype=int64)"
      ]
     },
     "execution_count": 20,
     "metadata": {},
     "output_type": "execute_result"
    }
   ],
   "source": [
    "df['Vehicle'].unique()"
   ]
  },
  {
   "cell_type": "code",
   "execution_count": null,
   "id": "9b65cfb6-bd06-47c0-9204-243c315c10db",
   "metadata": {},
   "outputs": [],
   "source": []
  }
 ],
 "metadata": {
  "kernelspec": {
   "display_name": "Python 3 (ipykernel)",
   "language": "python",
   "name": "python3"
  },
  "language_info": {
   "codemirror_mode": {
    "name": "ipython",
    "version": 3
   },
   "file_extension": ".py",
   "mimetype": "text/x-python",
   "name": "python",
   "nbconvert_exporter": "python",
   "pygments_lexer": "ipython3",
   "version": "3.11.0"
  }
 },
 "nbformat": 4,
 "nbformat_minor": 5
}
