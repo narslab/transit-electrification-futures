{
 "cells": [
  {
   "cell_type": "code",
   "execution_count": 58,
   "id": "968250de-5bdc-49c2-b810-b51d95f4a7f8",
   "metadata": {},
   "outputs": [],
   "source": [
    "import pandas as pd\n",
    "import numpy as np\n",
    "import re\n",
    "import gc"
   ]
  },
  {
   "cell_type": "code",
   "execution_count": 49,
   "id": "a7cfe9f9-1b00-425b-b695-ca0f0dc3440b",
   "metadata": {},
   "outputs": [],
   "source": [
    "# Step 1: Load the data\n",
    "routes = pd.read_csv(r'../../data/tidy/google_transit/routes.txt')\n",
    "trips = pd.read_csv(r'../../data/tidy/google_transit/trips.txt')\n",
    "stop_times = pd.read_csv(r'../../data/tidy/google_transit/stop_times.txt')"
   ]
  },
  {
   "cell_type": "code",
   "execution_count": 50,
   "id": "f92043f5-0d65-4460-92e3-145e23f611ed",
   "metadata": {},
   "outputs": [
    {
     "name": "stdout",
     "output_type": "stream",
     "text": [
      "   route_id                                      stop_sequence\n",
      "0        30  [34, 35, 38, 42, 58, 64, 71, 82, 93, 95, 110, ...\n",
      "1        31  [157, 153, 152, 147, 133, 112, 96, 94, 81, 72,...\n",
      "2        33  [127, 130, 128, 125, 124, 9050, 9051, 9052, 96...\n",
      "3        36  [48, 51, 41, 44, 46, 58, 64, 71, 82, 93, 95, 1...\n",
      "4        45  [58, 64, 71, 82, 93, 95, 110, 106, 109, 102, 9...\n",
      "5        46  [72, 63, 56, 43, 37, 31, 9055, 19, 18, 14, 13,...\n",
      "6       801  [1775, 1768, 1763, 1757, 1753, 1747, 1738, 174...\n",
      "7       802  [1007, 1068, 1093, 1127, 1157, 1187, 1233, 126...\n",
      "8       803  [9142, 6435, 6433, 9151, 1147, 1176, 1201, 122...\n",
      "9       804  [1000, 1024, 1052, 1083, 1112, 1117, 1152, 119...\n",
      "10      805  [1007, 1068, 1093, 1127, 1157, 1187, 1233, 126...\n",
      "11      806  [9141, 922, 942, 944, 954, 977, 1035, 1065, 11...\n",
      "12      820  [11003, 461, 464, 468, 500, 513, 541, 551, 556...\n",
      "13      821  [916, 955, 970, 1002, 1051, 1077, 1104, 1208, ...\n",
      "14      823  [11003, 461, 464, 468, 471, 472, 476, 492, 498...\n",
      "15      824  [369, 368, 367, 6500, 373, 381, 390, 404, 398,...\n",
      "16      892  [1007, 1068, 1093, 1127, 1157, 1187, 1233, 126...\n",
      "17      921  [5109, 479, 473, 455, 452, 430, 419, 412, 398,...\n",
      "18      B12                                   [5115, 418, 454]\n",
      "19      B17  [7420, 764, 797, 838, 876, 894, 911, 946, 964,...\n",
      "20      B23  [8888, 6953, 6414, 5091, 6802, 5062, 5061, 506...\n",
      "21       B4  [5108, 1909, 1907, 9038, 1316, 1260, 1214, 117...\n",
      "22      B43  [251, 261, 244, 230, 183, 176, 174, 172, 168, ...\n",
      "23      B48                   [261, 259, 262, 6262, 354, 9098]\n",
      "24       B6  [616, 6951, 695, 9971, 698, 688, 678, 670, 665...\n",
      "25       B7  [7420, 797, 811, 825, 866, 806, 811, 825, 866,...\n",
      "26      B79  [7912, 7911, 7909, 7907, 7905, 7903, 332, 294,...\n",
      "27       G1  [9000, 1745, 6031, 1662, 1661, 1612, 1594, 158...\n",
      "28       G2  [1884, 9250, 1856, 1841, 1834, 1826, 1814, 179...\n",
      "29       G3  [5116, 6289, 9040, 6009, 9311, 1454, 1413, 914...\n",
      "30       G5  [5111, 6289, 9040, 6009, 6417, 1494, 1504, 151...\n",
      "31      G73                        [5109, 609, 268, 6260, 261]\n",
      "32      P20  [609, 637, 654, 656, 705, 6458, 729, 759, 770,...\n",
      "33      P21  [5117, 1913, 1915, 1916, 1287, 1232, 1185, 114...\n",
      "34      R10  [5112, 6411, 1921, 1457, 1475, 9022, 1544, 152...\n",
      "35      R14  [5114, 6411, 1921, 1457, 1475, 9022, 1544, 157...\n",
      "36      R24  [9088, 393, 414, 433, 422, 415, 380, 376, 6501...\n",
      "37      R29  [73, 75, 82, 93, 95, 113, 132, 8010, 167, 184,...\n",
      "38      R41  [261, 259, 262, 268, 283, 292, 296, 300, 302, ...\n",
      "39      R42  [55, 9011, 101, 143, 150, 163, 204, 209, 224, ...\n",
      "40      R44  [237, 5073, 227, 225, 9161, 150, 163, 204, 209...\n",
      "41      X90  [1805, 1807, 1797, 1791, 1789, 1772, 1752, 174...\n",
      "42      X92  [5114, 6289, 1495, 1505, 1529, 1542, 1562, 158...\n"
     ]
    }
   ],
   "source": [
    "# Step 2: Merge the data\n",
    "# First, merge the routes with the trips on 'route_id'\n",
    "route_trips = pd.merge(routes, trips, on='route_id')\n",
    "\n",
    "# Second, merge the result with stop_times on 'trip_id'\n",
    "full_data = pd.merge(route_trips, stop_times, on='trip_id')\n",
    "\n",
    "# Step 3: Find the most common trip for each route\n",
    "common_trips = full_data.groupby('route_id')['trip_id'].apply(lambda x: x.mode()[0])\n",
    "\n",
    "# Step 4: Create a new DataFrame to hold the result\n",
    "route_stop_sequences = pd.DataFrame(columns=['route_id', 'stop_sequence'])\n",
    "\n",
    "# Step 5: Populate the new DataFrame\n",
    "for route in common_trips.index:\n",
    "    common_trip_id = common_trips[route]\n",
    "    stop_sequence = full_data[(full_data['route_id'] == route) & (full_data['trip_id'] == common_trip_id)].sort_values('stop_sequence')['stop_id'].values\n",
    "    #route_stop_sequences = route_stop_sequences.append({'route_id': route, 'stop_sequence': stop_sequence}, ignore_index=True)\n",
    "    new_row = pd.DataFrame({'route_id': [route], 'stop_sequence': [stop_sequence]})\n",
    "    route_stop_sequences = pd.concat([route_stop_sequences, new_row], ignore_index=True)\n",
    "# Print the result\n",
    "print(route_stop_sequences)"
   ]
  },
  {
   "cell_type": "code",
   "execution_count": 51,
   "id": "3676fc94-8914-41f5-96af-5c2a4c3cd372",
   "metadata": {},
   "outputs": [],
   "source": [
    "route_stop_sequences.to_csv(r'../../results/route-stop-sequences.csv')"
   ]
  },
  {
   "cell_type": "code",
   "execution_count": 74,
   "id": "cf51d437-d8da-4029-8161-ca053cead730",
   "metadata": {},
   "outputs": [],
   "source": [
    "df =pd.read_csv(r'../../results/computed-fuel-rates-oct2021-sep2022.csv', low_memory=False)"
   ]
  },
  {
   "cell_type": "code",
   "execution_count": 53,
   "id": "f83891a3-6e62-4b69-ab28-699968b9d289",
   "metadata": {},
   "outputs": [],
   "source": [
    "# replace all occurrences of '(X)' with an empty string\n",
    "df['Route'] = df['Route'].str.replace(r'\\(X\\)|\\(\\)', '', regex=True)"
   ]
  },
  {
   "cell_type": "code",
   "execution_count": 54,
   "id": "f5722fea-67a1-4b15-b017-01c5ca202cd9",
   "metadata": {},
   "outputs": [],
   "source": [
    "df['Route'] = df['Route'].str.lstrip()"
   ]
  },
  {
   "cell_type": "code",
   "execution_count": 55,
   "id": "ebd9b9e9-f7c2-4516-b0b0-1326d89c2bd0",
   "metadata": {},
   "outputs": [
    {
     "data": {
      "text/plain": [
       "53"
      ]
     },
     "execution_count": 55,
     "metadata": {},
     "output_type": "execute_result"
    }
   ],
   "source": [
    "df['Route'].nunique()"
   ]
  },
  {
   "cell_type": "code",
   "execution_count": 56,
   "id": "b55f7da8-7e69-4bce-8633-e37dc586eb3f",
   "metadata": {},
   "outputs": [],
   "source": [
    "# Convert route_stop_sequences DataFrame to a dictionary\n",
    "stop_sequence_dict = route_stop_sequences.set_index('route_id')['stop_sequence'].apply(list).to_dict()\n",
    "\n",
    "# Helper function to convert stop to its index in the sequence\n",
    "def get_stop_index(row):\n",
    "    route = row['Route']\n",
    "    stop = row['Stop']\n",
    "    if route in stop_sequence_dict:\n",
    "        sequence = stop_sequence_dict[route]\n",
    "        if stop in sequence:\n",
    "            return sequence.index(stop)\n",
    "    return np.inf  # Stop is not in the sequence or route is not found\n",
    "\n",
    "# Apply the function to create 'stop_index' column\n",
    "df['stop_index'] = df.apply(get_stop_index, axis=1)\n",
    "\n",
    "# Make sure the DataFrame is sorted by 'Date', 'Route', 'Vehicle' before running the code\n",
    "df = df.sort_values(['Date', 'Route', 'Vehicle'])\n",
    "\n",
    "# Initialize 'run' as 1\n",
    "df['run'] = 1\n",
    "\n",
    "def calculate_runs(group):\n",
    "    route = group.name[0]\n",
    "    if route not in stop_sequence_dict:\n",
    "        return pd.Series(np.inf, index=group.index) # or return whatever makes sense in your context\n",
    "    sequence_length = len(stop_sequence_dict[route])\n",
    "    return ((group['stop_index'] == 0) | (group['stop_index'] == sequence_length - 1)).cumsum()\n",
    "\n",
    "# For each group of 'Route', 'Date', 'Vehicle', apply calculate_runs function\n",
    "df['run'] = df.groupby(['Route', 'Date', 'Vehicle']).apply(calculate_runs).values\n",
    "\n",
    "# Set 'run' as np.inf wherever 'stop_index' is np.inf\n",
    "df.loc[df['stop_index'] == np.inf, 'run'] = np.inf"
   ]
  },
  {
   "cell_type": "code",
   "execution_count": 57,
   "id": "fa7af4c7-bd95-401e-ac71-e85198518d0c",
   "metadata": {},
   "outputs": [],
   "source": [
    "# Get a list of column names matching the pattern\n",
    "pattern = re.compile(r'^Unnamed: 0\\.\\d+$')\n",
    "columns_to_drop = [col for col in df.columns if pattern.match(col)]\n",
    "\n",
    "# Drop the columns from the DataFrame\n",
    "df = df.drop(columns=columns_to_drop)"
   ]
  },
  {
   "cell_type": "code",
   "execution_count": 61,
   "id": "23f061ec-25f5-49ad-85e5-f8adbb23e25b",
   "metadata": {},
   "outputs": [
    {
     "data": {
      "image/png": "[encoded data removed]",
      "text/plain": [
       "<Figure size 640x480 with 1 Axes>"
      ]
     },
     "metadata": {},
     "output_type": "display_data"
    }
   ],
   "source": [
    "import matplotlib.pyplot as plt\n",
    "\n",
    "# Assuming df is your DataFrame\n",
    "df_filtered = df[(df['run'] != float('inf')) & (df['Powertrain'] != 'electric')]\n",
    "\n",
    "plt.hist(df_filtered['Energy'], bins=30, edgecolor='black')\n",
    "plt.title('Histogram of Energy Consumption per Run')\n",
    "plt.xlabel('Energy Consumption')\n",
    "plt.ylabel('Frequency')\n",
    "plt.show()\n"
   ]
  },
  {
   "cell_type": "code",
   "execution_count": 62,
   "id": "8a5d54b6-f434-4131-938d-a618f2c4b79b",
   "metadata": {},
   "outputs": [
    {
     "data": {
      "text/plain": [
       "Index(['Unnamed: 0', 'ServiceDateTime', 'DateKey', 'CalendarDate', 'Year',\n",
       "       'Month', 'OpKey', 'Operator', 'RtKey', 'RtKey2', 'Route', 'RouteName',\n",
       "       'TripKey', 'Trip', 'StopKey', 'Stop', 'StopName', 'Vehicle',\n",
       "       'VehicleType', 'SeatedCap', 'TotalCap', 'Lat', 'Lon', 'Boards',\n",
       "       'Alights', 'Onboard', 'Bike', 'Daytype', 'Hour', 'Minute', 'Second',\n",
       "       'Date', 'Powertrain', 'VehicleModel', 'Vehicle_mass',\n",
       "       'time_delta_in_seconds', 'dist', 'Speed', 'Acceleration', 'elevation',\n",
       "       'grade', 'Energy', 'stop_index', 'run'],\n",
       "      dtype='object')"
      ]
     },
     "execution_count": 62,
     "metadata": {},
     "output_type": "execute_result"
    }
   ],
   "source": [
    "df.columns"
   ]
  },
  {
   "cell_type": "code",
   "execution_count": 73,
   "id": "4812b466-d7f7-4ea4-9f01-01867a722ce1",
   "metadata": {},
   "outputs": [
    {
     "data": {
      "image/png": "[encoded data removed]",
      "text/plain": [
       "<Figure size 1000x600 with 1 Axes>"
      ]
     },
     "metadata": {},
     "output_type": "display_data"
    }
   ],
   "source": [
    "import pandas as pd\n",
    "import matplotlib.pyplot as plt\n",
    "import seaborn as sns\n",
    "\n",
    "# Set seaborn style for more beautiful plots\n",
    "sns.set()\n",
    "\n",
    "# Assuming df is your DataFrame\n",
    "df_filtered = df[(df['run'] != float('inf')) & (df['Powertrain'] != 'electric')]\n",
    "\n",
    "plt.figure(figsize=(10, 6)) # set figure size\n",
    "plt.hist(df_filtered['Energy'], bins=2000, color='skyblue', edgecolor='black')\n",
    "plt.title('Histogram of Energy Consumption per Run', fontsize=16)\n",
    "plt.xlabel('Energy Consumption (gal)', fontsize=14)\n",
    "plt.ylabel('Frequency', fontsize=14)\n",
    "plt.xlim([0,2.5]) # set x-axis limit\n",
    "plt.grid(True) # add grid\n",
    "plt.show()\n"
   ]
  },
  {
   "cell_type": "code",
   "execution_count": 70,
   "id": "bc55ff64-212a-4941-b18e-7c23d965f446",
   "metadata": {},
   "outputs": [
    {
     "data": {
      "text/plain": [
       "0.0"
      ]
     },
     "execution_count": 70,
     "metadata": {},
     "output_type": "execute_result"
    }
   ],
   "source": [
    "df_filtered['run'].min()"
   ]
  },
  {
   "cell_type": "code",
   "execution_count": null,
   "id": "9e3b216d-db76-4b7e-b9aa-ab78540abc2f",
   "metadata": {},
   "outputs": [],
   "source": []
  },
  {
   "cell_type": "code",
   "execution_count": 12,
   "id": "a83d8fcf-c25d-47c8-9aba-766067ac6e7f",
   "metadata": {},
   "outputs": [],
   "source": [
    "df.to_csv(r'../../results/computed-fuel-rates-runs-oct2021-sep2022.csv')"
   ]
  },
  {
   "cell_type": "code",
   "execution_count": 13,
   "id": "f63c2ffa-1f3a-4e65-b181-dea2e66a3675",
   "metadata": {},
   "outputs": [
    {
     "data": {
      "text/plain": [
       "0"
      ]
     },
     "execution_count": 13,
     "metadata": {},
     "output_type": "execute_result"
    }
   ],
   "source": [
    "# delete the dataframe\n",
    "del df\n",
    "\n",
    "# force garbage collection\n",
    "gc.collect()"
   ]
  },
  {
   "cell_type": "code",
   "execution_count": 14,
   "id": "201dad16-5218-47f2-80a8-0072c52b421b",
   "metadata": {},
   "outputs": [],
   "source": [
    "df_all_CDB =pd.read_csv(r'../../results/computed-fuel-rates-all-CDB.csv', low_memory=False)"
   ]
  },
  {
   "cell_type": "code",
   "execution_count": 15,
   "id": "9c21e57b-e406-4412-b907-ecc8bb8b376f",
   "metadata": {},
   "outputs": [],
   "source": [
    "# replace all occurrences of '(X)' with an empty string\n",
    "df_all_CDB['Route'] = df_all_CDB['Route'].str.replace(r'\\(X\\)|\\(\\)', '', regex=True)\n",
    "df_all_CDB['Route'] = df_all_CDB['Route'].str.lstrip()"
   ]
  },
  {
   "cell_type": "code",
   "execution_count": 16,
   "id": "6fbd7def-6dd0-4d1b-858c-4d9f6c352852",
   "metadata": {},
   "outputs": [],
   "source": [
    "# Apply the function to create 'stop_index' column\n",
    "df_all_CDB['stop_index'] = df_all_CDB.apply(get_stop_index, axis=1)\n",
    "\n",
    "# Make sure the DataFrame is sorted by 'Date', 'Route', 'Vehicle' before running the code\n",
    "df_all_CDB = df_all_CDB.sort_values(['Date', 'Route', 'Vehicle'])\n",
    "\n",
    "# Initialize 'run' as 1\n",
    "df_all_CDB['run'] = 1\n",
    "\n",
    "# For each group of 'Route', 'Date', 'Vehicle', apply calculate_runs function\n",
    "df_all_CDB['run'] = df_all_CDB.groupby(['Route', 'Date', 'Vehicle']).apply(calculate_runs).values\n",
    "\n",
    "# Set 'run' as np.inf wherever 'stop_index' is np.inf\n",
    "df_all_CDB.loc[df_all_CDB['stop_index'] == np.inf, 'run'] = np.inf"
   ]
  },
  {
   "cell_type": "code",
   "execution_count": 17,
   "id": "c895b937-f35b-4eb5-868d-6cfeb123ae9f",
   "metadata": {},
   "outputs": [],
   "source": [
    "# Drop the columns from the DataFrame\n",
    "df_all_CDB = df_all_CDB.drop(columns=columns_to_drop)"
   ]
  },
  {
   "cell_type": "code",
   "execution_count": 18,
   "id": "b6cb7282-5ef8-4572-9bcd-ee7b88116d65",
   "metadata": {},
   "outputs": [],
   "source": [
    "df_all_CDB.to_csv(r'../../results/computed-fuel-rates-runs-all-CDB.csv')"
   ]
  },
  {
   "cell_type": "code",
   "execution_count": 19,
   "id": "e9367c19-c2b1-48e3-832e-c3db127dcf05",
   "metadata": {},
   "outputs": [
    {
     "data": {
      "text/plain": [
       "0"
      ]
     },
     "execution_count": 19,
     "metadata": {},
     "output_type": "execute_result"
    }
   ],
   "source": [
    "# delete the dataframe\n",
    "del df_all_CDB\n",
    "\n",
    "# force garbage collection\n",
    "gc.collect()"
   ]
  },
  {
   "cell_type": "code",
   "execution_count": 20,
   "id": "c308e96d-edac-46de-b448-1b92a5c77e38",
   "metadata": {},
   "outputs": [],
   "source": [
    "df_all_HEB =pd.read_csv(r'../../results/computed-fuel-rates-all-HEB.csv', low_memory=False)"
   ]
  },
  {
   "cell_type": "code",
   "execution_count": 21,
   "id": "2b823d35-d721-48f1-8672-1cc745811224",
   "metadata": {},
   "outputs": [],
   "source": [
    "# replace all occurrences of '(X)' with an empty string\n",
    "df_all_HEB['Route'] = df_all_HEB['Route'].str.replace(r'\\(X\\)|\\(\\)', '', regex=True)\n",
    "df_all_HEB['Route'] = df_all_HEB['Route'].str.lstrip()"
   ]
  },
  {
   "cell_type": "code",
   "execution_count": 22,
   "id": "da75f1c6-7aa2-4960-a899-bbf28dc543f8",
   "metadata": {},
   "outputs": [],
   "source": [
    "# Apply the function to create 'stop_index' column\n",
    "df_all_HEB['stop_index'] = df_all_HEB.apply(get_stop_index, axis=1)\n",
    "\n",
    "# Make sure the DataFrame is sorted by 'Date', 'Route', 'Vehicle' before running the code\n",
    "df_all_HEB = df_all_HEB.sort_values(['Date', 'Route', 'Vehicle'])\n",
    "\n",
    "# Initialize 'run' as 1\n",
    "df_all_HEB['run'] = 1\n",
    "\n",
    "# For each group of 'Route', 'Date', 'Vehicle', apply calculate_runs function\n",
    "df_all_HEB['run'] = df_all_HEB.groupby(['Route', 'Date', 'Vehicle']).apply(calculate_runs).values\n",
    "\n",
    "# Set 'run' as np.inf wherever 'stop_index' is np.inf\n",
    "df_all_HEB.loc[df_all_HEB['stop_index'] == np.inf, 'run'] = np.inf"
   ]
  },
  {
   "cell_type": "code",
   "execution_count": 23,
   "id": "edf6499e-c120-49eb-8b89-7c77bd9f23d5",
   "metadata": {},
   "outputs": [],
   "source": [
    "# Drop the columns from the DataFrame\n",
    "df_all_HEB = df_all_HEB.drop(columns=columns_to_drop)"
   ]
  },
  {
   "cell_type": "code",
   "execution_count": 24,
   "id": "f8a35ffb-506a-4956-8c91-cc4f607900e6",
   "metadata": {},
   "outputs": [],
   "source": [
    "df_all_HEB.to_csv(r'../../results/computed-fuel-rates-runs-all-HEB.csv')"
   ]
  },
  {
   "cell_type": "code",
   "execution_count": 25,
   "id": "8a52e398-c861-4816-9081-74a040fe9b71",
   "metadata": {},
   "outputs": [
    {
     "data": {
      "text/plain": [
       "0"
      ]
     },
     "execution_count": 25,
     "metadata": {},
     "output_type": "execute_result"
    }
   ],
   "source": [
    "# delete the dataframe\n",
    "del df_all_HEB\n",
    "\n",
    "# force garbage collection\n",
    "gc.collect()"
   ]
  },
  {
   "cell_type": "code",
   "execution_count": 26,
   "id": "2eaeb973-26b6-49aa-ae14-8d9d15e4058f",
   "metadata": {},
   "outputs": [],
   "source": [
    "df_all_BEB =pd.read_csv(r'../../results/computed-fuel-rates-all-BEB.csv', low_memory=False)"
   ]
  },
  {
   "cell_type": "code",
   "execution_count": 27,
   "id": "26ef6405-d06f-404d-921c-06c0fb2bc928",
   "metadata": {},
   "outputs": [],
   "source": [
    "# replace all occurrences of '(X)' with an empty string\n",
    "df_all_BEB['Route'] = df_all_BEB['Route'].str.replace(r'\\(X\\)|\\(\\)', '', regex=True)\n",
    "df_all_BEB['Route'] = df_all_BEB['Route'].str.lstrip()"
   ]
  },
  {
   "cell_type": "code",
   "execution_count": 28,
   "id": "b04b5b02-a0c8-4588-866d-8832267cc4d4",
   "metadata": {},
   "outputs": [],
   "source": [
    "# Apply the function to create 'stop_index' column\n",
    "df_all_BEB['stop_index'] = df_all_BEB.apply(get_stop_index, axis=1)\n",
    "\n",
    "# Make sure the DataFrame is sorted by 'Date', 'Route', 'Vehicle' before running the code\n",
    "df_all_BEB = df_all_BEB.sort_values(['Date', 'Route', 'Vehicle'])\n",
    "\n",
    "# Initialize 'run' as 1\n",
    "df_all_BEB['run'] = 1\n",
    "\n",
    "# For each group of 'Route', 'Date', 'Vehicle', apply calculate_runs function\n",
    "df_all_BEB['run'] = df_all_BEB.groupby(['Route', 'Date', 'Vehicle']).apply(calculate_runs).values\n",
    "\n",
    "# Set 'run' as np.inf wherever 'stop_index' is np.inf\n",
    "df_all_BEB.loc[df_all_BEB['stop_index'] == np.inf, 'run'] = np.inf"
   ]
  },
  {
   "cell_type": "code",
   "execution_count": 29,
   "id": "f3ab2f79-f704-46b1-b182-e0f6fb3d4854",
   "metadata": {},
   "outputs": [],
   "source": [
    "# Drop the columns from the DataFrame\n",
    "df_all_BEB = df_all_BEB.drop(columns=columns_to_drop)"
   ]
  },
  {
   "cell_type": "code",
   "execution_count": 30,
   "id": "d463add1-90ed-4753-b253-ea154ebfcda0",
   "metadata": {},
   "outputs": [],
   "source": [
    "df_all_BEB.to_csv(r'../../results/computed-fuel-rates-runs-all-BEB.csv')"
   ]
  },
  {
   "cell_type": "code",
   "execution_count": 31,
   "id": "f60674d1-c5a5-417b-a27b-68e6174ab012",
   "metadata": {},
   "outputs": [
    {
     "data": {
      "text/plain": [
       "0"
      ]
     },
     "execution_count": 31,
     "metadata": {},
     "output_type": "execute_result"
    }
   ],
   "source": [
    "# delete the dataframe\n",
    "del df_all_BEB\n",
    "\n",
    "# force garbage collection\n",
    "gc.collect()"
   ]
  },
  {
   "cell_type": "code",
   "execution_count": 35,
   "id": "1e8f95a3-6750-4c4e-9fbd-39aff3666cf5",
   "metadata": {},
   "outputs": [],
   "source": [
    "df_all_CDB_run =pd.read_csv(r'../../results/computed-fuel-rates-runs-all-CDB.csv', low_memory=False)"
   ]
  },
  {
   "cell_type": "code",
   "execution_count": 36,
   "id": "bab19517-b8b3-461e-abcf-a9a2383d7d9c",
   "metadata": {},
   "outputs": [],
   "source": [
    "# Assuming 'Energy' is a column in your DataFrame df\n",
    "df_all_CDB_run_grouped = df_all_CDB_run.groupby(['Vehicle', 'Date', 'Route', 'run'])['Energy'].sum().reset_index()"
   ]
  },
  {
   "cell_type": "code",
   "execution_count": 37,
   "id": "be5bd272-b6ef-4a62-b9dd-83f93d29b9cb",
   "metadata": {},
   "outputs": [],
   "source": [
    "df_all_CDB_run_grouped.to_csv(r'../../results/computed-fuel-rates-runs-grouped-all-CDB.csv')"
   ]
  },
  {
   "cell_type": "code",
   "execution_count": 38,
   "id": "99453bc1-e73f-48ec-90f6-3f1a422d5411",
   "metadata": {},
   "outputs": [
    {
     "data": {
      "text/plain": [
       "33420"
      ]
     },
     "execution_count": 38,
     "metadata": {},
     "output_type": "execute_result"
    }
   ],
   "source": [
    "# delete the dataframe\n",
    "del df_all_CDB_run\n",
    "del df_all_CDB_run_grouped\n",
    "\n",
    "# force garbage collection\n",
    "gc.collect()"
   ]
  },
  {
   "cell_type": "code",
   "execution_count": 40,
   "id": "4a119407-6d5f-44e6-81b3-72b2d149c38a",
   "metadata": {},
   "outputs": [],
   "source": [
    "df_all_HEB_run =pd.read_csv(r'../../results/computed-fuel-rates-runs-all-HEB.csv', low_memory=False)"
   ]
  },
  {
   "cell_type": "code",
   "execution_count": 41,
   "id": "0deb2aba-c18f-49f4-9158-1a8eb5dfaf53",
   "metadata": {},
   "outputs": [],
   "source": [
    "# Assuming 'Energy' is a column in your DataFrame df\n",
    "df_all_HEB_run_grouped = df_all_HEB_run.groupby(['Vehicle', 'Date', 'Route', 'run'])['Energy'].sum().reset_index()"
   ]
  },
  {
   "cell_type": "code",
   "execution_count": 42,
   "id": "bf8714b9-49dc-4181-822f-66b6c950bc60",
   "metadata": {},
   "outputs": [],
   "source": [
    "df_all_HEB_run_grouped.to_csv(r'../../results/computed-fuel-rates-runs-grouped-all-HEB.csv')"
   ]
  },
  {
   "cell_type": "code",
   "execution_count": 43,
   "id": "388062c6-da6b-4afc-a2ff-ac2a854b893f",
   "metadata": {},
   "outputs": [
    {
     "data": {
      "text/plain": [
       "2849"
      ]
     },
     "execution_count": 43,
     "metadata": {},
     "output_type": "execute_result"
    }
   ],
   "source": [
    "# delete the dataframe\n",
    "del df_all_HEB_run\n",
    "del df_all_HEB_run_grouped\n",
    "\n",
    "# force garbage collection\n",
    "gc.collect()"
   ]
  },
  {
   "cell_type": "code",
   "execution_count": 44,
   "id": "b0bae883-74c6-463d-a26f-7ba4a230648f",
   "metadata": {},
   "outputs": [],
   "source": [
    "df_all_BEB_run =pd.read_csv(r'../../results/computed-fuel-rates-runs-all-BEB.csv', low_memory=False)"
   ]
  },
  {
   "cell_type": "code",
   "execution_count": 45,
   "id": "88ca4935-927d-4e98-ba12-04c7d720c06d",
   "metadata": {},
   "outputs": [],
   "source": [
    "# Assuming 'Energy' is a column in your DataFrame df\n",
    "df_all_BEB_run_grouped = df_all_BEB_run.groupby(['Vehicle', 'Date', 'Route', 'run'])['Energy'].sum().reset_index()"
   ]
  },
  {
   "cell_type": "code",
   "execution_count": 46,
   "id": "4bf0e8d8-f012-4421-a18f-b3f315428174",
   "metadata": {},
   "outputs": [],
   "source": [
    "df_all_BEB_run_grouped.to_csv(r'../../results/computed-fuel-rates-runs-grouped-all-BEB.csv')"
   ]
  },
  {
   "cell_type": "code",
   "execution_count": 47,
   "id": "63e6dcd3-4567-4d3b-8e14-7bd2abceeb6d",
   "metadata": {},
   "outputs": [
    {
     "data": {
      "text/plain": [
       "0"
      ]
     },
     "execution_count": 47,
     "metadata": {},
     "output_type": "execute_result"
    }
   ],
   "source": [
    "# delete the dataframe\n",
    "del df_all_BEB_run\n",
    "del df_all_BEB_run_grouped\n",
    "\n",
    "# force garbage collection\n",
    "gc.collect()"
   ]
  },
  {
   "cell_type": "code",
   "execution_count": 79,
   "id": "a0308ac5-4e95-40f8-b243-a6e88449c748",
   "metadata": {},
   "outputs": [
    {
     "data": {
      "text/plain": [
       "Index(['Unnamed: 0.4', 'Unnamed: 0.3', 'Unnamed: 0.2', 'Unnamed: 0.1',\n",
       "       'Unnamed: 0', 'ServiceDateTime', 'DateKey', 'CalendarDate', 'Year',\n",
       "       'Month', 'OpKey', 'Operator', 'RtKey', 'RtKey2', 'Route', 'RouteName',\n",
       "       'TripKey', 'Trip', 'StopKey', 'Stop', 'StopName', 'Vehicle',\n",
       "       'VehicleType', 'SeatedCap', 'TotalCap', 'Lat', 'Lon', 'Boards',\n",
       "       'Alights', 'Onboard', 'Bike', 'Daytype', 'Hour', 'Minute', 'Second',\n",
       "       'Date', 'Powertrain', 'VehicleModel', 'Vehicle_mass',\n",
       "       'time_delta_in_seconds', 'dist', 'Speed', 'Acceleration', 'elevation',\n",
       "       'grade', 'Energy'],\n",
       "      dtype='object')"
      ]
     },
     "execution_count": 79,
     "metadata": {},
     "output_type": "execute_result"
    }
   ],
   "source": [
    "df.columns"
   ]
  },
  {
   "cell_type": "code",
   "execution_count": 80,
   "id": "dd885fdd-a0c8-46fe-a933-703783fe4604",
   "metadata": {},
   "outputs": [
    {
     "data": {
      "text/plain": [
       "88013"
      ]
     },
     "execution_count": 80,
     "metadata": {},
     "output_type": "execute_result"
    }
   ],
   "source": [
    "len(df['TripKey'].unique())"
   ]
  },
  {
   "cell_type": "code",
   "execution_count": 81,
   "id": "2f0bf3f2-9559-4dea-adfe-28fc670945cf",
   "metadata": {},
   "outputs": [
    {
     "name": "stdout",
     "output_type": "stream",
     "text": [
      "Date\n",
      "2021-10-01    5\n",
      "2021-10-02    4\n",
      "2021-10-03    3\n",
      "2021-10-04    4\n",
      "2021-10-05    6\n",
      "             ..\n",
      "2022-09-26    6\n",
      "2022-09-27    6\n",
      "2022-09-28    7\n",
      "2022-09-29    6\n",
      "2022-09-30    6\n",
      "Name: Route, Length: 363, dtype: int64\n"
     ]
    }
   ],
   "source": [
    "df['ServiceDateTime'] = pd.to_datetime(df['ServiceDateTime'])\n",
    "df['Date'] = df['ServiceDateTime'].dt.date\n",
    "\n",
    "# Find the unique routes per vehicle per day\n",
    "routes_per_vehicle_per_day = df.groupby(['Date', 'Vehicle'])['Route'].nunique()\n",
    "\n",
    "# Find the max number of unique routes a vehicle can operate in each given day\n",
    "max_routes_per_vehicle_per_day = routes_per_vehicle_per_day.groupby('Date').max()\n",
    "\n",
    "print(max_routes_per_vehicle_per_day)\n"
   ]
  },
  {
   "cell_type": "code",
   "execution_count": 84,
   "id": "c0ba3352-c75d-48fb-ab14-9064bfda1692",
   "metadata": {},
   "outputs": [
    {
     "name": "stdout",
     "output_type": "stream",
     "text": [
      "7\n"
     ]
    }
   ],
   "source": [
    "max_routes_across_all_vehicles = routes_per_vehicle_per_day.max()\n",
    "print(max_routes_across_all_vehicles)"
   ]
  },
  {
   "cell_type": "code",
   "execution_count": null,
   "id": "d7b83018-669d-48e9-87af-32a9656c8ae8",
   "metadata": {},
   "outputs": [],
   "source": []
  }
 ],
 "metadata": {
  "kernelspec": {
   "display_name": "Python 3 (ipykernel)",
   "language": "python",
   "name": "python3"
  },
  "language_info": {
   "codemirror_mode": {
    "name": "ipython",
    "version": 3
   },
   "file_extension": ".py",
   "mimetype": "text/x-python",
   "name": "python",
   "nbconvert_exporter": "python",
   "pygments_lexer": "ipython3",
   "version": "3.11.0"
  }
 },
 "nbformat": 4,
 "nbformat_minor": 5
}
