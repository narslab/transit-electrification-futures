{
 "cells": [
  {
   "cell_type": "code",
   "execution_count": 1,
   "id": "119e630a-bee6-4e6c-8493-ce1866a3381f",
   "metadata": {},
   "outputs": [],
   "source": [
    "import pandas as pd\n",
    "import numpy as np"
   ]
  },
  {
   "cell_type": "code",
   "execution_count": 2,
   "id": "7f2b0186",
   "metadata": {},
   "outputs": [
    {
     "name": "stdout",
     "output_type": "stream",
     "text": [
      "178\n"
     ]
    }
   ],
   "source": [
    "df_trajectories = pd.read_csv('../../results/trajectories-mapped-powertrain-weight.csv', delimiter=',', low_memory=False)\n",
    "print(len(df_trajectories['Vehicle'].unique()))\n"
   ]
  },
  {
   "cell_type": "code",
   "execution_count": 3,
   "id": "e1d03ab6",
   "metadata": {},
   "outputs": [
    {
     "name": "stdout",
     "output_type": "stream",
     "text": [
      "0          45.0\n",
      "1          66.0\n",
      "2          66.0\n",
      "3          51.0\n",
      "4          51.0\n",
      "           ... \n",
      "1360782    53.0\n",
      "1360783    54.0\n",
      "1360784    54.0\n",
      "1360785    53.0\n",
      "1360786    52.0\n",
      "Name: elevation, Length: 1360787, dtype: float64\n"
     ]
    }
   ],
   "source": [
    "df_elevation = pd.read_csv('../../results/stop-elevations.csv', delimiter=',', low_memory=False)\n",
    "mydict = df_elevation.set_index('stopid').to_dict()['elevation']\n",
    "df_trajectories['elevation'] = df_trajectories['Stop'].map(mydict)\n",
    "print(df_trajectories['elevation'])"
   ]
  },
  {
   "cell_type": "code",
   "execution_count": 4,
   "id": "0da62787",
   "metadata": {},
   "outputs": [
    {
     "data": {
      "text/plain": [
       "array([ 45.,  66.,  51.,  43.,  46.,  40.,  48.,  62.,  36.,  72.,  74.,\n",
       "        83.,  59.,  70.,  69.,  82.,  39.,  34.,  49.,  nan,  64., 134.,\n",
       "       135., 129., 136., 114.,  98.,  94.,  85.,  80.,  16.,  20.,  71.,\n",
       "        63.,  65.,  73.,  60.,  56.,  58.,  54.,  44.,  38.,  27.,  19.,\n",
       "        21.,  18.,  29.,  26.,  35.,  22.,  28.,  47.,  61.,  68.,  67.,\n",
       "        25.,  30.,  31.,  41.,  33.,  23.,  24.,  55.,  50.,  81.,  86.,\n",
       "        78.,  96.,  90.,  92.,  97., 106.,  84.,  32.,  57., 123.,  42.,\n",
       "        37.,  13.,  17.,  53.,  52.,  14.,  77.,  79.,  75., 113., 174.,\n",
       "       170.,  87.,  91., 100.,  95.,  76., 144., 145., 119., 110.,  99.,\n",
       "        88., 105., 101., 132., 111., 115.,  89.,  93., 121., 124., 126.,\n",
       "       108., 102., 171., 156., 178., 186., 188., 155., 109., 122., 116.,\n",
       "       194., 150., 147., 131., 118., 167., 138., 127., 104.])"
      ]
     },
     "execution_count": 4,
     "metadata": {},
     "output_type": "execute_result"
    }
   ],
   "source": [
    "df_trajectories['elevation'].unique()"
   ]
  },
  {
   "cell_type": "code",
   "execution_count": 5,
   "id": "0564207f",
   "metadata": {},
   "outputs": [],
   "source": [
    "df_trajectories.sort_values(by=['Vehicle','ServiceDateTime'], ascending=True, inplace=True)\n",
    "grade=[]\n",
    "for i in df_trajectories.index:\n",
    "    if i==0:\n",
    "        grade.append(0)\n",
    "    elif df_trajectories['dist'].loc[i] == 0:\n",
    "        grade.append(0)       \n",
    "    else:\n",
    "        elevation_diff = (df_trajectories['elevation'].loc[i] - df_trajectories['elevation'].loc[i-1]) /1000 # converts m to km\n",
    "        distance = df_trajectories['dist'].loc[i] * 1.61 # converts mile to km\n",
    "        if elevation_diff**2 < distance**2:            \n",
    "            grade_current = elevation_diff / np.sqrt ((distance**2)-(elevation_diff**2)) \n",
    "            grade.append(grade_current)\n",
    "        else:\n",
    "            grade.append(0)            \n",
    "df_trajectories['grade'] = grade"
   ]
  },
  {
   "cell_type": "code",
   "execution_count": 6,
   "id": "2b295cb2",
   "metadata": {},
   "outputs": [
    {
     "data": {
      "text/plain": [
       "array([ 0.        ,  0.02079615, -0.02973824, ...,  0.00812523,\n",
       "        0.03102752,  0.01357649])"
      ]
     },
     "execution_count": 6,
     "metadata": {},
     "output_type": "execute_result"
    }
   ],
   "source": [
    "df_trajectories['grade'].unique()"
   ]
  },
  {
   "cell_type": "code",
   "execution_count": 7,
   "id": "43f71410",
   "metadata": {},
   "outputs": [
    {
     "name": "stdout",
     "output_type": "stream",
     "text": [
      "178\n"
     ]
    }
   ],
   "source": [
    "print(len(df_trajectories['Vehicle'].unique()))"
   ]
  },
  {
   "cell_type": "code",
   "execution_count": 8,
   "id": "6ea909e2",
   "metadata": {},
   "outputs": [],
   "source": [
    "df_trajectories.to_csv('../../results/trajectories-mapped-powertrain-weight-grade.csv')"
   ]
  },
  {
   "cell_type": "code",
   "execution_count": 9,
   "id": "b76f0f88",
   "metadata": {},
   "outputs": [
    {
     "data": {
      "text/html": [
       "<div>\n",
       "<style scoped>\n",
       "    .dataframe tbody tr th:only-of-type {\n",
       "        vertical-align: middle;\n",
       "    }\n",
       "\n",
       "    .dataframe tbody tr th {\n",
       "        vertical-align: top;\n",
       "    }\n",
       "\n",
       "    .dataframe thead th {\n",
       "        text-align: right;\n",
       "    }\n",
       "</style>\n",
       "<table border=\"1\" class=\"dataframe\">\n",
       "  <thead>\n",
       "    <tr style=\"text-align: right;\">\n",
       "      <th></th>\n",
       "      <th>Powertrain</th>\n",
       "      <th>VehicleModel</th>\n",
       "    </tr>\n",
       "  </thead>\n",
       "  <tbody>\n",
       "    <tr>\n",
       "      <th>1355789</th>\n",
       "      <td>hybrid</td>\n",
       "      <td>NEW FLYER XDE60 (ARTIC)</td>\n",
       "    </tr>\n",
       "    <tr>\n",
       "      <th>1355790</th>\n",
       "      <td>hybrid</td>\n",
       "      <td>NEW FLYER XDE60 (ARTIC)</td>\n",
       "    </tr>\n",
       "    <tr>\n",
       "      <th>1355791</th>\n",
       "      <td>hybrid</td>\n",
       "      <td>NEW FLYER XDE60 (ARTIC)</td>\n",
       "    </tr>\n",
       "    <tr>\n",
       "      <th>1355792</th>\n",
       "      <td>hybrid</td>\n",
       "      <td>NEW FLYER XDE60 (ARTIC)</td>\n",
       "    </tr>\n",
       "    <tr>\n",
       "      <th>1355793</th>\n",
       "      <td>hybrid</td>\n",
       "      <td>NEW FLYER XDE60 (ARTIC)</td>\n",
       "    </tr>\n",
       "    <tr>\n",
       "      <th>...</th>\n",
       "      <td>...</td>\n",
       "      <td>...</td>\n",
       "    </tr>\n",
       "    <tr>\n",
       "      <th>1360782</th>\n",
       "      <td>hybrid</td>\n",
       "      <td>NEW FLYER XDE60 (ARTIC)</td>\n",
       "    </tr>\n",
       "    <tr>\n",
       "      <th>1360783</th>\n",
       "      <td>hybrid</td>\n",
       "      <td>NEW FLYER XDE60 (ARTIC)</td>\n",
       "    </tr>\n",
       "    <tr>\n",
       "      <th>1360784</th>\n",
       "      <td>hybrid</td>\n",
       "      <td>NEW FLYER XDE60 (ARTIC)</td>\n",
       "    </tr>\n",
       "    <tr>\n",
       "      <th>1360785</th>\n",
       "      <td>hybrid</td>\n",
       "      <td>NEW FLYER XDE60 (ARTIC)</td>\n",
       "    </tr>\n",
       "    <tr>\n",
       "      <th>1360786</th>\n",
       "      <td>hybrid</td>\n",
       "      <td>NEW FLYER XDE60 (ARTIC)</td>\n",
       "    </tr>\n",
       "  </tbody>\n",
       "</table>\n",
       "<p>4998 rows × 2 columns</p>\n",
       "</div>"
      ],
      "text/plain": [
       "        Powertrain             VehicleModel\n",
       "1355789     hybrid  NEW FLYER XDE60 (ARTIC)\n",
       "1355790     hybrid  NEW FLYER XDE60 (ARTIC)\n",
       "1355791     hybrid  NEW FLYER XDE60 (ARTIC)\n",
       "1355792     hybrid  NEW FLYER XDE60 (ARTIC)\n",
       "1355793     hybrid  NEW FLYER XDE60 (ARTIC)\n",
       "...            ...                      ...\n",
       "1360782     hybrid  NEW FLYER XDE60 (ARTIC)\n",
       "1360783     hybrid  NEW FLYER XDE60 (ARTIC)\n",
       "1360784     hybrid  NEW FLYER XDE60 (ARTIC)\n",
       "1360785     hybrid  NEW FLYER XDE60 (ARTIC)\n",
       "1360786     hybrid  NEW FLYER XDE60 (ARTIC)\n",
       "\n",
       "[4998 rows x 2 columns]"
      ]
     },
     "execution_count": 9,
     "metadata": {},
     "output_type": "execute_result"
    }
   ],
   "source": [
    "df_trajectories[['Powertrain','VehicleModel']].loc[df_trajectories['Vehicle'] == 7902]"
   ]
  },
  {
   "cell_type": "code",
   "execution_count": null,
   "id": "055ae029-c82c-43d5-a0fd-dfb625e0fcb2",
   "metadata": {},
   "outputs": [],
   "source": []
  }
 ],
 "metadata": {
  "kernelspec": {
   "display_name": "Python 3 (ipykernel)",
   "language": "python",
   "name": "python3"
  },
  "language_info": {
   "codemirror_mode": {
    "name": "ipython",
    "version": 3
   },
   "file_extension": ".py",
   "mimetype": "text/x-python",
   "name": "python",
   "nbconvert_exporter": "python",
   "pygments_lexer": "ipython3",
   "version": "3.11.0"
  }
 },
 "nbformat": 4,
 "nbformat_minor": 5
}
