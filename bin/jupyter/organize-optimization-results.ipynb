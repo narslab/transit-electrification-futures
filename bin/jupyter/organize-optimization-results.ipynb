{
 "cells": [
  {
   "cell_type": "code",
   "execution_count": 1,
   "id": "20ca0449-9399-4e6c-ba1b-6bf47a5bf352",
   "metadata": {},
   "outputs": [],
   "source": [
    "import pandas as pd"
   ]
  },
  {
   "cell_type": "code",
   "execution_count": 4,
   "id": "64a58974-5d9a-4e2f-a54d-2331f3742a04",
   "metadata": {},
   "outputs": [],
   "source": [
    "l_BM_x_variables = pd.read_csv(r'../../results/lowcap-balanced-transition-optimized-variables.csv', low_memory=False)"
   ]
  },
  {
   "cell_type": "code",
   "execution_count": 5,
   "id": "5b66880c-1b1a-489d-bbf5-56f69fe71a07",
   "metadata": {},
   "outputs": [],
   "source": [
    "l_BM_coefficients = pd.read_csv(r'../../results/lowcap-balanced-transition-coefficients.csv', low_memory=False)"
   ]
  },
  {
   "cell_type": "code",
   "execution_count": 6,
   "id": "49881f10-85de-4996-a22a-91b5fabba970",
   "metadata": {},
   "outputs": [
    {
     "data": {
      "text/html": [
       "<div>\n",
       "<style scoped>\n",
       "    .dataframe tbody tr th:only-of-type {\n",
       "        vertical-align: middle;\n",
       "    }\n",
       "\n",
       "    .dataframe tbody tr th {\n",
       "        vertical-align: top;\n",
       "    }\n",
       "\n",
       "    .dataframe thead th {\n",
       "        text-align: right;\n",
       "    }\n",
       "</style>\n",
       "<table border=\"1\" class=\"dataframe\">\n",
       "  <thead>\n",
       "    <tr style=\"text-align: right;\">\n",
       "      <th></th>\n",
       "      <th>Variable</th>\n",
       "      <th>Value</th>\n",
       "    </tr>\n",
       "  </thead>\n",
       "  <tbody>\n",
       "    <tr>\n",
       "      <th>0</th>\n",
       "      <td>x_CDB[low-cap,0,528277]</td>\n",
       "      <td>1.0</td>\n",
       "    </tr>\n",
       "    <tr>\n",
       "      <th>1</th>\n",
       "      <td>x_CDB[low-cap,0,528282]</td>\n",
       "      <td>1.0</td>\n",
       "    </tr>\n",
       "    <tr>\n",
       "      <th>2</th>\n",
       "      <td>x_CDB[low-cap,0,528283]</td>\n",
       "      <td>1.0</td>\n",
       "    </tr>\n",
       "    <tr>\n",
       "      <th>3</th>\n",
       "      <td>x_CDB[low-cap,0,528286]</td>\n",
       "      <td>1.0</td>\n",
       "    </tr>\n",
       "    <tr>\n",
       "      <th>4</th>\n",
       "      <td>x_CDB[low-cap,0,528288]</td>\n",
       "      <td>1.0</td>\n",
       "    </tr>\n",
       "    <tr>\n",
       "      <th>...</th>\n",
       "      <td>...</td>\n",
       "      <td>...</td>\n",
       "    </tr>\n",
       "    <tr>\n",
       "      <th>99451</th>\n",
       "      <td>z_HEB_low-cap_12</td>\n",
       "      <td>-0.0</td>\n",
       "    </tr>\n",
       "    <tr>\n",
       "      <th>99452</th>\n",
       "      <td>z_BEB_low-cap_12</td>\n",
       "      <td>-0.0</td>\n",
       "    </tr>\n",
       "    <tr>\n",
       "      <th>99453</th>\n",
       "      <td>z_CDB_low-cap_13</td>\n",
       "      <td>-0.0</td>\n",
       "    </tr>\n",
       "    <tr>\n",
       "      <th>99454</th>\n",
       "      <td>z_HEB_low-cap_13</td>\n",
       "      <td>1.0</td>\n",
       "    </tr>\n",
       "    <tr>\n",
       "      <th>99455</th>\n",
       "      <td>z_BEB_low-cap_13</td>\n",
       "      <td>-0.0</td>\n",
       "    </tr>\n",
       "  </tbody>\n",
       "</table>\n",
       "<p>99456 rows × 2 columns</p>\n",
       "</div>"
      ],
      "text/plain": [
       "                      Variable  Value\n",
       "0      x_CDB[low-cap,0,528277]    1.0\n",
       "1      x_CDB[low-cap,0,528282]    1.0\n",
       "2      x_CDB[low-cap,0,528283]    1.0\n",
       "3      x_CDB[low-cap,0,528286]    1.0\n",
       "4      x_CDB[low-cap,0,528288]    1.0\n",
       "...                        ...    ...\n",
       "99451         z_HEB_low-cap_12   -0.0\n",
       "99452         z_BEB_low-cap_12   -0.0\n",
       "99453         z_CDB_low-cap_13   -0.0\n",
       "99454         z_HEB_low-cap_13    1.0\n",
       "99455         z_BEB_low-cap_13   -0.0\n",
       "\n",
       "[99456 rows x 2 columns]"
      ]
     },
     "execution_count": 6,
     "metadata": {},
     "output_type": "execute_result"
    }
   ],
   "source": [
    "l_BM_variables"
   ]
  },
  {
   "cell_type": "code",
   "execution_count": 8,
   "id": "3a2e0341-eb32-4ebe-be98-007b92008f13",
   "metadata": {},
   "outputs": [
    {
     "data": {
      "text/html": [
       "<div>\n",
       "<style scoped>\n",
       "    .dataframe tbody tr th:only-of-type {\n",
       "        vertical-align: middle;\n",
       "    }\n",
       "\n",
       "    .dataframe tbody tr th {\n",
       "        vertical-align: top;\n",
       "    }\n",
       "\n",
       "    .dataframe thead th {\n",
       "        text-align: right;\n",
       "    }\n",
       "</style>\n",
       "<table border=\"1\" class=\"dataframe\">\n",
       "  <thead>\n",
       "    <tr style=\"text-align: right;\">\n",
       "      <th></th>\n",
       "      <th>Variable</th>\n",
       "      <th>Coefficient</th>\n",
       "    </tr>\n",
       "  </thead>\n",
       "  <tbody>\n",
       "    <tr>\n",
       "      <th>0</th>\n",
       "      <td>('low-cap', 0, 528277)</td>\n",
       "      <td>2.117975</td>\n",
       "    </tr>\n",
       "    <tr>\n",
       "      <th>1</th>\n",
       "      <td>('low-cap', 1, 528277)</td>\n",
       "      <td>2.117975</td>\n",
       "    </tr>\n",
       "    <tr>\n",
       "      <th>2</th>\n",
       "      <td>('low-cap', 2, 528277)</td>\n",
       "      <td>2.117975</td>\n",
       "    </tr>\n",
       "    <tr>\n",
       "      <th>3</th>\n",
       "      <td>('low-cap', 3, 528277)</td>\n",
       "      <td>2.117975</td>\n",
       "    </tr>\n",
       "    <tr>\n",
       "      <th>4</th>\n",
       "      <td>('low-cap', 4, 528277)</td>\n",
       "      <td>2.117975</td>\n",
       "    </tr>\n",
       "    <tr>\n",
       "      <th>...</th>\n",
       "      <td>...</td>\n",
       "      <td>...</td>\n",
       "    </tr>\n",
       "    <tr>\n",
       "      <th>99367</th>\n",
       "      <td>('low-cap', 9, 507069)</td>\n",
       "      <td>0.000000</td>\n",
       "    </tr>\n",
       "    <tr>\n",
       "      <th>99368</th>\n",
       "      <td>('low-cap', 10, 507069)</td>\n",
       "      <td>0.000000</td>\n",
       "    </tr>\n",
       "    <tr>\n",
       "      <th>99369</th>\n",
       "      <td>('low-cap', 11, 507069)</td>\n",
       "      <td>0.000000</td>\n",
       "    </tr>\n",
       "    <tr>\n",
       "      <th>99370</th>\n",
       "      <td>('low-cap', 12, 507069)</td>\n",
       "      <td>0.000000</td>\n",
       "    </tr>\n",
       "    <tr>\n",
       "      <th>99371</th>\n",
       "      <td>('low-cap', 13, 507069)</td>\n",
       "      <td>0.000000</td>\n",
       "    </tr>\n",
       "  </tbody>\n",
       "</table>\n",
       "<p>99372 rows × 2 columns</p>\n",
       "</div>"
      ],
      "text/plain": [
       "                      Variable  Coefficient\n",
       "0       ('low-cap', 0, 528277)     2.117975\n",
       "1       ('low-cap', 1, 528277)     2.117975\n",
       "2       ('low-cap', 2, 528277)     2.117975\n",
       "3       ('low-cap', 3, 528277)     2.117975\n",
       "4       ('low-cap', 4, 528277)     2.117975\n",
       "...                        ...          ...\n",
       "99367   ('low-cap', 9, 507069)     0.000000\n",
       "99368  ('low-cap', 10, 507069)     0.000000\n",
       "99369  ('low-cap', 11, 507069)     0.000000\n",
       "99370  ('low-cap', 12, 507069)     0.000000\n",
       "99371  ('low-cap', 13, 507069)     0.000000\n",
       "\n",
       "[99372 rows x 2 columns]"
      ]
     },
     "execution_count": 8,
     "metadata": {},
     "output_type": "execute_result"
    }
   ],
   "source": [
    "l_BM_coefficients"
   ]
  },
  {
   "cell_type": "code",
   "execution_count": null,
   "id": "35aae4a9-ab24-4bf8-b663-567ee0fc30d0",
   "metadata": {},
   "outputs": [],
   "source": []
  },
  {
   "cell_type": "code",
   "execution_count": null,
   "id": "c8d9b009-7bfd-436d-9bc7-b02a88ba7690",
   "metadata": {},
   "outputs": [],
   "source": [
    "h_BM_variables = pd.read_csv(r'../../results/highcap-balanced-transition-optimized-variables.csv', low_memory=False)"
   ]
  },
  {
   "cell_type": "code",
   "execution_count": null,
   "id": "9a46988f-d229-4234-a6a2-03861c877089",
   "metadata": {},
   "outputs": [],
   "source": [
    "h_BM_coefficients = pd.read_csv(r'../../results/highcap-balanced-transition-coefficients.csv', low_memory=False)"
   ]
  },
  {
   "cell_type": "code",
   "execution_count": null,
   "id": "969396b0-6c72-4fb7-95f5-75292297c8f5",
   "metadata": {},
   "outputs": [],
   "source": []
  },
  {
   "cell_type": "code",
   "execution_count": null,
   "id": "52cdd9de-fb8c-46f7-9007-dbd4dee9e10d",
   "metadata": {},
   "outputs": [],
   "source": []
  }
 ],
 "metadata": {
  "kernelspec": {
   "display_name": "Python 3 (ipykernel)",
   "language": "python",
   "name": "python3"
  },
  "language_info": {
   "codemirror_mode": {
    "name": "ipython",
    "version": 3
   },
   "file_extension": ".py",
   "mimetype": "text/x-python",
   "name": "python",
   "nbconvert_exporter": "python",
   "pygments_lexer": "ipython3",
   "version": "3.11.0"
  }
 },
 "nbformat": 4,
 "nbformat_minor": 5
}
