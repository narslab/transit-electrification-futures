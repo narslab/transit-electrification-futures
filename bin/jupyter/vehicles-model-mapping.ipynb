{
 "cells": [
  {
   "cell_type": "code",
   "execution_count": 220,
   "id": "119e630a-bee6-4e6c-8493-ce1866a3381f",
   "metadata": {},
   "outputs": [],
   "source": [
    "import pandas as pd\n",
    "import matplotlib.pyplot as plt"
   ]
  },
  {
   "cell_type": "code",
   "execution_count": 221,
   "id": "102f5e1b",
   "metadata": {},
   "outputs": [],
   "source": [
    "### Map powertrain"
   ]
  },
  {
   "cell_type": "code",
   "execution_count": 222,
   "id": "de8f85c3",
   "metadata": {},
   "outputs": [],
   "source": [
    "df = pd.read_csv(r'../../results/computed-trajectories.csv', delimiter=',', skiprows=0, low_memory=False)\n",
    "df2 = pd.read_csv(r'../../data/tidy/vehicles summary.csv', delimiter=',', skiprows=0, low_memory=False)"
   ]
  },
  {
   "cell_type": "code",
   "execution_count": 223,
   "id": "91a61d36",
   "metadata": {},
   "outputs": [
    {
     "data": {
      "text/plain": [
       "Index(['Operator', 'Model', 'Type', 'Year', 'Equipment ID'], dtype='object')"
      ]
     },
     "execution_count": 223,
     "metadata": {},
     "output_type": "execute_result"
    }
   ],
   "source": [
    "df2.columns"
   ]
  },
  {
   "cell_type": "code",
   "execution_count": 224,
   "id": "304072b8-943a-46c2-924e-5a15ef52ac2c",
   "metadata": {},
   "outputs": [
    {
     "data": {
      "text/plain": [
       "178"
      ]
     },
     "execution_count": 224,
     "metadata": {},
     "output_type": "execute_result"
    }
   ],
   "source": [
    "len(df['Vehicle'].unique())"
   ]
  },
  {
   "cell_type": "code",
   "execution_count": 225,
   "id": "42f9d804",
   "metadata": {},
   "outputs": [
    {
     "data": {
      "text/plain": [
       "Index(['Unnamed: 0.1', 'ServiceDateTime', 'Unnamed: 0', 'DateKey',\n",
       "       'CalendarDate', 'Year', 'Month', 'OpKey', 'Operator', 'RtKey', 'RtKey2',\n",
       "       'Route', 'RouteName', 'TripKey', 'Trip', 'StopKey', 'Stop', 'StopName',\n",
       "       'Lat', 'Lon', 'Vehicle', 'VehicleType', 'SeatedCap', 'TotalCap',\n",
       "       'Boards', 'Alights', 'Onboard', 'Bike', 'Wheelchair', 'Weekday', 'Hour',\n",
       "       'Minute', 'Second', 'Date', 'Daytype', 'time', 'time_delta',\n",
       "       'time_delta_in_seconds', 'dist', 'speed', 'acc'],\n",
       "      dtype='object')"
      ]
     },
     "execution_count": 225,
     "metadata": {},
     "output_type": "execute_result"
    }
   ],
   "source": [
    "df.columns"
   ]
  },
  {
   "cell_type": "code",
   "execution_count": 226,
   "id": "36fd3855",
   "metadata": {},
   "outputs": [
    {
     "data": {
      "text/plain": [
       "array([nan, '2021 New Flyer', '2016 Proterra', '2020 Proterra',\n",
       "       '2008 GILLIG LowFloor', '2010 GILLIG LowFloor',\n",
       "       '2010 Gillig LowFloor', '2006 GILLIG LowFloor',\n",
       "       '2008 GIllig LowFloor', '2008 Gillig LF', '2018 Gillig lowfloor',\n",
       "       '2018 Gillig Lowfloor', '2018 Gillig Low Floor', '2011 New Flyer',\n",
       "       '2015 New Flyer 35ft', 'New Flyer 2020', '2020 New Flyer', '2021',\n",
       "       '2021 bus', '2022 New Flyer', '2011 NewFlyer', '2012 New Flyer',\n",
       "       '2014 New Flyer', '2015 New Flyer', '2007 Gillig LowFloor',\n",
       "       '2008 Gillig LowFloor', '2009 Gillig LowFloor',\n",
       "       '2011 New Flyer 40ft', '2011 New Flyer 35ft',\n",
       "       'Articulated Bus V9000', 'Electric New Flyer', 'D4 RADIO   5574',\n",
       "       '7550', '7551', '7552', '7610', '7660', '7661', '7662',\n",
       "       '2011 New Flyer - 7801', '2011 New Flyer - 7802',\n",
       "       '2011 New Flyer - 7811', '2011 New Flyer - 7812',\n",
       "       '2011 New Flyer - 7813', '2011 New Flyer - 7814',\n",
       "       '2011 New Flyer - 7815', 'Articulated Buses - V9000'], dtype=object)"
      ]
     },
     "execution_count": 226,
     "metadata": {},
     "output_type": "execute_result"
    }
   ],
   "source": [
    "df['VehicleType'].unique()"
   ]
  },
  {
   "cell_type": "code",
   "execution_count": 227,
   "id": "b7eaddd3-556c-4d42-bb35-5e006e1206e4",
   "metadata": {},
   "outputs": [
    {
     "data": {
      "text/plain": [
       "array([3501], dtype=int64)"
      ]
     },
     "execution_count": 227,
     "metadata": {},
     "output_type": "execute_result"
    }
   ],
   "source": [
    "electric=df[df['VehicleType']=='Electric New Flyer']\n",
    "electric['Vehicle'].unique()"
   ]
  },
  {
   "cell_type": "code",
   "execution_count": 228,
   "id": "c70d0bbe",
   "metadata": {},
   "outputs": [
    {
     "name": "stdout",
     "output_type": "stream",
     "text": [
      "{'conventional': [1406, 1510, 1513, 1515, 1618, 1619, 1621, 1630, 1632, 1552, 1553, 1554, 1555, 1556, 1557, 1558, 1559, 1561, 1562, 1640, 1641, 1642, 1643, 1644, 1645, 1646, 1647, 1648, 1649, 1563, 1564, 1565, 1566, 1567, 1568, 1569, 1571, 1572, 1573, 1574, 1575, 1576, 1577, 1578, 1650, 1651, 1652, 1653, 1654, 1655, 1656, 1657, 1658, 1659, 1660, 1661, 1662, 1663, 1664, 1701, 1810, 1811, 1812, 1813, 1814, 1815, 1816, 1817, 1818, 1819, 1821, 1822, 1823, 1824, 1825, 1826, 1830, 1831, 1832, 1833, 1834, 1835, 1836, 1837, 1710, 1711, 1712, 1713, 1714, 1840, 1841, 1842, 1843, 1844, 1845, 1846, 1847, 1848, 1849, 1670, 1671, 1672, 1673, 1715, 1716, 1717, 1718, 1719, 1720, 1850, 1851, 1852, 1853, 1854, 1855, 1856, 1721, 1722, 1723, 1857, 1858, 1859, 1860, 1861, 1724, 1725, 1726, 1727, 1728, 1729, 1862, 1863, 1864, 3211, 3307, 3308, 7610, 7550, 7551, 7660, 7661, 7662, 7552, 7801, 7802, 7811, 7812, 7813, 7814, 7815, 7902, 7553, 7554, 7816, 7817], 'electric': [1413, 1414, 1415, 1416, 1320, 1321, 1322, 1323, 1420, 1421, 7700, 3501], 'hybrid': [1801, 1802, 1803, 1804, 1805, 7901]}\n"
     ]
    }
   ],
   "source": [
    "mydict = df2.groupby('Type')['Equipment ID'].agg(list).to_dict()\n",
    "print (mydict)"
   ]
  },
  {
   "cell_type": "code",
   "execution_count": 229,
   "id": "30409c4c",
   "metadata": {},
   "outputs": [],
   "source": [
    "d = {val:key for key, lst in mydict.items() for val in lst}\n",
    "df['Powertrain'] = df['Vehicle'].map(d)"
   ]
  },
  {
   "cell_type": "code",
   "execution_count": 230,
   "id": "8bc08787",
   "metadata": {},
   "outputs": [
    {
     "data": {
      "text/plain": [
       "array([nan, 'electric', 'conventional', 'hybrid'], dtype=object)"
      ]
     },
     "execution_count": 230,
     "metadata": {},
     "output_type": "execute_result"
    }
   ],
   "source": [
    "df['Powertrain'].unique()"
   ]
  },
  {
   "cell_type": "code",
   "execution_count": 231,
   "id": "a8de189d",
   "metadata": {},
   "outputs": [
    {
     "data": {
      "text/plain": [
       "0                   NaN\n",
       "1                   NaN\n",
       "2                   NaN\n",
       "3                   NaN\n",
       "4                   NaN\n",
       "               ...     \n",
       "1361544    conventional\n",
       "1361545    conventional\n",
       "1361546    conventional\n",
       "1361547    conventional\n",
       "1361548    conventional\n",
       "Name: Powertrain, Length: 1361549, dtype: object"
      ]
     },
     "execution_count": 231,
     "metadata": {},
     "output_type": "execute_result"
    }
   ],
   "source": [
    "df['Powertrain']"
   ]
  },
  {
   "cell_type": "code",
   "execution_count": 232,
   "id": "f0d4a8ac-526a-4ff1-b6b8-0ff784a8eea9",
   "metadata": {},
   "outputs": [
    {
     "data": {
      "text/plain": [
       "178"
      ]
     },
     "execution_count": 232,
     "metadata": {},
     "output_type": "execute_result"
    }
   ],
   "source": [
    "len(df['Vehicle'].unique())"
   ]
  },
  {
   "cell_type": "code",
   "execution_count": 233,
   "id": "5695a209-0919-4158-94bc-749c324093e2",
   "metadata": {},
   "outputs": [],
   "source": [
    "#df['Powertrain'] = df['Powertrain'].fillna('conventional')"
   ]
  },
  {
   "cell_type": "code",
   "execution_count": 234,
   "id": "c0c3817a-60b6-4086-b6f1-738368a7b424",
   "metadata": {},
   "outputs": [
    {
     "data": {
      "text/plain": [
       "array([], dtype=object)"
      ]
     },
     "execution_count": 234,
     "metadata": {},
     "output_type": "execute_result"
    }
   ],
   "source": [
    "unknown_vehicles=df.loc[df['Powertrain'] == 0 , 'VehicleType']\n",
    "unknown_vehicle_list=unknown_vehicles.unique()\n",
    "unknown_vehicle_list"
   ]
  },
  {
   "cell_type": "code",
   "execution_count": 235,
   "id": "6df3385b",
   "metadata": {},
   "outputs": [],
   "source": [
    "#df.to_csv(r'../../results/trajectories-mapped-powertrain.csv')"
   ]
  },
  {
   "cell_type": "code",
   "execution_count": 236,
   "id": "b115840d",
   "metadata": {},
   "outputs": [],
   "source": [
    "### Map models"
   ]
  },
  {
   "cell_type": "code",
   "execution_count": 237,
   "id": "d18a0ac0",
   "metadata": {},
   "outputs": [
    {
     "data": {
      "text/html": [
       "<div>\n",
       "<style scoped>\n",
       "    .dataframe tbody tr th:only-of-type {\n",
       "        vertical-align: middle;\n",
       "    }\n",
       "\n",
       "    .dataframe tbody tr th {\n",
       "        vertical-align: top;\n",
       "    }\n",
       "\n",
       "    .dataframe thead th {\n",
       "        text-align: right;\n",
       "    }\n",
       "</style>\n",
       "<table border=\"1\" class=\"dataframe\">\n",
       "  <thead>\n",
       "    <tr style=\"text-align: right;\">\n",
       "      <th></th>\n",
       "      <th>Operator</th>\n",
       "      <th>Model</th>\n",
       "      <th>Type</th>\n",
       "      <th>Year</th>\n",
       "      <th>Equipment ID</th>\n",
       "    </tr>\n",
       "  </thead>\n",
       "  <tbody>\n",
       "    <tr>\n",
       "      <th>0</th>\n",
       "      <td>CTF (Cottage Street)</td>\n",
       "      <td>2006 GILLIG 30`</td>\n",
       "      <td>conventional</td>\n",
       "      <td>2006.0</td>\n",
       "      <td>1406</td>\n",
       "    </tr>\n",
       "    <tr>\n",
       "      <th>1</th>\n",
       "      <td>CTF (Cottage Street)</td>\n",
       "      <td>2006 GILLIG 35`</td>\n",
       "      <td>conventional</td>\n",
       "      <td>2006.0</td>\n",
       "      <td>1510</td>\n",
       "    </tr>\n",
       "    <tr>\n",
       "      <th>2</th>\n",
       "      <td>CTF (Cottage Street)</td>\n",
       "      <td>2006 GILLIG 35`</td>\n",
       "      <td>conventional</td>\n",
       "      <td>2006.0</td>\n",
       "      <td>1513</td>\n",
       "    </tr>\n",
       "    <tr>\n",
       "      <th>3</th>\n",
       "      <td>CTF (Cottage Street)</td>\n",
       "      <td>2006 GILLIG 35`</td>\n",
       "      <td>conventional</td>\n",
       "      <td>2006.0</td>\n",
       "      <td>1515</td>\n",
       "    </tr>\n",
       "    <tr>\n",
       "      <th>4</th>\n",
       "      <td>CTF (Cottage Street)</td>\n",
       "      <td>2006 GILLIG 40`</td>\n",
       "      <td>conventional</td>\n",
       "      <td>2006.0</td>\n",
       "      <td>1618</td>\n",
       "    </tr>\n",
       "    <tr>\n",
       "      <th>...</th>\n",
       "      <td>...</td>\n",
       "      <td>...</td>\n",
       "      <td>...</td>\n",
       "      <td>...</td>\n",
       "      <td>...</td>\n",
       "    </tr>\n",
       "    <tr>\n",
       "      <th>219</th>\n",
       "      <td>UMTS</td>\n",
       "      <td>NaN</td>\n",
       "      <td>NaN</td>\n",
       "      <td>NaN</td>\n",
       "      <td>3324</td>\n",
       "    </tr>\n",
       "    <tr>\n",
       "      <th>220</th>\n",
       "      <td>UMTS</td>\n",
       "      <td>NaN</td>\n",
       "      <td>NaN</td>\n",
       "      <td>NaN</td>\n",
       "      <td>3325</td>\n",
       "    </tr>\n",
       "    <tr>\n",
       "      <th>221</th>\n",
       "      <td>UMTS</td>\n",
       "      <td>NaN</td>\n",
       "      <td>NaN</td>\n",
       "      <td>NaN</td>\n",
       "      <td>3326</td>\n",
       "    </tr>\n",
       "    <tr>\n",
       "      <th>222</th>\n",
       "      <td>UMTS</td>\n",
       "      <td>NaN</td>\n",
       "      <td>NaN</td>\n",
       "      <td>NaN</td>\n",
       "      <td>3401</td>\n",
       "    </tr>\n",
       "    <tr>\n",
       "      <th>223</th>\n",
       "      <td>UMTS</td>\n",
       "      <td>NaN</td>\n",
       "      <td>NaN</td>\n",
       "      <td>NaN</td>\n",
       "      <td>3402</td>\n",
       "    </tr>\n",
       "  </tbody>\n",
       "</table>\n",
       "<p>224 rows × 5 columns</p>\n",
       "</div>"
      ],
      "text/plain": [
       "                 Operator            Model          Type    Year  Equipment ID\n",
       "0    CTF (Cottage Street)  2006 GILLIG 30`  conventional  2006.0          1406\n",
       "1    CTF (Cottage Street)  2006 GILLIG 35`  conventional  2006.0          1510\n",
       "2    CTF (Cottage Street)  2006 GILLIG 35`  conventional  2006.0          1513\n",
       "3    CTF (Cottage Street)  2006 GILLIG 35`  conventional  2006.0          1515\n",
       "4    CTF (Cottage Street)  2006 GILLIG 40`  conventional  2006.0          1618\n",
       "..                    ...              ...           ...     ...           ...\n",
       "219                  UMTS              NaN           NaN     NaN          3324\n",
       "220                  UMTS              NaN           NaN     NaN          3325\n",
       "221                  UMTS              NaN           NaN     NaN          3326\n",
       "222                  UMTS              NaN           NaN     NaN          3401\n",
       "223                  UMTS              NaN           NaN     NaN          3402\n",
       "\n",
       "[224 rows x 5 columns]"
      ]
     },
     "execution_count": 237,
     "metadata": {},
     "output_type": "execute_result"
    }
   ],
   "source": [
    "df2"
   ]
  },
  {
   "cell_type": "code",
   "execution_count": 183,
   "id": "24790d5c",
   "metadata": {},
   "outputs": [
    {
     "data": {
      "text/plain": [
       "array(['2006 GILLIG 30`', '2006 GILLIG 35`', '2006 GILLIG 40`',\n",
       "       '2007 GILLIG 40`', '2008 GILLIG 35`', '2008 GILLIG 40`',\n",
       "       '2010 GILLIG 35`', '2010 GILLIG 40`', '2011 NEW FLYER XD35',\n",
       "       '2011 NEW FLYER XD40', '2011 NEW FLYER XD40 (HYBRID)',\n",
       "       '2012 NEW FLYER XD40', '2014 NEW FLYER XD40',\n",
       "       '2015 NEW FLYER XD35', '2015 NEW FLYER XD40', '2018 GILLIG 40`',\n",
       "       '2020 NEW FLYER XD35', '2020 NEW FLYER XD40',\n",
       "       '2020 PROTERRA CATALYST BE-40 (ELECTRIC)', '2021 NEW FLYER XD35',\n",
       "       '2021 NEW FLYER XD40', '2021 NEW FLYER XE35 (ELECTRIC)',\n",
       "       '2021 NEW FLYER XE40 (ELECTRIC)', '2022 NEW FLYER XD35',\n",
       "       '2022 NEW FLYER XD40', 'UMTS GILLIG', 'UMTS NEW FLYER',\n",
       "       '2009 GILLIG 40`', nan, '2013 NEW FLYER XDE60 (ARTIC) (HYBRID)'],\n",
       "      dtype=object)"
      ]
     },
     "execution_count": 183,
     "metadata": {},
     "output_type": "execute_result"
    }
   ],
   "source": [
    "df2['Model'].unique()"
   ]
  },
  {
   "cell_type": "code",
   "execution_count": 184,
   "id": "9f6b669e",
   "metadata": {},
   "outputs": [
    {
     "name": "stderr",
     "output_type": "stream",
     "text": [
      "C:\\Users\\Mahsa\\AppData\\Local\\Temp\\ipykernel_28420\\291724791.py:11: FutureWarning: The default value of regex will change from True to False in a future version.\n",
      "  df2.Model=df2.Model.astype(str).str.replace('2011 NEW FLYER XD40 (HYBRID)', 'New Flyer 40 hybrid')\n",
      "C:\\Users\\Mahsa\\AppData\\Local\\Temp\\ipykernel_28420\\291724791.py:19: FutureWarning: The default value of regex will change from True to False in a future version.\n",
      "  df2.Model=df2.Model.astype(str).str.replace('2020 PROTERRA CATALYST BE-40 (ELECTRIC)', 'Proterra 40 electric')\n",
      "C:\\Users\\Mahsa\\AppData\\Local\\Temp\\ipykernel_28420\\291724791.py:22: FutureWarning: The default value of regex will change from True to False in a future version.\n",
      "  df2.Model=df2.Model.astype(str).str.replace('2021 NEW FLYER XE35 (ELECTRIC)', 'New Flyer 35 electric')\n",
      "C:\\Users\\Mahsa\\AppData\\Local\\Temp\\ipykernel_28420\\291724791.py:23: FutureWarning: The default value of regex will change from True to False in a future version.\n",
      "  df2.Model=df2.Model.astype(str).str.replace('2021 NEW FLYER XE40 (ELECTRIC)', 'New Flyer 40 electric')\n",
      "C:\\Users\\Mahsa\\AppData\\Local\\Temp\\ipykernel_28420\\291724791.py:29: FutureWarning: The default value of regex will change from True to False in a future version.\n",
      "  df2.Model=df2.Model.astype(str).str.replace('2021 NEW FLYER XE35 (ELECTRIC)', 'New Flyer 35 electric')\n",
      "C:\\Users\\Mahsa\\AppData\\Local\\Temp\\ipykernel_28420\\291724791.py:30: FutureWarning: The default value of regex will change from True to False in a future version.\n",
      "  df2.Model=df2.Model.astype(str).str.replace('2013 NEW FLYER XDE60 (ARTIC) (HYBRID)', 'New Flyer 60 hybrid')\n"
     ]
    }
   ],
   "source": [
    "df2.Model=df2.Model.astype(str).str.replace('2006 GILLIG 30`', 'Gillig 30 conventional')\n",
    "df2.Model=df2.Model.astype(str).str.replace('2006 GILLIG 35`', 'Gillig 35 conventional')\n",
    "df2.Model=df2.Model.astype(str).str.replace('2006 GILLIG 40`', 'Gillig 40 conventional')\n",
    "df2.Model=df2.Model.astype(str).str.replace('2007 GILLIG 40`', 'Gillig 40 conventional')\n",
    "df2.Model=df2.Model.astype(str).str.replace('2008 GILLIG 35`', 'Gillig 35 conventional')\n",
    "df2.Model=df2.Model.astype(str).str.replace('2008 GILLIG 40`', 'Gillig 40 conventional')\n",
    "df2.Model=df2.Model.astype(str).str.replace('2010 GILLIG 35`', 'Gillig 35 conventional')\n",
    "df2.Model=df2.Model.astype(str).str.replace('2010 GILLIG 40`', 'Gillig 40 conventional')\n",
    "df2.Model=df2.Model.astype(str).str.replace('2011 NEW FLYER XD35', 'New Flyer 35 conventional')\n",
    "df2.Model=df2.Model.astype(str).str.replace('2011 NEW FLYER XD40', 'New Flyer 40 conventional')\n",
    "df2.Model=df2.Model.astype(str).str.replace('2011 NEW FLYER XD40 (HYBRID)', 'New Flyer 40 hybrid')\n",
    "df2.Model=df2.Model.astype(str).str.replace('2012 NEW FLYER XD40', 'New Flyer 40 conventional')\n",
    "df2.Model=df2.Model.astype(str).str.replace('2014 NEW FLYER XD40', 'New Flyer 40 conventional')\n",
    "df2.Model=df2.Model.astype(str).str.replace('2015 NEW FLYER XD35', 'New Flyer 35 conventional')\n",
    "df2.Model=df2.Model.astype(str).str.replace('2015 NEW FLYER XD40', 'New Flyer 40 conventional')\n",
    "df2.Model=df2.Model.astype(str).str.replace('2018 GILLIG 40`', 'Gillig 40 conventional')\n",
    "df2.Model=df2.Model.astype(str).str.replace('2020 NEW FLYER XD35', 'New Flyer 35 conventional')\n",
    "df2.Model=df2.Model.astype(str).str.replace('2020 NEW FLYER XD40', 'New Flyer 40 conventional')\n",
    "df2.Model=df2.Model.astype(str).str.replace('2020 PROTERRA CATALYST BE-40 (ELECTRIC)', 'Proterra 40 electric')\n",
    "df2.Model=df2.Model.astype(str).str.replace('2021 NEW FLYER XD35', 'New Flyer 35 conventional')\n",
    "df2.Model=df2.Model.astype(str).str.replace('2021 NEW FLYER XD40', 'New Flyer 40 conventional')\n",
    "df2.Model=df2.Model.astype(str).str.replace('2021 NEW FLYER XE35 (ELECTRIC)', 'New Flyer 35 electric')\n",
    "df2.Model=df2.Model.astype(str).str.replace('2021 NEW FLYER XE40 (ELECTRIC)', 'New Flyer 40 electric')\n",
    "df2.Model=df2.Model.astype(str).str.replace('2022 NEW FLYER XD35', 'New Flyer 35 conventional')\n",
    "df2.Model=df2.Model.astype(str).str.replace('2022 NEW FLYER XD40', 'New Flyer 40 conventional')\n",
    "df2.Model=df2.Model.astype(str).str.replace('UMTS GILLIG', 'Gillig 35 conventional')\n",
    "df2.Model=df2.Model.astype(str).str.replace('UMTS NEW FLYER', 'New Flyer 35 conventional')\n",
    "df2.Model=df2.Model.astype(str).str.replace('2009 GILLIG 40`', 'Gillig 40 conventional')\n",
    "df2.Model=df2.Model.astype(str).str.replace('2021 NEW FLYER XE35 (ELECTRIC)', 'New Flyer 35 electric')\n",
    "df2.Model=df2.Model.astype(str).str.replace('2013 NEW FLYER XDE60 (ARTIC) (HYBRID)', 'New Flyer 60 hybrid')\n",
    "#df2.Model=df2.Model.astype(str).str.replace('2020 PROTERRA CATALYST BE-40 (ELECTRIC)', 'Proterra 40 electric')\n",
    "#df2.Model=df2.Model.astype(str).str.replace('2021 NEW FLYER XE35 (ELECTRIC)', 'New Flyer 35 electric')\n",
    "#df2.Model=df2.Model.astype(str).str.replace('2021 NEW FLYER XE35 (ELECTRIC)', 'New Flyer 35 electric')\n",
    "#df2.Model=df2.Model.astype(str).str.replace('2021 NEW FLYER XE40 (ELECTRIC)', 'New Flyer 40 electric')"
   ]
  },
  {
   "cell_type": "code",
   "execution_count": 185,
   "id": "89c22f2f",
   "metadata": {},
   "outputs": [
    {
     "data": {
      "text/plain": [
       "array(['Gillig 30 conventional', 'Gillig 35 conventional',\n",
       "       'Gillig 40 conventional', 'New Flyer 35 conventional',\n",
       "       'New Flyer 40 conventional', 'New Flyer 40 conventional (HYBRID)',\n",
       "       '2020 PROTERRA CATALYST BE-40 (ELECTRIC)',\n",
       "       '2021 NEW FLYER XE35 (ELECTRIC)', '2021 NEW FLYER XE40 (ELECTRIC)',\n",
       "       'nan', '2013 NEW FLYER XDE60 (ARTIC) (HYBRID)'], dtype=object)"
      ]
     },
     "execution_count": 185,
     "metadata": {},
     "output_type": "execute_result"
    }
   ],
   "source": [
    "df2.Model.unique()"
   ]
  },
  {
   "cell_type": "code",
   "execution_count": 186,
   "id": "8a8dfaf4",
   "metadata": {},
   "outputs": [
    {
     "name": "stdout",
     "output_type": "stream",
     "text": [
      "{'2013 NEW FLYER XDE60 (ARTIC) (HYBRID)': [7901], '2020 PROTERRA CATALYST BE-40 (ELECTRIC)': [1413, 1414, 1415, 1416], '2021 NEW FLYER XE35 (ELECTRIC)': [1320, 1321, 1322, 1323], '2021 NEW FLYER XE40 (ELECTRIC)': [1420, 1421, 7700, 3501], 'Gillig 30 conventional': [1406], 'Gillig 35 conventional': [1510, 1513, 1515, 1552, 1553, 1554, 1555, 1556, 1557, 1558, 1559, 1561, 1562, 1563, 1564, 1565, 1566, 1567, 1568, 1569, 1571, 1572, 1573, 1574, 1575, 1576, 1577, 1578, 3211, 7550, 7551, 7552], 'Gillig 40 conventional': [1618, 1619, 1621, 1630, 1632, 1640, 1641, 1642, 1643, 1644, 1645, 1646, 1647, 1648, 1649, 1650, 1651, 1652, 1653, 1654, 1655, 1656, 1657, 1658, 1659, 1660, 1661, 1662, 1663, 1664, 1670, 1671, 1672, 1673, 7610, 7660], 'New Flyer 35 conventional': [1701, 1710, 1711, 1712, 1713, 1714, 1715, 1716, 1717, 1718, 1719, 1720, 1721, 1722, 1723, 1724, 1725, 1726, 1727, 1728, 1729, 3307, 3308, 7553], 'New Flyer 40 conventional': [1810, 1811, 1812, 1813, 1814, 1815, 1816, 1817, 1818, 1819, 1821, 1822, 1823, 1824, 1825, 1826, 1830, 1831, 1832, 1833, 1834, 1835, 1836, 1837, 1840, 1841, 1842, 1843, 1844, 1845, 1846, 1847, 1848, 1849, 1850, 1851, 1852, 1853, 1854, 1855, 1856, 1857, 1858, 1859, 1860, 1861, 1862, 1863, 1864, 7801, 7811, 7816, 7817], 'New Flyer 40 conventional (HYBRID)': [1801, 1802, 1803, 1804, 1805], 'nan': [7661, 7662, 7802, 7812, 7813, 7814, 7815, 7902, 7554, 3112, 3115, 3118, 3119, 3121, 3122, 3123, 3201, 3202, 3203, 3203, 3204, 3205, 3212, 3213, 3214, 3215, 3221, 3222, 3223, 3224, 3225, 3226, 3227, 3228, 3301, 3302, 3303, 3304, 3305, 3306, 3309, 3310, 3311, 3312, 3313, 3314, 3315, 3316, 3317, 3318, 3319, 3320, 3321, 3322, 3323, 3324, 3325, 3326, 3401, 3402]}\n"
     ]
    }
   ],
   "source": [
    "mydict = df2.groupby('Model')['Equipment ID'].agg(list).to_dict()\n",
    "print (mydict)"
   ]
  },
  {
   "cell_type": "code",
   "execution_count": 187,
   "id": "33914381",
   "metadata": {},
   "outputs": [],
   "source": [
    "d = {val:key for key, lst in mydict.items() for val in lst}\n",
    "df['VehicleModel'] = df['Vehicle'].map(d)"
   ]
  },
  {
   "cell_type": "code",
   "execution_count": 188,
   "id": "8ef9bc23",
   "metadata": {},
   "outputs": [
    {
     "data": {
      "text/plain": [
       "array([nan, '2021 NEW FLYER XE35 (ELECTRIC)',\n",
       "       '2020 PROTERRA CATALYST BE-40 (ELECTRIC)',\n",
       "       '2021 NEW FLYER XE40 (ELECTRIC)', 'Gillig 35 conventional',\n",
       "       'Gillig 40 conventional', 'New Flyer 35 conventional',\n",
       "       'New Flyer 40 conventional (HYBRID)', 'New Flyer 40 conventional',\n",
       "       'nan', '2013 NEW FLYER XDE60 (ARTIC) (HYBRID)'], dtype=object)"
      ]
     },
     "execution_count": 188,
     "metadata": {},
     "output_type": "execute_result"
    }
   ],
   "source": [
    "df['VehicleModel'].unique()"
   ]
  },
  {
   "cell_type": "code",
   "execution_count": 189,
   "id": "3339c9df",
   "metadata": {},
   "outputs": [],
   "source": [
    "df.VehicleModel=df.VehicleModel.replace('2013 NEW FLYER XDE60 (ARTIC) (HYBRID)', 'New Flyer 60 hybrid')\n",
    "df.VehicleModel=df.VehicleModel.replace('2021 NEW FLYER XE40 (ELECTRIC)', 'New Flyer 40 electric')\n",
    "df.VehicleModel=df.VehicleModel.replace('2021 NEW FLYER XE35 (ELECTRIC)', 'New Flyer 35 electric')\n",
    "df.VehicleModel=df.VehicleModel.replace('2020 PROTERRA CATALYST BE-40 (ELECTRIC)', 'Proterra 40 electric')\n",
    "df.VehicleModel=df.VehicleModel.replace('New Flyer conventional (HYBRID)', 'New Flyer 60 hybrid')"
   ]
  },
  {
   "cell_type": "code",
   "execution_count": 190,
   "id": "a3aebd00",
   "metadata": {},
   "outputs": [
    {
     "data": {
      "text/plain": [
       "array([nan, 'New Flyer 35 electric', 'Proterra 40 electric',\n",
       "       'New Flyer 40 electric', 'Gillig 35 conventional',\n",
       "       'Gillig 40 conventional', 'New Flyer 35 conventional',\n",
       "       'New Flyer 40 conventional (HYBRID)', 'New Flyer 40 conventional',\n",
       "       'nan', 'New Flyer 60 hybrid'], dtype=object)"
      ]
     },
     "execution_count": 190,
     "metadata": {},
     "output_type": "execute_result"
    }
   ],
   "source": [
    "df['VehicleModel'].unique()"
   ]
  },
  {
   "cell_type": "code",
   "execution_count": 191,
   "id": "1144ad32",
   "metadata": {},
   "outputs": [],
   "source": [
    "# weights for different models\n",
    "#thisdict = {\n",
    "#  42250: [\"New Flyer 60 hybrid\"],\n",
    "#  26440: [\"Gillig conventional\"],\n",
    "#  26900: [\"New Flyer conventional\"],\n",
    "#  26900: [\"New Flyer 40 conventional\"],\n",
    "#  27180: [\"Gillig 40 conventional\"],\n",
    "#  26000: [\"New Flyer 35 conventional\"],\n",
    "#  27370: [\"Proterra 40 electric\"],\n",
    "#  32770: [\"New Flyer 40 electric\"],\n",
    "#  26900: [\"New Flyer 35 electric\"],\n",
    "#  42250: ['2013 NEW FLYER XDE60 (ARTIC) (HYBRID)'],\n",
    "#  26440: ['Gillig 35 conventional'],\n",
    "#  27370: ['2020 PROTERRA CATALYST BE-40 (ELECTRIC)'],\n",
    "#  28250: ['New Flyer 40 conventional (HYBRID)'],\n",
    "#  32770: ['2021 NEW FLYER XE40 (ELECTRIC)'],\n",
    "#  26900: ['2021 NEW FLYER XE35 (ELECTRIC)']  ,\n",
    "#}"
   ]
  },
  {
   "cell_type": "code",
   "execution_count": 192,
   "id": "912b5abc",
   "metadata": {},
   "outputs": [],
   "source": [
    "# weights for different models\n",
    "#thisdict = {\n",
    "#  \"New Flyer 60 hybrid\":42250,\n",
    "#  \"Gillig conventional\": 26440,\n",
    "#  \"New Flyer conventional\": 27180 ,\n",
    "#  \"New Flyer 40 conventional\": 26000 ,\n",
    "#  \"Gillig 40 conventional\": 27180 ,\n",
    "#  \"New Flyer 35 conventional\": 26900 ,\n",
    "#  \"Proterra 40 electric\": 27370 ,\n",
    "#  \"New Flyer 40 electric\": 32770 ,\n",
    "#  \"New Flyer 35 electric\": 26900 ,\n",
    "#  \"2013 NEW FLYER XDE60 (ARTIC) (HYBRID)\": 42250,\n",
    "#  'Gillig 35 conventional': 26440,\n",
    "#  '2020 PROTERRA CATALYST BE-40 (ELECTRIC)': 27370,\n",
    "#  'New Flyer 40 conventional (HYBRID)': 28250,\n",
    "#  '2021 NEW FLYER XE40 (ELECTRIC)': 32770,\n",
    "#  '2021 NEW FLYER XE35 (ELECTRIC)': 26900,     \n",
    "# }"
   ]
  },
  {
   "cell_type": "code",
   "execution_count": 193,
   "id": "4bdf1236",
   "metadata": {},
   "outputs": [],
   "source": [
    "#d = {val:key for key, lst in thisdict.items() for val in lst}\n",
    "# df['VehiclWeight(lb)'] = df['VehicleModel'].map(thisdict)"
   ]
  },
  {
   "cell_type": "code",
   "execution_count": 194,
   "id": "64f81e77",
   "metadata": {},
   "outputs": [],
   "source": [
    "# df['VehiclWeight(lb)'].unique()"
   ]
  },
  {
   "cell_type": "code",
   "execution_count": 195,
   "id": "178b77d8-bae2-4527-8aba-3a6e34187c80",
   "metadata": {},
   "outputs": [],
   "source": [
    "#df['VehiclWeight(lb)'] = df['VehiclWeight(lb)'].fillna('26900')"
   ]
  },
  {
   "cell_type": "code",
   "execution_count": 196,
   "id": "27b1277e-9c62-4e0c-99a5-594da2836a03",
   "metadata": {},
   "outputs": [],
   "source": [
    "# df['VehiclWeight(lb)'].unique()"
   ]
  },
  {
   "cell_type": "code",
   "execution_count": 197,
   "id": "04bd36a2-62da-4167-b5d4-aa83ec436101",
   "metadata": {},
   "outputs": [
    {
     "data": {
      "text/plain": [
       "178"
      ]
     },
     "execution_count": 197,
     "metadata": {},
     "output_type": "execute_result"
    }
   ],
   "source": [
    "len(df['Vehicle'].unique())"
   ]
  },
  {
   "cell_type": "code",
   "execution_count": 198,
   "id": "de78fa16",
   "metadata": {},
   "outputs": [],
   "source": [
    "#df.to_csv(r'../../results/trajectories-mapped-powertrain-weight.csv')"
   ]
  },
  {
   "cell_type": "code",
   "execution_count": 199,
   "id": "6386491f",
   "metadata": {},
   "outputs": [],
   "source": [
    "#df = pd.read_csv(r'../../results/trajectories-mapped-powertrain-weight.csv', delimiter=',', skiprows=0, low_memory=False)"
   ]
  },
  {
   "cell_type": "code",
   "execution_count": 200,
   "id": "7a55335e",
   "metadata": {},
   "outputs": [
    {
     "data": {
      "text/html": [
       "<div>\n",
       "<style scoped>\n",
       "    .dataframe tbody tr th:only-of-type {\n",
       "        vertical-align: middle;\n",
       "    }\n",
       "\n",
       "    .dataframe tbody tr th {\n",
       "        vertical-align: top;\n",
       "    }\n",
       "\n",
       "    .dataframe thead th {\n",
       "        text-align: right;\n",
       "    }\n",
       "</style>\n",
       "<table border=\"1\" class=\"dataframe\">\n",
       "  <thead>\n",
       "    <tr style=\"text-align: right;\">\n",
       "      <th></th>\n",
       "      <th>Unnamed: 0.1</th>\n",
       "      <th>ServiceDateTime</th>\n",
       "      <th>Unnamed: 0</th>\n",
       "      <th>DateKey</th>\n",
       "      <th>CalendarDate</th>\n",
       "      <th>Year</th>\n",
       "      <th>Month</th>\n",
       "      <th>OpKey</th>\n",
       "      <th>Operator</th>\n",
       "      <th>RtKey</th>\n",
       "      <th>...</th>\n",
       "      <th>Date</th>\n",
       "      <th>Daytype</th>\n",
       "      <th>time</th>\n",
       "      <th>time_delta</th>\n",
       "      <th>time_delta_in_seconds</th>\n",
       "      <th>dist</th>\n",
       "      <th>speed</th>\n",
       "      <th>acc</th>\n",
       "      <th>Powertrain</th>\n",
       "      <th>VehicleModel</th>\n",
       "    </tr>\n",
       "  </thead>\n",
       "  <tbody>\n",
       "    <tr>\n",
       "      <th>0</th>\n",
       "      <td>0</td>\n",
       "      <td>2022-04-04 06:43:24</td>\n",
       "      <td>112564</td>\n",
       "      <td>8763</td>\n",
       "      <td>2022-04-04 00:00:00.000</td>\n",
       "      <td>2022</td>\n",
       "      <td>4</td>\n",
       "      <td>1</td>\n",
       "      <td>VATCo</td>\n",
       "      <td>3519</td>\n",
       "      <td>...</td>\n",
       "      <td>2022-04-04</td>\n",
       "      <td>Weekday</td>\n",
       "      <td>06:43:24</td>\n",
       "      <td>NaN</td>\n",
       "      <td>NaN</td>\n",
       "      <td>0.000000</td>\n",
       "      <td>0.000000</td>\n",
       "      <td>0.000000</td>\n",
       "      <td>NaN</td>\n",
       "      <td>NaN</td>\n",
       "    </tr>\n",
       "    <tr>\n",
       "      <th>1</th>\n",
       "      <td>1</td>\n",
       "      <td>2022-04-04 06:51:27</td>\n",
       "      <td>109326</td>\n",
       "      <td>8763</td>\n",
       "      <td>2022-04-04 00:00:00.000</td>\n",
       "      <td>2022</td>\n",
       "      <td>4</td>\n",
       "      <td>1</td>\n",
       "      <td>VATCo</td>\n",
       "      <td>3513</td>\n",
       "      <td>...</td>\n",
       "      <td>2022-04-04</td>\n",
       "      <td>Weekday</td>\n",
       "      <td>06:51:27</td>\n",
       "      <td>2022-07-28 00:08:03</td>\n",
       "      <td>483.0</td>\n",
       "      <td>0.627342</td>\n",
       "      <td>0.000000</td>\n",
       "      <td>0.000000</td>\n",
       "      <td>NaN</td>\n",
       "      <td>NaN</td>\n",
       "    </tr>\n",
       "    <tr>\n",
       "      <th>2</th>\n",
       "      <td>2</td>\n",
       "      <td>2022-04-04 06:51:27</td>\n",
       "      <td>112565</td>\n",
       "      <td>8763</td>\n",
       "      <td>2022-04-04 00:00:00.000</td>\n",
       "      <td>2022</td>\n",
       "      <td>4</td>\n",
       "      <td>1</td>\n",
       "      <td>VATCo</td>\n",
       "      <td>3519</td>\n",
       "      <td>...</td>\n",
       "      <td>2022-04-04</td>\n",
       "      <td>Weekday</td>\n",
       "      <td>06:51:27</td>\n",
       "      <td>2022-07-28 00:00:00</td>\n",
       "      <td>0.0</td>\n",
       "      <td>0.000000</td>\n",
       "      <td>0.000000</td>\n",
       "      <td>0.000000</td>\n",
       "      <td>NaN</td>\n",
       "      <td>NaN</td>\n",
       "    </tr>\n",
       "    <tr>\n",
       "      <th>3</th>\n",
       "      <td>3</td>\n",
       "      <td>2022-04-04 06:52:52</td>\n",
       "      <td>109327</td>\n",
       "      <td>8763</td>\n",
       "      <td>2022-04-04 00:00:00.000</td>\n",
       "      <td>2022</td>\n",
       "      <td>4</td>\n",
       "      <td>1</td>\n",
       "      <td>VATCo</td>\n",
       "      <td>3513</td>\n",
       "      <td>...</td>\n",
       "      <td>2022-04-04</td>\n",
       "      <td>Weekday</td>\n",
       "      <td>06:52:52</td>\n",
       "      <td>2022-07-28 00:01:25</td>\n",
       "      <td>85.0</td>\n",
       "      <td>0.313431</td>\n",
       "      <td>13.274729</td>\n",
       "      <td>0.069816</td>\n",
       "      <td>NaN</td>\n",
       "      <td>NaN</td>\n",
       "    </tr>\n",
       "    <tr>\n",
       "      <th>4</th>\n",
       "      <td>4</td>\n",
       "      <td>2022-04-04 06:54:33</td>\n",
       "      <td>109328</td>\n",
       "      <td>8763</td>\n",
       "      <td>2022-04-04 00:00:00.000</td>\n",
       "      <td>2022</td>\n",
       "      <td>4</td>\n",
       "      <td>1</td>\n",
       "      <td>VATCo</td>\n",
       "      <td>3513</td>\n",
       "      <td>...</td>\n",
       "      <td>2022-04-04</td>\n",
       "      <td>Weekday</td>\n",
       "      <td>06:54:33</td>\n",
       "      <td>2022-07-28 00:01:41</td>\n",
       "      <td>101.0</td>\n",
       "      <td>0.421734</td>\n",
       "      <td>15.032101</td>\n",
       "      <td>0.007778</td>\n",
       "      <td>NaN</td>\n",
       "      <td>NaN</td>\n",
       "    </tr>\n",
       "  </tbody>\n",
       "</table>\n",
       "<p>5 rows × 43 columns</p>\n",
       "</div>"
      ],
      "text/plain": [
       "   Unnamed: 0.1      ServiceDateTime  Unnamed: 0  DateKey  \\\n",
       "0             0  2022-04-04 06:43:24      112564     8763   \n",
       "1             1  2022-04-04 06:51:27      109326     8763   \n",
       "2             2  2022-04-04 06:51:27      112565     8763   \n",
       "3             3  2022-04-04 06:52:52      109327     8763   \n",
       "4             4  2022-04-04 06:54:33      109328     8763   \n",
       "\n",
       "              CalendarDate  Year  Month  OpKey Operator  RtKey  ...  \\\n",
       "0  2022-04-04 00:00:00.000  2022      4      1    VATCo   3519  ...   \n",
       "1  2022-04-04 00:00:00.000  2022      4      1    VATCo   3513  ...   \n",
       "2  2022-04-04 00:00:00.000  2022      4      1    VATCo   3519  ...   \n",
       "3  2022-04-04 00:00:00.000  2022      4      1    VATCo   3513  ...   \n",
       "4  2022-04-04 00:00:00.000  2022      4      1    VATCo   3513  ...   \n",
       "\n",
       "         Date  Daytype      time           time_delta time_delta_in_seconds  \\\n",
       "0  2022-04-04  Weekday  06:43:24                  NaN                   NaN   \n",
       "1  2022-04-04  Weekday  06:51:27  2022-07-28 00:08:03                 483.0   \n",
       "2  2022-04-04  Weekday  06:51:27  2022-07-28 00:00:00                   0.0   \n",
       "3  2022-04-04  Weekday  06:52:52  2022-07-28 00:01:25                  85.0   \n",
       "4  2022-04-04  Weekday  06:54:33  2022-07-28 00:01:41                 101.0   \n",
       "\n",
       "       dist      speed       acc  Powertrain  VehicleModel  \n",
       "0  0.000000   0.000000  0.000000         NaN           NaN  \n",
       "1  0.627342   0.000000  0.000000         NaN           NaN  \n",
       "2  0.000000   0.000000  0.000000         NaN           NaN  \n",
       "3  0.313431  13.274729  0.069816         NaN           NaN  \n",
       "4  0.421734  15.032101  0.007778         NaN           NaN  \n",
       "\n",
       "[5 rows x 43 columns]"
      ]
     },
     "execution_count": 200,
     "metadata": {},
     "output_type": "execute_result"
    }
   ],
   "source": [
    "df.head()"
   ]
  },
  {
   "cell_type": "code",
   "execution_count": 201,
   "id": "669ea840",
   "metadata": {},
   "outputs": [
    {
     "data": {
      "text/plain": [
       "178"
      ]
     },
     "execution_count": 201,
     "metadata": {},
     "output_type": "execute_result"
    }
   ],
   "source": [
    "len(df['Vehicle'].unique())"
   ]
  },
  {
   "cell_type": "code",
   "execution_count": 202,
   "id": "62e462c0-ccfe-43f5-aee1-620ed240267b",
   "metadata": {},
   "outputs": [],
   "source": [
    "#df.loc[df['VehicleModel'].eq(' '), 'VehicleModel'] = df.loc[df['VehicleType'].eq(' '), 'VehicleType'].values"
   ]
  },
  {
   "cell_type": "code",
   "execution_count": 203,
   "id": "42573462",
   "metadata": {},
   "outputs": [
    {
     "data": {
      "text/plain": [
       "array([nan, 'New Flyer 35 electric', 'Proterra 40 electric',\n",
       "       'New Flyer 40 electric', 'Gillig 35 conventional',\n",
       "       'Gillig 40 conventional', 'New Flyer 35 conventional',\n",
       "       'New Flyer 40 conventional (HYBRID)', 'New Flyer 40 conventional',\n",
       "       'nan', 'New Flyer 60 hybrid'], dtype=object)"
      ]
     },
     "execution_count": 203,
     "metadata": {},
     "output_type": "execute_result"
    }
   ],
   "source": [
    "df['VehicleModel'].unique()"
   ]
  },
  {
   "cell_type": "code",
   "execution_count": 204,
   "id": "ceafd705",
   "metadata": {},
   "outputs": [],
   "source": [
    "df.VehicleModel.fillna(df.VehicleType, inplace=True)\n"
   ]
  },
  {
   "cell_type": "code",
   "execution_count": 205,
   "id": "c6b44b0c",
   "metadata": {},
   "outputs": [
    {
     "data": {
      "text/plain": [
       "array([nan, 'New Flyer 35 electric', '2016 Proterra',\n",
       "       'Proterra 40 electric', 'New Flyer 40 electric',\n",
       "       'Gillig 35 conventional', 'Gillig 40 conventional',\n",
       "       'New Flyer 35 conventional', 'New Flyer 40 conventional (HYBRID)',\n",
       "       'New Flyer 40 conventional', 'nan', 'D4 RADIO   5574',\n",
       "       'New Flyer 60 hybrid'], dtype=object)"
      ]
     },
     "execution_count": 205,
     "metadata": {},
     "output_type": "execute_result"
    }
   ],
   "source": [
    "df['VehicleModel'].unique()"
   ]
  },
  {
   "cell_type": "code",
   "execution_count": 206,
   "id": "f002efda",
   "metadata": {},
   "outputs": [],
   "source": [
    "### Assign hybrid powertrain and fill all others with conventional\n",
    "df.loc[df['VehicleModel'] == 'New Flyer 60 hybrid', 'Powertrain'] = 'hybrid'\n",
    "df.loc[df['VehicleModel'] == 'New Flyer 40 conventional (HYBRID)', 'Powertrain'] = 'hybrid'\n",
    "df['Powertrain'] = df['Powertrain'].fillna('conventional')"
   ]
  },
  {
   "cell_type": "code",
   "execution_count": 207,
   "id": "136a4ffa",
   "metadata": {},
   "outputs": [
    {
     "name": "stderr",
     "output_type": "stream",
     "text": [
      "C:\\Users\\Mahsa\\AppData\\Local\\Temp\\ipykernel_28420\\2865980821.py:2: FutureWarning: The default value of regex will change from True to False in a future version.\n",
      "  df.VehicleModel=df.VehicleModel.astype(str).str.replace('New Flyer 40 conventional (HYBRID)', 'New Flyer 40 hybrid')\n"
     ]
    }
   ],
   "source": [
    "df.VehicleModel=df.VehicleModel.astype(str).str.replace('2016 Proterra', 'Proterra 40 electric')\n",
    "df.VehicleModel=df.VehicleModel.astype(str).str.replace('New Flyer 40 conventional (HYBRID)', 'New Flyer 40 hybrid')\n",
    "# Articulatedd buses\n",
    "df.VehicleModel=df.VehicleModel.astype(str).str.replace('Articulated Bus V9000', 'Articulated Bus conventional')\n",
    "df.VehicleModel=df.VehicleModel.astype(str).str.replace('Articulated Buses - V9000', 'Articulated Bus conventional')\n",
    "# I considered all the Gillig with unknown capacity as Gillig 35 (mean)\n",
    "df.VehicleModel=df.VehicleModel.astype(str).str.replace('2007 Gillig LowFloor', 'Gillig 35 conventional')\n",
    "df.VehicleModel=df.VehicleModel.astype(str).str.replace('2008 Gillig LowFloor', 'Gillig 35 conventional')\n",
    "df.VehicleModel=df.VehicleModel.astype(str).str.replace('2009 Gillig LowFloor', 'Gillig 35 conventional')\n",
    "df.VehicleModel=df.VehicleModel.astype(str).str.replace('2011 New Flyer 40ft', 'New Flyer 40 conventional')\n",
    "df.VehicleModel=df.VehicleModel.astype(str).str.replace('2011 New Flyer 35ft', 'New Flyer 35 conventional')\n",
    "# I considered all New Flyer with unknown capacity as New Flyer 40\n",
    "df.VehicleModel=df.VehicleModel.astype(str).str.replace('2014 New Flyer', 'New Flyer 40 conventional')\n",
    "df.VehicleModel=df.VehicleModel.astype(str).str.replace('2020 New Flyer', 'New Flyer 40 conventional')\n",
    "df.VehicleModel=df.VehicleModel.astype(str).str.replace('2021 New Flyer', 'New Flyer 40 conventional')\n",
    "df.VehicleModel=df.VehicleModel.astype(str).str.replace('2022 New Flyer', 'New Flyer 40 conventional')\n",
    "df.VehicleModel=df.VehicleModel.astype(str).str.replace('New Flyer 2020', 'New Flyer 40 conventional')\n",
    "df.VehicleModel=df.VehicleModel.astype(str).str.replace('2011 New Flyer - 7813', 'New Flyer 40 conventional')\n",
    "df.VehicleModel=df.VehicleModel.astype(str).str.replace('2011 New Flyer - 7815', 'New Flyer 40 conventional')\n",
    "df.VehicleModel=df.VehicleModel.astype(str).str.replace('2011 New Flyer - 7802', 'New Flyer 40 conventional')\n",
    "df.VehicleModel=df.VehicleModel.astype(str).str.replace('2011 New Flyer - 7812', 'New Flyer 40 conventional')\n",
    "df.VehicleModel=df.VehicleModel.astype(str).str.replace('2011 New Flyer - 7814', 'New Flyer 40 conventional')\n",
    "#Unknown\n",
    "df.VehicleModel=df.VehicleModel.astype(str).str.replace('D4 RADIO   5574', 'D4 RADIO   5574')\n",
    "df.VehicleModel=df.VehicleModel.astype(str).str.replace('7661', '7661')\n",
    "df.VehicleModel=df.VehicleModel.astype(str).str.replace('7662', '7662')"
   ]
  },
  {
   "cell_type": "code",
   "execution_count": 208,
   "id": "44c47b51",
   "metadata": {},
   "outputs": [
    {
     "data": {
      "text/plain": [
       "array(['nan', 'New Flyer 35 electric', 'Proterra 40 electric',\n",
       "       'New Flyer 40 electric', 'Gillig 35 conventional',\n",
       "       'Gillig 40 conventional', 'New Flyer 35 conventional',\n",
       "       'New Flyer 40 conventional (HYBRID)', 'New Flyer 40 conventional',\n",
       "       'D4 RADIO   5574', 'New Flyer 60 hybrid'], dtype=object)"
      ]
     },
     "execution_count": 208,
     "metadata": {},
     "output_type": "execute_result"
    }
   ],
   "source": [
    "df['VehicleModel'].unique()"
   ]
  },
  {
   "cell_type": "code",
   "execution_count": 209,
   "id": "60686ee2",
   "metadata": {},
   "outputs": [
    {
     "data": {
      "text/plain": [
       "array([1205, 3212, 3221, 3222, 3223, 3225, 3226, 3228, 3301, 3302, 3303,\n",
       "       3304, 3305, 3306, 3309, 3310, 3311, 3312, 3313, 3314, 3316, 3317,\n",
       "       3318, 3319, 3320, 3321, 3322, 3323, 3324, 3325, 3326, 3401, 3402,\n",
       "       7554, 7661, 7662, 7802, 7812, 7813, 7814, 7815, 7902], dtype=int64)"
      ]
     },
     "execution_count": 209,
     "metadata": {},
     "output_type": "execute_result"
    }
   ],
   "source": [
    "### Find unique vehicle IDs with unknown vehicle type\n",
    "df['Vehicle'][df['VehicleModel']=='nan'].unique()"
   ]
  },
  {
   "cell_type": "code",
   "execution_count": 210,
   "id": "47b7df6c",
   "metadata": {},
   "outputs": [],
   "source": [
    "### We have 4 unknown models: 5574, 7661, 7662, 1205 and \n",
    "### we considered: \n",
    "# 1205 = gillig 35\n",
    "df.loc[df['Vehicle'] == 1205, 'VehicleModel'] = 'Gillig 35 conventional'\n",
    "# 5574 = gillig 35\n",
    "df.VehicleModel=df.VehicleModel.astype(str).str.replace('D4 RADIO   5574', 'Gillig 35 conventional')\n",
    "# 7661 = gillig 40\n",
    "df.VehicleModel=df.VehicleModel.astype(str).str.replace('7661', 'Gillig 40 conventional')\n",
    "# 7662 = gillig 40\n",
    "df.VehicleModel=df.VehicleModel.astype(str).str.replace('7662', 'Gillig 40 conventional')"
   ]
  },
  {
   "cell_type": "code",
   "execution_count": 211,
   "id": "14310ed9",
   "metadata": {},
   "outputs": [
    {
     "data": {
      "text/plain": [
       "array(['Gillig 35 conventional', 'New Flyer 35 electric',\n",
       "       'Proterra 40 electric', 'New Flyer 40 electric',\n",
       "       'Gillig 40 conventional', 'New Flyer 35 conventional',\n",
       "       'New Flyer 40 conventional (HYBRID)', 'New Flyer 40 conventional',\n",
       "       'nan', 'New Flyer 60 hybrid'], dtype=object)"
      ]
     },
     "execution_count": 211,
     "metadata": {},
     "output_type": "execute_result"
    }
   ],
   "source": [
    "df['VehicleModel'].unique()"
   ]
  },
  {
   "cell_type": "code",
   "execution_count": 212,
   "id": "8c412aa8",
   "metadata": {},
   "outputs": [],
   "source": [
    "# Assigning weights to the models"
   ]
  },
  {
   "cell_type": "code",
   "execution_count": 213,
   "id": "1ed6b6cb",
   "metadata": {},
   "outputs": [],
   "source": [
    "# weights for different models\n",
    "thisdict = {\n",
    "  \"New Flyer 60 hybrid\":42250,\n",
    "  \"New Flyer 40 conventional\": 26000 ,\n",
    "  \"Gillig 40 conventional\": 27180 ,\n",
    "  \"New Flyer 35 conventional\": 26900 ,\n",
    "  \"New Flyer 40 electric\": 32770 ,\n",
    "  \"New Flyer 35 electric\": 26900 ,\n",
    "  'Gillig 35 conventional': 26440,\n",
    "  'Proterra 40 electric': 27370,\n",
    "  'New Flyer 40 conventional (HYBRID)': 28250,\n",
    "  'Articulated Bus conventional': 44000,  \n",
    "}"
   ]
  },
  {
   "cell_type": "code",
   "execution_count": 214,
   "id": "51f4d6b3",
   "metadata": {},
   "outputs": [],
   "source": [
    "df['VehiclWeight(lb)'] = df['VehicleModel'].map(thisdict)"
   ]
  },
  {
   "cell_type": "code",
   "execution_count": 215,
   "id": "369d03eb",
   "metadata": {},
   "outputs": [
    {
     "data": {
      "text/plain": [
       "array([26440., 26900., 27370., 32770., 27180., 28250., 26000.,    nan,\n",
       "       42250.])"
      ]
     },
     "execution_count": 215,
     "metadata": {},
     "output_type": "execute_result"
    }
   ],
   "source": [
    "df['VehiclWeight(lb)'].unique()"
   ]
  },
  {
   "cell_type": "code",
   "execution_count": 217,
   "id": "ed6c8b64",
   "metadata": {},
   "outputs": [
    {
     "data": {
      "text/plain": [
       "1318394    nan\n",
       "1318395    nan\n",
       "1318396    nan\n",
       "1318397    nan\n",
       "1318398    nan\n",
       "          ... \n",
       "1324334    nan\n",
       "1324335    nan\n",
       "1324336    nan\n",
       "1324337    nan\n",
       "1324338    nan\n",
       "Name: VehicleModel, Length: 5945, dtype: object"
      ]
     },
     "execution_count": 217,
     "metadata": {},
     "output_type": "execute_result"
    }
   ],
   "source": [
    "df['VehicleModel'][df['Vehicle']==7812]"
   ]
  },
  {
   "cell_type": "code",
   "execution_count": 218,
   "id": "4b34696a",
   "metadata": {},
   "outputs": [
    {
     "data": {
      "text/plain": [
       "array(['Gillig 35 conventional', 'New Flyer 35 electric',\n",
       "       'Proterra 40 electric', 'New Flyer 40 electric',\n",
       "       'Gillig 40 conventional', 'New Flyer 35 conventional',\n",
       "       'New Flyer 40 conventional (HYBRID)', 'New Flyer 40 conventional',\n",
       "       'nan', 'New Flyer 60 hybrid'], dtype=object)"
      ]
     },
     "execution_count": 218,
     "metadata": {},
     "output_type": "execute_result"
    }
   ],
   "source": [
    "df['VehicleModel'].unique()"
   ]
  },
  {
   "cell_type": "code",
   "execution_count": 219,
   "id": "1657a0e3",
   "metadata": {},
   "outputs": [
    {
     "data": {
      "text/plain": [
       "array([3212, 3221, 3222, 3223, 3225, 3226, 3228, 3301, 3302, 3303, 3304,\n",
       "       3305, 3306, 3309, 3310, 3311, 3312, 3313, 3314, 3316, 3317, 3318,\n",
       "       3319, 3320, 3321, 3322, 3323, 3324, 3325, 3326, 3401, 3402, 7554,\n",
       "       7661, 7662, 7802, 7812, 7813, 7814, 7815, 7902], dtype=int64)"
      ]
     },
     "execution_count": 219,
     "metadata": {},
     "output_type": "execute_result"
    }
   ],
   "source": [
    "df['Vehicle'][df['VehicleModel']=='nan'].unique()"
   ]
  },
  {
   "cell_type": "code",
   "execution_count": 216,
   "id": "cae4d1d9",
   "metadata": {},
   "outputs": [],
   "source": [
    "# save the final data frame with mapped model and weights\n",
    "df.to_csv(r'../../results/trajectories-mapped-powertrain-weight.csv')"
   ]
  },
  {
   "cell_type": "code",
   "execution_count": null,
   "id": "2ed99139",
   "metadata": {},
   "outputs": [],
   "source": []
  }
 ],
 "metadata": {
  "kernelspec": {
   "display_name": "Python 3 (ipykernel)",
   "language": "python",
   "name": "python3"
  },
  "language_info": {
   "codemirror_mode": {
    "name": "ipython",
    "version": 3
   },
   "file_extension": ".py",
   "mimetype": "text/x-python",
   "name": "python",
   "nbconvert_exporter": "python",
   "pygments_lexer": "ipython3",
   "version": "3.11.0"
  }
 },
 "nbformat": 4,
 "nbformat_minor": 5
}
