{
 "cells": [
  {
   "cell_type": "code",
   "execution_count": 1,
   "id": "6628957b-bc2c-426f-989e-d01b3598f61d",
   "metadata": {},
   "outputs": [],
   "source": [
    "import pandas as pd\n",
    "import numpy as np"
   ]
  },
  {
   "cell_type": "code",
   "execution_count": 2,
   "id": "54133b5b-22b1-4566-bf60-e864fcfbadc5",
   "metadata": {},
   "outputs": [],
   "source": [
    "# Read dataframes of all-CDB, all-HEB, and all BEB with runs included\n",
    "df = pd.read_csv(r'../../results/computed-fuel-rates-runs-oct2021-sep2022.csv', low_memory=False)"
   ]
  },
  {
   "cell_type": "code",
   "execution_count": 74,
   "id": "6a8f6594-b60b-4576-beb5-131747619c2b",
   "metadata": {},
   "outputs": [
    {
     "data": {
      "text/plain": [
       "Index(['Unnamed: 0.1', 'Unnamed: 0', 'ServiceDateTime', 'DateKey',\n",
       "       'CalendarDate', 'Year', 'Month', 'OpKey', 'Operator', 'RtKey', 'RtKey2',\n",
       "       'Route', 'RouteName', 'TripKey', 'Trip', 'StopKey', 'Stop', 'StopName',\n",
       "       'Vehicle', 'VehicleType', 'SeatedCap', 'TotalCap', 'Lat', 'Lon',\n",
       "       'Boards', 'Alights', 'Onboard', 'Bike', 'Daytype', 'Hour', 'Minute',\n",
       "       'Second', 'Date', 'Powertrain', 'VehicleModel', 'Vehicle_mass',\n",
       "       'time_delta_in_seconds', 'dist', 'Speed', 'Acceleration', 'elevation',\n",
       "       'grade', 'Energy', 'stop_index', 'run'],\n",
       "      dtype='object')"
      ]
     },
     "execution_count": 74,
     "metadata": {},
     "output_type": "execute_result"
    }
   ],
   "source": [
    "df.columns"
   ]
  },
  {
   "cell_type": "code",
   "execution_count": 75,
   "id": "7f1f2622-08d4-4b2e-9000-ccff7f7fa3ec",
   "metadata": {},
   "outputs": [],
   "source": [
    "df_filtered=df.copy()"
   ]
  },
  {
   "cell_type": "code",
   "execution_count": 76,
   "id": "546184cf-9cef-4d09-bdc4-bb996244ea89",
   "metadata": {},
   "outputs": [],
   "source": [
    "#df_filtered=df.loc[df['Date']=='2021-10-29']"
   ]
  },
  {
   "cell_type": "code",
   "execution_count": 77,
   "id": "f1d7320c-0739-490c-86eb-6424a37400ef",
   "metadata": {},
   "outputs": [],
   "source": [
    "df_filtered_CDB=df_filtered.loc[df_filtered['Powertrain']=='conventional']"
   ]
  },
  {
   "cell_type": "code",
   "execution_count": 78,
   "id": "eb1e2b9b-5c15-4a98-8c51-7683d9753c99",
   "metadata": {},
   "outputs": [],
   "source": [
    "df_filtered_HEB=df_filtered.loc[df_filtered['Powertrain']=='hybrid']"
   ]
  },
  {
   "cell_type": "code",
   "execution_count": 79,
   "id": "79c99fd1-86e8-4a97-8218-2426ba8e56b8",
   "metadata": {},
   "outputs": [],
   "source": [
    "df_filtered_BEB=df_filtered.loc[df_filtered['Powertrain']=='electric']"
   ]
  },
  {
   "cell_type": "code",
   "execution_count": 92,
   "id": "101bff15-79af-4a45-bae1-7795387c8547",
   "metadata": {},
   "outputs": [],
   "source": [
    "df_filtered_CDB_grouped=df_filtered_CDB.groupby(['Vehicle','Date'])['dist'].sum().reset_index()"
   ]
  },
  {
   "cell_type": "code",
   "execution_count": 93,
   "id": "0d4474de-0830-4229-91a5-bf21de044e89",
   "metadata": {},
   "outputs": [],
   "source": [
    "df_filtered_HEB_grouped=df_filtered_HEB.groupby(['Vehicle','Date'])['dist'].sum().reset_index()"
   ]
  },
  {
   "cell_type": "code",
   "execution_count": 94,
   "id": "30767301-9147-4c4d-91fe-3e943b642d79",
   "metadata": {},
   "outputs": [],
   "source": [
    "df_filtered_BEB_grouped=df_filtered_BEB.groupby(['Vehicle','Date'])['dist'].sum().reset_index()"
   ]
  },
  {
   "cell_type": "code",
   "execution_count": 95,
   "id": "a40be11f-d22d-4ce6-8ba5-00ffe3532ad7",
   "metadata": {},
   "outputs": [
    {
     "data": {
      "text/plain": [
       "95.10614348861294"
      ]
     },
     "execution_count": 95,
     "metadata": {},
     "output_type": "execute_result"
    }
   ],
   "source": [
    "df_filtered_CDB_grouped['dist'].mean()"
   ]
  },
  {
   "cell_type": "code",
   "execution_count": 96,
   "id": "8d153f55-9297-44a9-b55e-3e7c9ee9958f",
   "metadata": {},
   "outputs": [
    {
     "data": {
      "text/plain": [
       "129.0381337121177"
      ]
     },
     "execution_count": 96,
     "metadata": {},
     "output_type": "execute_result"
    }
   ],
   "source": [
    "df_filtered_CDB_grouped['dist'].quantile(0.75)"
   ]
  },
  {
   "cell_type": "code",
   "execution_count": 97,
   "id": "16e03980-2cc0-4992-b7fd-f676cc7296c4",
   "metadata": {},
   "outputs": [
    {
     "data": {
      "text/plain": [
       "308.3971515502053"
      ]
     },
     "execution_count": 97,
     "metadata": {},
     "output_type": "execute_result"
    }
   ],
   "source": [
    "df_filtered_CDB_grouped['dist'].max()"
   ]
  },
  {
   "cell_type": "code",
   "execution_count": 98,
   "id": "4aefb817-de11-4baa-ae5e-e893ef166420",
   "metadata": {},
   "outputs": [
    {
     "data": {
      "text/plain": [
       "96.87181883000035"
      ]
     },
     "execution_count": 98,
     "metadata": {},
     "output_type": "execute_result"
    }
   ],
   "source": [
    "df_filtered_HEB_grouped['dist'].mean()"
   ]
  },
  {
   "cell_type": "code",
   "execution_count": 99,
   "id": "6beb0b4c-2cc1-40a9-a9b7-d51a50b3c083",
   "metadata": {},
   "outputs": [
    {
     "data": {
      "text/plain": [
       "129.1165640868449"
      ]
     },
     "execution_count": 99,
     "metadata": {},
     "output_type": "execute_result"
    }
   ],
   "source": [
    "df_filtered_HEB_grouped['dist'].quantile(0.75)"
   ]
  },
  {
   "cell_type": "code",
   "execution_count": 100,
   "id": "bc2a0204-83e1-447e-a9f6-151f451b4640",
   "metadata": {},
   "outputs": [
    {
     "data": {
      "text/plain": [
       "203.6416495336246"
      ]
     },
     "execution_count": 100,
     "metadata": {},
     "output_type": "execute_result"
    }
   ],
   "source": [
    "df_filtered_HEB_grouped['dist'].max()"
   ]
  },
  {
   "cell_type": "code",
   "execution_count": 101,
   "id": "300c23aa-c0c7-4331-aff1-7ecf326b58ff",
   "metadata": {},
   "outputs": [
    {
     "data": {
      "text/plain": [
       "59.237172413927865"
      ]
     },
     "execution_count": 101,
     "metadata": {},
     "output_type": "execute_result"
    }
   ],
   "source": [
    "df_filtered_BEB_grouped['dist'].mean()"
   ]
  },
  {
   "cell_type": "code",
   "execution_count": 102,
   "id": "10aead4a-901b-47b4-8343-ed7d60fe170d",
   "metadata": {},
   "outputs": [
    {
     "data": {
      "text/plain": [
       "92.18054519746934"
      ]
     },
     "execution_count": 102,
     "metadata": {},
     "output_type": "execute_result"
    }
   ],
   "source": [
    "df_filtered_BEB_grouped['dist'].quantile(0.75)"
   ]
  },
  {
   "cell_type": "code",
   "execution_count": 104,
   "id": "a011ea07-3aa7-4fc7-bfba-966ca510e1d7",
   "metadata": {},
   "outputs": [
    {
     "data": {
      "text/plain": [
       "187.1031152141423"
      ]
     },
     "execution_count": 104,
     "metadata": {},
     "output_type": "execute_result"
    }
   ],
   "source": [
    "df_filtered_BEB_grouped['dist'].max()"
   ]
  },
  {
   "cell_type": "code",
   "execution_count": 3,
   "id": "130c274c-a170-453b-b2bb-0d4a1f60a3c1",
   "metadata": {},
   "outputs": [],
   "source": [
    "df['fuel_economy']=df['dist']/df['Energy']"
   ]
  },
  {
   "cell_type": "code",
   "execution_count": 4,
   "id": "cffea908-bff1-4327-9e11-19e84ff3aa30",
   "metadata": {},
   "outputs": [],
   "source": [
    "df=df.loc[df['fuel_economy']!=np.inf]"
   ]
  },
  {
   "cell_type": "code",
   "execution_count": 5,
   "id": "7870eb90-568a-4d91-85b8-6119d648d8ff",
   "metadata": {},
   "outputs": [],
   "source": [
    "df=df.loc[df['fuel_economy']!=-np.inf]"
   ]
  },
  {
   "cell_type": "code",
   "execution_count": 14,
   "id": "a8a07801-afaa-4f75-b97b-d5005205ff8c",
   "metadata": {},
   "outputs": [],
   "source": [
    "df_CDB=df.loc[df['Powertrain']=='conventional']"
   ]
  },
  {
   "cell_type": "code",
   "execution_count": 15,
   "id": "4b2ac14d-3bf5-45bc-a4d2-35750c87bc9e",
   "metadata": {},
   "outputs": [],
   "source": [
    "df_CDB = df_CDB.loc[(df_CDB['fuel_economy'] > 0) & (df_CDB['fuel_economy'] < 5)]"
   ]
  },
  {
   "cell_type": "code",
   "execution_count": 16,
   "id": "9b8978ac-a8ed-4324-9f80-710d7c805881",
   "metadata": {},
   "outputs": [
    {
     "data": {
      "text/plain": [
       "2.6617035707291556"
      ]
     },
     "execution_count": 16,
     "metadata": {},
     "output_type": "execute_result"
    }
   ],
   "source": [
    "df_CDB['fuel_economy'].mean()"
   ]
  },
  {
   "cell_type": "code",
   "execution_count": 18,
   "id": "9e958fcf-794f-4698-8924-ed0aab00adf1",
   "metadata": {},
   "outputs": [],
   "source": [
    "df_HEB=df.loc[df['Powertrain']=='hybrid']"
   ]
  },
  {
   "cell_type": "code",
   "execution_count": 19,
   "id": "8794526e-f669-485e-ab2d-8166f21a6602",
   "metadata": {},
   "outputs": [],
   "source": [
    "df_HEB = df_HEB.loc[(df_HEB['fuel_economy'] > 0) & (df_HEB['fuel_economy'] < 6)]"
   ]
  },
  {
   "cell_type": "code",
   "execution_count": 20,
   "id": "b832619b-1da9-4fb2-bf61-0747ed6a0bba",
   "metadata": {},
   "outputs": [
    {
     "data": {
      "text/plain": [
       "3.0514040394559308"
      ]
     },
     "execution_count": 20,
     "metadata": {},
     "output_type": "execute_result"
    }
   ],
   "source": [
    "df_HEB['fuel_economy'].mean()"
   ]
  },
  {
   "cell_type": "code",
   "execution_count": null,
   "id": "6abc6ea8-bfe7-413c-88f6-dc9c736b388e",
   "metadata": {},
   "outputs": [],
   "source": []
  }
 ],
 "metadata": {
  "kernelspec": {
   "display_name": "Python 3 (ipykernel)",
   "language": "python",
   "name": "python3"
  },
  "language_info": {
   "codemirror_mode": {
    "name": "ipython",
    "version": 3
   },
   "file_extension": ".py",
   "mimetype": "text/x-python",
   "name": "python",
   "nbconvert_exporter": "python",
   "pygments_lexer": "ipython3",
   "version": "3.9.12"
  }
 },
 "nbformat": 4,
 "nbformat_minor": 5
}
