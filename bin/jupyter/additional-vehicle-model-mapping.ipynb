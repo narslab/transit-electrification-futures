{
 "cells": [
  {
   "cell_type": "code",
   "execution_count": 2,
   "id": "5a5a4a53",
   "metadata": {},
   "outputs": [],
   "source": [
    "import pandas as pd\n",
    "import matplotlib.pyplot as plt"
   ]
  },
  {
   "cell_type": "code",
   "execution_count": 3,
   "id": "9031d8ae",
   "metadata": {},
   "outputs": [],
   "source": [
    "df = pd.read_csv(r'../../data/raw/Apr2022LatLon.csv', delimiter=',', skiprows=0, low_memory=False)"
   ]
  },
  {
   "cell_type": "code",
   "execution_count": 6,
   "id": "4dda2ce7",
   "metadata": {},
   "outputs": [],
   "source": [
    "#df_grouped = df.groupby(['Vehicle', 'Date']).agg({'VehicleType'}).reset_index()\n",
    "df_grouped = df.groupby(['Vehicle'])['VehicleType'].agg(pd.Series.mode)\n"
   ]
  },
  {
   "cell_type": "code",
   "execution_count": 7,
   "id": "fc307110",
   "metadata": {},
   "outputs": [
    {
     "data": {
      "text/plain": [
       "Vehicle\n",
       "1205                           []\n",
       "1320               2021 New Flyer\n",
       "1321               2021 New Flyer\n",
       "1322               2021 New Flyer\n",
       "1323               2021 New Flyer\n",
       "                  ...            \n",
       "7814        2011 New Flyer - 7814\n",
       "7815        2011 New Flyer - 7815\n",
       "7816               2021 New Flyer\n",
       "7901    Articulated Buses - V9000\n",
       "7902    Articulated Buses - V9000\n",
       "Name: VehicleType, Length: 178, dtype: object"
      ]
     },
     "execution_count": 7,
     "metadata": {},
     "output_type": "execute_result"
    }
   ],
   "source": [
    "df_grouped"
   ]
  },
  {
   "cell_type": "code",
   "execution_count": 9,
   "id": "fb2647f2",
   "metadata": {},
   "outputs": [
    {
     "data": {
      "text/plain": [
       "pandas.core.series.Series"
      ]
     },
     "execution_count": 9,
     "metadata": {},
     "output_type": "execute_result"
    }
   ],
   "source": [
    "type(df_grouped)"
   ]
  },
  {
   "cell_type": "code",
   "execution_count": null,
   "id": "1efa7e2f",
   "metadata": {},
   "outputs": [],
   "source": []
  }
 ],
 "metadata": {
  "kernelspec": {
   "display_name": "Python 3 (ipykernel)",
   "language": "python",
   "name": "python3"
  },
  "language_info": {
   "codemirror_mode": {
    "name": "ipython",
    "version": 3
   },
   "file_extension": ".py",
   "mimetype": "text/x-python",
   "name": "python",
   "nbconvert_exporter": "python",
   "pygments_lexer": "ipython3",
   "version": "3.9.12"
  }
 },
 "nbformat": 4,
 "nbformat_minor": 5
}
