{
 "cells": [
  {
   "cell_type": "code",
   "execution_count": 8,
   "id": "cb70eab0-2cba-4132-b6c2-132ebd5dc089",
   "metadata": {},
   "outputs": [],
   "source": [
    "import pandas as pd\n",
    "import matplotlib.pyplot as plt\n",
    "from matplotlib.dates import DateFormatter\n",
    "import numpy as np"
   ]
  },
  {
   "cell_type": "code",
   "execution_count": 12,
   "id": "384c91fa-b32e-4091-8dbf-e92e3e41a67a",
   "metadata": {},
   "outputs": [],
   "source": [
    "df =pd.read_csv(r'../../data/tidy/large/trajectories-mapped-powertrain-weight-grade-oct2021-sep2022.csv', delimiter=',', skiprows=0, low_memory=False)"
   ]
  },
  {
   "cell_type": "code",
   "execution_count": 13,
   "id": "e9c9f3bc-17c4-448b-af9b-2c1665de2aa0",
   "metadata": {},
   "outputs": [],
   "source": [
    "df_electric=df.loc[df['Powertrain']=='electric']"
   ]
  },
  {
   "cell_type": "code",
   "execution_count": 14,
   "id": "60dcf61c-1301-43ba-a2ff-99d9d3515b1c",
   "metadata": {},
   "outputs": [],
   "source": [
    "df_hybrid=df.loc[df['Powertrain']=='hybrid']"
   ]
  },
  {
   "cell_type": "code",
   "execution_count": 17,
   "id": "b09b69aa-c818-4fe0-a6e6-0bc6602f1206",
   "metadata": {},
   "outputs": [
    {
     "name": "stdout",
     "output_type": "stream",
     "text": [
      "mode_vehicle_electric 0    NEW FLYER XE40\n",
      "Name: VehicleModel, dtype: object\n",
      "mode_vehicle_hybrid 0    NEW FLYER XDE40\n",
      "Name: VehicleModel, dtype: object\n"
     ]
    }
   ],
   "source": [
    "mode_vehicle_electric = df_electric['VehicleModel'].mode()\n",
    "mode_vehicle_hybrid = df_hybrid['VehicleModel'].mode()\n",
    "print(\"mode_vehicle_electric\", mode_vehicle_electric)\n",
    "print(\"mode_vehicle_hybrid\", mode_vehicle_hybrid)"
   ]
  },
  {
   "cell_type": "code",
   "execution_count": 16,
   "id": "3ca7031b-bd21-4a0e-b79d-3c2285d043ed",
   "metadata": {},
   "outputs": [
    {
     "data": {
      "text/plain": [
       "Index(['Unnamed: 0.3', 'Unnamed: 0.2', 'Unnamed: 0.1', 'Unnamed: 0',\n",
       "       'ServiceDateTime', 'DateKey', 'CalendarDate', 'Year', 'Month', 'OpKey',\n",
       "       'Operator', 'RtKey', 'RtKey2', 'Route', 'RouteName', 'TripKey', 'Trip',\n",
       "       'StopKey', 'Stop', 'StopName', 'Vehicle', 'VehicleType', 'SeatedCap',\n",
       "       'TotalCap', 'Lat', 'Lon', 'Boards', 'Alights', 'Onboard', 'Bike',\n",
       "       'Daytype', 'Hour', 'Minute', 'Second', 'Date', 'Powertrain',\n",
       "       'VehicleModel', 'VehiclWeight(lb)', 'time_delta_in_seconds', 'dist',\n",
       "       'speed', 'acc', 'elevation', 'grade'],\n",
       "      dtype='object')"
      ]
     },
     "execution_count": 16,
     "metadata": {},
     "output_type": "execute_result"
    }
   ],
   "source": [
    "df_electric.columns"
   ]
  },
  {
   "cell_type": "code",
   "execution_count": null,
   "id": "b32109c9-e079-4451-bdf6-d4d2c43c5e5c",
   "metadata": {},
   "outputs": [],
   "source": [
    "#  \"NEW FLYER XDE40\" weight: 28250 ,\n",
    "#  \"NEW FLYER XE40\" weight: 32770 ,"
   ]
  }
 ],
 "metadata": {
  "kernelspec": {
   "display_name": "Python 3 (ipykernel)",
   "language": "python",
   "name": "python3"
  },
  "language_info": {
   "codemirror_mode": {
    "name": "ipython",
    "version": 3
   },
   "file_extension": ".py",
   "mimetype": "text/x-python",
   "name": "python",
   "nbconvert_exporter": "python",
   "pygments_lexer": "ipython3",
   "version": "3.9.12"
  }
 },
 "nbformat": 4,
 "nbformat_minor": 5
}
