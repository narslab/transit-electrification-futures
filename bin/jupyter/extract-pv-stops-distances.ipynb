{
 "cells": [
  {
   "cell_type": "code",
   "execution_count": 28,
   "id": "fdb19afa-df29-456d-952f-81d8ba38386b",
   "metadata": {},
   "outputs": [],
   "source": [
    "import pandas as pd\n",
    "import gc\n",
    "import requests\n",
    "import itertools\n",
    "from geopy.distance import great_circle"
   ]
  },
  {
   "cell_type": "code",
   "execution_count": 2,
   "id": "46c69cee-ec26-4dfe-834e-f408f5e69e39",
   "metadata": {},
   "outputs": [],
   "source": [
    "df = pd.read_csv(r'../../data/tidy/large/vehicle-locations-mapped-powertrain-weight-consistent-lat-long-oct2021-sep2022.csv', delimiter=',', skiprows=0, low_memory=False)"
   ]
  },
  {
   "cell_type": "code",
   "execution_count": 16,
   "id": "4d8a053c-3491-43de-a421-154e6665cb0a",
   "metadata": {},
   "outputs": [
    {
     "data": {
      "text/plain": [
       "Index(['Unnamed: 0.1', 'Unnamed: 0', 'ServiceDateTime', 'DateKey',\n",
       "       'CalendarDate', 'Year', 'Month', 'OpKey', 'Operator', 'RtKey', 'RtKey2',\n",
       "       'Route', 'RouteName', 'TripKey', 'Trip', 'StopKey', 'Stop', 'StopName',\n",
       "       'Vehicle', 'VehicleType', 'SeatedCap', 'TotalCap', 'Lat', 'Lon',\n",
       "       'Boards', 'Alights', 'Onboard', 'Bike', 'Daytype', 'Hour', 'Minute',\n",
       "       'Second', 'Date', 'Powertrain', 'VehicleModel', 'VehiclWeight(lb)'],\n",
       "      dtype='object')"
      ]
     },
     "execution_count": 16,
     "metadata": {},
     "output_type": "execute_result"
    }
   ],
   "source": [
    "df.columns"
   ]
  },
  {
   "cell_type": "code",
   "execution_count": 17,
   "id": "94b26757-f3b0-4055-8ad2-c7f33524becc",
   "metadata": {},
   "outputs": [],
   "source": [
    "stop = df[['StopKey', 'Stop', 'StopName', 'Lat', 'Lon']].copy()"
   ]
  },
  {
   "cell_type": "code",
   "execution_count": 18,
   "id": "251a6b2d-d326-4384-8f85-a42af14716cd",
   "metadata": {},
   "outputs": [
    {
     "data": {
      "text/html": [
       "<div>\n",
       "<style scoped>\n",
       "    .dataframe tbody tr th:only-of-type {\n",
       "        vertical-align: middle;\n",
       "    }\n",
       "\n",
       "    .dataframe tbody tr th {\n",
       "        vertical-align: top;\n",
       "    }\n",
       "\n",
       "    .dataframe thead th {\n",
       "        text-align: right;\n",
       "    }\n",
       "</style>\n",
       "<table border=\"1\" class=\"dataframe\">\n",
       "  <thead>\n",
       "    <tr style=\"text-align: right;\">\n",
       "      <th></th>\n",
       "      <th>StopKey</th>\n",
       "      <th>Stop</th>\n",
       "      <th>StopName</th>\n",
       "      <th>Lat</th>\n",
       "      <th>Lon</th>\n",
       "    </tr>\n",
       "  </thead>\n",
       "  <tbody>\n",
       "    <tr>\n",
       "      <th>0</th>\n",
       "      <td>22540</td>\n",
       "      <td>251</td>\n",
       "      <td>Smith College</td>\n",
       "      <td>42.319620</td>\n",
       "      <td>-72.637550</td>\n",
       "    </tr>\n",
       "    <tr>\n",
       "      <th>1</th>\n",
       "      <td>22543</td>\n",
       "      <td>9009</td>\n",
       "      <td>Noho Garage</td>\n",
       "      <td>42.333550</td>\n",
       "      <td>-72.629412</td>\n",
       "    </tr>\n",
       "    <tr>\n",
       "      <th>2</th>\n",
       "      <td>22540</td>\n",
       "      <td>251</td>\n",
       "      <td>Smith College</td>\n",
       "      <td>42.319620</td>\n",
       "      <td>-72.637550</td>\n",
       "    </tr>\n",
       "    <tr>\n",
       "      <th>3</th>\n",
       "      <td>22543</td>\n",
       "      <td>9009</td>\n",
       "      <td>Noho Garage</td>\n",
       "      <td>42.333550</td>\n",
       "      <td>-72.629412</td>\n",
       "    </tr>\n",
       "    <tr>\n",
       "      <th>4</th>\n",
       "      <td>22543</td>\n",
       "      <td>9009</td>\n",
       "      <td>Noho Garage</td>\n",
       "      <td>42.333550</td>\n",
       "      <td>-72.629412</td>\n",
       "    </tr>\n",
       "    <tr>\n",
       "      <th>...</th>\n",
       "      <td>...</td>\n",
       "      <td>...</td>\n",
       "      <td>...</td>\n",
       "      <td>...</td>\n",
       "      <td>...</td>\n",
       "    </tr>\n",
       "    <tr>\n",
       "      <th>15621724</th>\n",
       "      <td>34774</td>\n",
       "      <td>64</td>\n",
       "      <td>ILC</td>\n",
       "      <td>42.390987</td>\n",
       "      <td>-72.525304</td>\n",
       "    </tr>\n",
       "    <tr>\n",
       "      <th>15621725</th>\n",
       "      <td>34693</td>\n",
       "      <td>71</td>\n",
       "      <td>Fine Arts Ctr</td>\n",
       "      <td>42.387828</td>\n",
       "      <td>-72.523914</td>\n",
       "    </tr>\n",
       "    <tr>\n",
       "      <th>15621726</th>\n",
       "      <td>38697</td>\n",
       "      <td>77</td>\n",
       "      <td>SW/Mass Ave (W)</td>\n",
       "      <td>42.384961</td>\n",
       "      <td>-72.528281</td>\n",
       "    </tr>\n",
       "    <tr>\n",
       "      <th>15621727</th>\n",
       "      <td>34775</td>\n",
       "      <td>76</td>\n",
       "      <td>Boyden Gym (N)</td>\n",
       "      <td>42.386549</td>\n",
       "      <td>-72.531202</td>\n",
       "    </tr>\n",
       "    <tr>\n",
       "      <th>15621728</th>\n",
       "      <td>34710</td>\n",
       "      <td>70</td>\n",
       "      <td>Rec Center</td>\n",
       "      <td>42.389185</td>\n",
       "      <td>-72.532306</td>\n",
       "    </tr>\n",
       "  </tbody>\n",
       "</table>\n",
       "<p>15621729 rows × 5 columns</p>\n",
       "</div>"
      ],
      "text/plain": [
       "          StopKey  Stop         StopName        Lat        Lon\n",
       "0           22540   251    Smith College  42.319620 -72.637550\n",
       "1           22543  9009      Noho Garage  42.333550 -72.629412\n",
       "2           22540   251    Smith College  42.319620 -72.637550\n",
       "3           22543  9009      Noho Garage  42.333550 -72.629412\n",
       "4           22543  9009      Noho Garage  42.333550 -72.629412\n",
       "...           ...   ...              ...        ...        ...\n",
       "15621724    34774    64              ILC  42.390987 -72.525304\n",
       "15621725    34693    71    Fine Arts Ctr  42.387828 -72.523914\n",
       "15621726    38697    77  SW/Mass Ave (W)  42.384961 -72.528281\n",
       "15621727    34775    76   Boyden Gym (N)  42.386549 -72.531202\n",
       "15621728    34710    70       Rec Center  42.389185 -72.532306\n",
       "\n",
       "[15621729 rows x 5 columns]"
      ]
     },
     "execution_count": 18,
     "metadata": {},
     "output_type": "execute_result"
    }
   ],
   "source": [
    "stop"
   ]
  },
  {
   "cell_type": "code",
   "execution_count": 19,
   "id": "27481b5a-4a8e-4382-aa2b-a8ffd223f5ad",
   "metadata": {},
   "outputs": [
    {
     "data": {
      "text/plain": [
       "1895"
      ]
     },
     "execution_count": 19,
     "metadata": {},
     "output_type": "execute_result"
    }
   ],
   "source": [
    "len(stop['Stop'].unique())"
   ]
  },
  {
   "cell_type": "code",
   "execution_count": 20,
   "id": "d57eeee7-ff0b-40ef-a68c-1f1f1632bf84",
   "metadata": {},
   "outputs": [],
   "source": [
    "stop = stop.drop_duplicates(subset='Stop')"
   ]
  },
  {
   "cell_type": "code",
   "execution_count": 21,
   "id": "130d0c9a-6b93-4453-930f-d334ab7c7deb",
   "metadata": {},
   "outputs": [
    {
     "data": {
      "text/html": [
       "<div>\n",
       "<style scoped>\n",
       "    .dataframe tbody tr th:only-of-type {\n",
       "        vertical-align: middle;\n",
       "    }\n",
       "\n",
       "    .dataframe tbody tr th {\n",
       "        vertical-align: top;\n",
       "    }\n",
       "\n",
       "    .dataframe thead th {\n",
       "        text-align: right;\n",
       "    }\n",
       "</style>\n",
       "<table border=\"1\" class=\"dataframe\">\n",
       "  <thead>\n",
       "    <tr style=\"text-align: right;\">\n",
       "      <th></th>\n",
       "      <th>StopKey</th>\n",
       "      <th>Stop</th>\n",
       "      <th>StopName</th>\n",
       "      <th>Lat</th>\n",
       "      <th>Lon</th>\n",
       "    </tr>\n",
       "  </thead>\n",
       "  <tbody>\n",
       "    <tr>\n",
       "      <th>0</th>\n",
       "      <td>22540</td>\n",
       "      <td>251</td>\n",
       "      <td>Smith College</td>\n",
       "      <td>42.319620</td>\n",
       "      <td>-72.637550</td>\n",
       "    </tr>\n",
       "    <tr>\n",
       "      <th>1</th>\n",
       "      <td>22543</td>\n",
       "      <td>9009</td>\n",
       "      <td>Noho Garage</td>\n",
       "      <td>42.333550</td>\n",
       "      <td>-72.629412</td>\n",
       "    </tr>\n",
       "    <tr>\n",
       "      <th>18</th>\n",
       "      <td>22581</td>\n",
       "      <td>267</td>\n",
       "      <td>Walter Salvo Ho</td>\n",
       "      <td>42.313356</td>\n",
       "      <td>-72.627657</td>\n",
       "    </tr>\n",
       "    <tr>\n",
       "      <th>19</th>\n",
       "      <td>22490</td>\n",
       "      <td>261</td>\n",
       "      <td>Acad. of Music</td>\n",
       "      <td>42.317699</td>\n",
       "      <td>-72.633052</td>\n",
       "    </tr>\n",
       "    <tr>\n",
       "      <th>24</th>\n",
       "      <td>1000</td>\n",
       "      <td>0</td>\n",
       "      <td>(X) Undefined</td>\n",
       "      <td>42.375823</td>\n",
       "      <td>-72.507237</td>\n",
       "    </tr>\n",
       "    <tr>\n",
       "      <th>...</th>\n",
       "      <td>...</td>\n",
       "      <td>...</td>\n",
       "      <td>...</td>\n",
       "      <td>...</td>\n",
       "      <td>...</td>\n",
       "    </tr>\n",
       "    <tr>\n",
       "      <th>14373918</th>\n",
       "      <td>38306</td>\n",
       "      <td>6140</td>\n",
       "      <td>Mountain Farms</td>\n",
       "      <td>42.355540</td>\n",
       "      <td>-72.552075</td>\n",
       "    </tr>\n",
       "    <tr>\n",
       "      <th>14373919</th>\n",
       "      <td>38307</td>\n",
       "      <td>6141</td>\n",
       "      <td>Chipotle</td>\n",
       "      <td>42.356442</td>\n",
       "      <td>-72.553862</td>\n",
       "    </tr>\n",
       "    <tr>\n",
       "      <th>14375003</th>\n",
       "      <td>38308</td>\n",
       "      <td>6255</td>\n",
       "      <td>Pine / Spring</td>\n",
       "      <td>42.330710</td>\n",
       "      <td>-72.678447</td>\n",
       "    </tr>\n",
       "    <tr>\n",
       "      <th>14415749</th>\n",
       "      <td>36117</td>\n",
       "      <td>496</td>\n",
       "      <td>Westover Job Co</td>\n",
       "      <td>42.196182</td>\n",
       "      <td>-72.561707</td>\n",
       "    </tr>\n",
       "    <tr>\n",
       "      <th>14462490</th>\n",
       "      <td>38603</td>\n",
       "      <td>8005</td>\n",
       "      <td>Garage Rd (I)</td>\n",
       "      <td>42.465287</td>\n",
       "      <td>-72.576032</td>\n",
       "    </tr>\n",
       "  </tbody>\n",
       "</table>\n",
       "<p>1895 rows × 5 columns</p>\n",
       "</div>"
      ],
      "text/plain": [
       "          StopKey  Stop         StopName        Lat        Lon\n",
       "0           22540   251    Smith College  42.319620 -72.637550\n",
       "1           22543  9009      Noho Garage  42.333550 -72.629412\n",
       "18          22581   267  Walter Salvo Ho  42.313356 -72.627657\n",
       "19          22490   261   Acad. of Music  42.317699 -72.633052\n",
       "24           1000     0    (X) Undefined  42.375823 -72.507237\n",
       "...           ...   ...              ...        ...        ...\n",
       "14373918    38306  6140   Mountain Farms  42.355540 -72.552075\n",
       "14373919    38307  6141         Chipotle  42.356442 -72.553862\n",
       "14375003    38308  6255    Pine / Spring  42.330710 -72.678447\n",
       "14415749    36117   496  Westover Job Co  42.196182 -72.561707\n",
       "14462490    38603  8005    Garage Rd (I)  42.465287 -72.576032\n",
       "\n",
       "[1895 rows x 5 columns]"
      ]
     },
     "execution_count": 21,
     "metadata": {},
     "output_type": "execute_result"
    }
   ],
   "source": [
    "stop"
   ]
  },
  {
   "cell_type": "code",
   "execution_count": 22,
   "id": "d9e9d70e-d137-41f3-b9fb-1102f564c41a",
   "metadata": {},
   "outputs": [
    {
     "data": {
      "text/plain": [
       "942"
      ]
     },
     "execution_count": 22,
     "metadata": {},
     "output_type": "execute_result"
    }
   ],
   "source": [
    "del df\n",
    "gc.collect()"
   ]
  },
  {
   "cell_type": "code",
   "execution_count": 31,
   "id": "97ee7d9c-eaa8-48c1-843d-6e1c50119a7c",
   "metadata": {},
   "outputs": [],
   "source": [
    "# Initialize a list to store the results\n",
    "results = []\n",
    "\n",
    "# Iterate over all pairs of stops\n",
    "for (index1, row1), (index2, row2) in itertools.combinations(stop.iterrows(), 2):\n",
    "    # Get the origin and destination coordinates\n",
    "    origins = (row1[\"Lat\"], row1[\"Lon\"])\n",
    "    destinations = (row2[\"Lat\"], row2[\"Lon\"])\n",
    "\n",
    "    # Calculate the distance\n",
    "    distance = great_circle(origins, destinations).meters  # in meters\n",
    "\n",
    "    # Append the results\n",
    "    # Note: Duration cannot be calculated using this method, so we leave it out\n",
    "    results.append([row1['Stop'], row2['Stop'], distance])\n",
    "\n",
    "# Convert the results to a DataFrame\n",
    "result_df = pd.DataFrame(results, columns=['Stop1', 'Stop2', 'Distance'])\n",
    "\n",
    "# Convert 'Distance' from meters to miles\n",
    "result_df['Distance'] = result_df['Distance'] / 1609.34\n",
    "\n",
    "# Save the results to a CSV file\n",
    "result_df.to_csv(r'../../results/stops-pairwise-distances.csv', index=False)\n"
   ]
  },
  {
   "cell_type": "code",
   "execution_count": 32,
   "id": "f4fd7779-e357-4d50-b0f7-c503b7b10d72",
   "metadata": {},
   "outputs": [
    {
     "data": {
      "text/html": [
       "<div>\n",
       "<style scoped>\n",
       "    .dataframe tbody tr th:only-of-type {\n",
       "        vertical-align: middle;\n",
       "    }\n",
       "\n",
       "    .dataframe tbody tr th {\n",
       "        vertical-align: top;\n",
       "    }\n",
       "\n",
       "    .dataframe thead th {\n",
       "        text-align: right;\n",
       "    }\n",
       "</style>\n",
       "<table border=\"1\" class=\"dataframe\">\n",
       "  <thead>\n",
       "    <tr style=\"text-align: right;\">\n",
       "      <th></th>\n",
       "      <th>Stop1</th>\n",
       "      <th>Stop2</th>\n",
       "      <th>Distance</th>\n",
       "    </tr>\n",
       "  </thead>\n",
       "  <tbody>\n",
       "    <tr>\n",
       "      <th>0</th>\n",
       "      <td>251</td>\n",
       "      <td>9009</td>\n",
       "      <td>1.048412</td>\n",
       "    </tr>\n",
       "    <tr>\n",
       "      <th>1</th>\n",
       "      <td>251</td>\n",
       "      <td>267</td>\n",
       "      <td>0.665421</td>\n",
       "    </tr>\n",
       "    <tr>\n",
       "      <th>2</th>\n",
       "      <td>251</td>\n",
       "      <td>261</td>\n",
       "      <td>0.265374</td>\n",
       "    </tr>\n",
       "    <tr>\n",
       "      <th>3</th>\n",
       "      <td>251</td>\n",
       "      <td>0</td>\n",
       "      <td>7.704626</td>\n",
       "    </tr>\n",
       "    <tr>\n",
       "      <th>4</th>\n",
       "      <td>251</td>\n",
       "      <td>244</td>\n",
       "      <td>0.553588</td>\n",
       "    </tr>\n",
       "    <tr>\n",
       "      <th>...</th>\n",
       "      <td>...</td>\n",
       "      <td>...</td>\n",
       "      <td>...</td>\n",
       "    </tr>\n",
       "    <tr>\n",
       "      <th>1794560</th>\n",
       "      <td>6141</td>\n",
       "      <td>496</td>\n",
       "      <td>11.080200</td>\n",
       "    </tr>\n",
       "    <tr>\n",
       "      <th>1794561</th>\n",
       "      <td>6141</td>\n",
       "      <td>8005</td>\n",
       "      <td>7.605058</td>\n",
       "    </tr>\n",
       "    <tr>\n",
       "      <th>1794562</th>\n",
       "      <td>6255</td>\n",
       "      <td>496</td>\n",
       "      <td>11.046725</td>\n",
       "    </tr>\n",
       "    <tr>\n",
       "      <th>1794563</th>\n",
       "      <td>6255</td>\n",
       "      <td>8005</td>\n",
       "      <td>10.666192</td>\n",
       "    </tr>\n",
       "    <tr>\n",
       "      <th>1794564</th>\n",
       "      <td>496</td>\n",
       "      <td>8005</td>\n",
       "      <td>18.607823</td>\n",
       "    </tr>\n",
       "  </tbody>\n",
       "</table>\n",
       "<p>1794565 rows × 3 columns</p>\n",
       "</div>"
      ],
      "text/plain": [
       "         Stop1  Stop2   Distance\n",
       "0          251   9009   1.048412\n",
       "1          251    267   0.665421\n",
       "2          251    261   0.265374\n",
       "3          251      0   7.704626\n",
       "4          251    244   0.553588\n",
       "...        ...    ...        ...\n",
       "1794560   6141    496  11.080200\n",
       "1794561   6141   8005   7.605058\n",
       "1794562   6255    496  11.046725\n",
       "1794563   6255   8005  10.666192\n",
       "1794564    496   8005  18.607823\n",
       "\n",
       "[1794565 rows x 3 columns]"
      ]
     },
     "execution_count": 32,
     "metadata": {},
     "output_type": "execute_result"
    }
   ],
   "source": [
    "result_df"
   ]
  },
  {
   "cell_type": "code",
   "execution_count": 33,
   "id": "540de8c1-aedd-4155-b259-ffe105c4e070",
   "metadata": {},
   "outputs": [
    {
     "data": {
      "text/plain": [
       "52.03865833424283"
      ]
     },
     "execution_count": 33,
     "metadata": {},
     "output_type": "execute_result"
    }
   ],
   "source": [
    "result_df['Distance'].max()"
   ]
  },
  {
   "cell_type": "code",
   "execution_count": 34,
   "id": "b514b4a7-d35b-494a-ba55-b57a2b3fc479",
   "metadata": {},
   "outputs": [
    {
     "data": {
      "text/plain": [
       "0.0"
      ]
     },
     "execution_count": 34,
     "metadata": {},
     "output_type": "execute_result"
    }
   ],
   "source": [
    "result_df['Distance'].min()"
   ]
  },
  {
   "cell_type": "code",
   "execution_count": null,
   "id": "ca3c92fe-5fc2-4d3f-b72f-8b89db085392",
   "metadata": {},
   "outputs": [],
   "source": []
  }
 ],
 "metadata": {
  "kernelspec": {
   "display_name": "Python 3 (ipykernel)",
   "language": "python",
   "name": "python3"
  },
  "language_info": {
   "codemirror_mode": {
    "name": "ipython",
    "version": 3
   },
   "file_extension": ".py",
   "mimetype": "text/x-python",
   "name": "python",
   "nbconvert_exporter": "python",
   "pygments_lexer": "ipython3",
   "version": "3.11.0"
  }
 },
 "nbformat": 4,
 "nbformat_minor": 5
}
