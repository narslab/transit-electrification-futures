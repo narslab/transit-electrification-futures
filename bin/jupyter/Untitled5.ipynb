{
 "cells": [
  {
   "cell_type": "code",
   "execution_count": null,
   "id": "0efbe18d-6b55-4c91-8d14-a66a39c2b25c",
   "metadata": {},
   "outputs": [],
   "source": [
    "import matplotlib.pyplot as plt\n",
    "\n",
    "Energy_SQ = 31.79.28\n",
    "Energy_BM = 22.\n",
    "\n",
    "# Compute the percent reduction\n",
    "reduction = ((Energy_SQ - Energy_BM) / Energy_SQ) * 100\n",
    "\n",
    "# Create lists for the plot\n",
    "energy_types = ['Energy_SQ', 'Energy_BM']\n",
    "values = [Energy_SQ, Energy_BM]\n",
    "colors = ['lightcoral', 'mediumseagreen']\n",
    "\n",
    "# Create a figure and a set of subplots with larger size\n",
    "fig, ax = plt.subplots(figsize=(20, 15))\n",
    "\n",
    "# Create a bar plot\n",
    "bars = ax.bar(energy_types, values, color=colors)\n",
    "\n",
    "# Set the title and labels with larger font sizes\n",
    "ax.set_title('Comparison of the summation of diesel consumption (gal) in the busiest day from 2023-2035', fontsize=20)\n",
    "ax.set_xlabel('Strategy', fontsize=16)\n",
    "ax.set_ylabel('Energy Consumption', fontsize=16)\n",
    "\n",
    "# Increase the font size for tick labels\n",
    "ax.tick_params(axis='both', labelsize=14)\n",
    "\n",
    "# Draw line between the tops of the bars and annotate it with the percent reduction\n",
    "plt.plot(energy_types, values, color='black', linestyle='dashed')\n",
    "plt.text(0.5, max(values), 'Reduction: {:.2f}%'.format(reduction), color='black', ha='center', va='bottom', fontsize=14)\n",
    "\n",
    "# Display the plot\n",
    "plt.show()\n"
   ]
  }
 ],
 "metadata": {
  "kernelspec": {
   "display_name": "Python 3 (ipykernel)",
   "language": "python",
   "name": "python3"
  },
  "language_info": {
   "codemirror_mode": {
    "name": "ipython",
    "version": 3
   },
   "file_extension": ".py",
   "mimetype": "text/x-python",
   "name": "python",
   "nbconvert_exporter": "python",
   "pygments_lexer": "ipython3",
   "version": "3.11.0"
  }
 },
 "nbformat": 4,
 "nbformat_minor": 5
}
