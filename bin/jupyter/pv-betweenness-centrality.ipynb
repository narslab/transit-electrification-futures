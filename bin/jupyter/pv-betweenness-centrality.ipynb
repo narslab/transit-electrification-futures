{
 "cells": [
  {
   "cell_type": "code",
   "execution_count": 10,
   "id": "f17437fd-44ba-467e-97a8-9aedff1e4840",
   "metadata": {},
   "outputs": [],
   "source": [
    "import networkx as nx\n",
    "import cenpy\n",
    "import osmnx as ox\n",
    "import matplotlib.pyplot as plt\n",
    "import pandas as pd\n",
    "import geopandas as gpd\n",
    "import numpy as np\n",
    "import contextily\n",
    "from mpl_toolkits.axes_grid1 import make_axes_locatable\n",
    "import seaborn as sns\n",
    "from matplotlib.pyplot import figure"
   ]
  },
  {
   "cell_type": "code",
   "execution_count": null,
   "id": "256cfd99-93d9-478e-82ab-6bc64c627dad",
   "metadata": {},
   "outputs": [],
   "source": [
    "# osmnx\n",
    "pioneer_valley = ['Hampshire County, Massachusetts, USA', 'Hampden County, Massachusetts, USA', 'Franklin County, Massachusetts, USA']\n",
    "graph = ox.graph_from_place(pioneer_valley, network_type='drive', simplify=False)\n",
    "area = ox.geocode_to_gdf(pioneer_valley)\n",
    "\n",
    "# Compute betweenness centrality using networkx\n",
    "bc = nx.betweenness_centrality(graph, weight='length')\n",
    "nodes_betweenness_centrality = pd.DataFrame.from_dict(bc, orient='index', columns=['betweenness_centrality'])\n",
    "nodes_betweenness_centrality.index.name = 'osmid'\n",
    "\n",
    "pv_nodes, pv_streets  = ox.graph_to_gdfs(graph)\n",
    "pv_nodes.reset_index(inplace=True)\n",
    "merged_pv_nodes = pd.merge(pv_nodes, nodes_betweenness_centrality, on='osmid')"
   ]
  },
  {
   "cell_type": "code",
   "execution_count": null,
   "id": "44c436cc-b5f0-4e98-b464-c635615660d9",
   "metadata": {},
   "outputs": [],
   "source": [
    "# cenpy\n",
    "acs = cenpy.products.ACS(2017)\n",
    "\n",
    "variables = ['B01001_001E', 'B19025A_001E', 'B01002_001E']\n",
    "variables_info = acs.variables.loc[variables]\n",
    "\n",
    "for variable in variables:\n",
    "    print(f\"{variable}:\")\n",
    "    print(f\"  Label: {variables_info.loc[variable, 'label']}\")\n",
    "    print(f\"  Concept: {variables_info.loc[variable, 'concept']}\")\n",
    "\n",
    "spfld_msa_demog = cenpy.products.ACS(2017).from_msa('Springfield, MA', variables=['B01001_001E','B19025A_001E','B01002_001E'])\n",
    "franklin_demog = cenpy.products.ACS(2017).from_msa('Franklin, MA', variables=['B01001_001E','B19025A_001E','B01002_001E'])\n",
    "\n",
    "# Compute population density\n",
    "spfld_msa_demog['population_density_psqkm'] = 1000000 * spfld_msa_demog['B01001_001E'] / spfld_msa_demog.area\n",
    "franklin_demog['population_density_psqkm'] = 1000000 * franklin_demog['B01001_001E'] / franklin_demog.area\n",
    "\n",
    "pv_demog = pd.concat([spfld_msa_demog, franklin_demog])\n",
    "\n",
    "# Calculate inverse income\n",
    "pv_demog['inverse_income'] = 1 / pv_demog['B19025A_001E']\n",
    "\n",
    "def normalize(column):\n",
    "    return (column - column.min()) / (column.max() - column.min())\n",
    "\n",
    "# Normalize population density and inverse income\n",
    "pv_demog['population_density_normalized'] = normalize(pv_demog['population_density_psqkm'])\n",
    "pv_demog['inverse_income_normalized'] = normalize(pv_demog['inverse_income'])"
   ]
  },
  {
   "cell_type": "code",
   "execution_count": null,
   "id": "b8d6dbdc-20dc-441a-92a1-285738768c88",
   "metadata": {},
   "outputs": [],
   "source": [
    "# megre cenpy and osmnx\n",
    "merged_pv_nodes = merged_pv_nodes.to_crs(pv_demog.crs)\n",
    "pv_nodes_demog_joint = merged_pv_nodes.sjoin(pv_demog)\n",
    "\n",
    "pv_nodes_demog_joint['weighted_betweenness_centrality_popden']=pv_nodes_demog_joint['betweenness_centrality']*pv_nodes_demog_joint['population_density_normalized']\n",
    "pv_nodes_demog_joint['weighted_betweenness_centrality_income']=pv_nodes_demog_joint['betweenness_centrality']*pv_nodes_demog_joint['inverse_income_normalized']"
   ]
  },
  {
   "cell_type": "code",
   "execution_count": null,
   "id": "967bb826-991c-45b4-b007-32072aa101b4",
   "metadata": {},
   "outputs": [],
   "source": [
    "# plot equity weighted betweenness_centrality (popden)\n",
    "fig, ax = plt.subplots(figsize=(15,15))\n",
    "divider = make_axes_locatable(ax)\n",
    "cax = divider.append_axes(\"right\", size=\"5%\", pad=0.1)\n",
    "pv_nodes_demog_joint.plot('weighted_betweenness_centrality_popden', cmap='plasma', alpha=0.3, ax=ax, linewidth=.5, edgecolor='k',legend=True, cax=cax)\n",
    "ax.axis('off')\n",
    "cax.tick_params(labelsize='20')\n",
    "plt.tight_layout()\n",
    "plt.savefig('../figures/pv-popdens-equity-weighted-node-betweenness_centrality.png',dpi=120)"
   ]
  },
  {
   "cell_type": "code",
   "execution_count": null,
   "id": "8a30c630-e76c-48da-bf2f-2844f2621150",
   "metadata": {},
   "outputs": [],
   "source": [
    "# plot equity weighted betweenness_centrality (inverse income)\n",
    "fig, ax = plt.subplots(figsize=(15,15))\n",
    "divider = make_axes_locatable(ax)\n",
    "cax = divider.append_axes(\"right\", size=\"5%\", pad=0.1)\n",
    "pv_nodes_demog_joint.plot('weighted_betweenness_centrality_income', cmap='plasma', alpha=0.3, ax=ax, linewidth=.5, edgecolor='k',legend=True, cax=cax)\n",
    "ax.axis('off')\n",
    "cax.tick_params(labelsize='20')\n",
    "plt.tight_layout()\n",
    "plt.savefig('../figures/pv-income-equity-weighted-node-betweenness_centrality.png',dpi=120)"
   ]
  },
  {
   "cell_type": "code",
   "execution_count": null,
   "id": "73833b94-e86f-4954-af1b-0f714b6056e2",
   "metadata": {},
   "outputs": [],
   "source": [
    "pv_nodes_demog_joint['weighted_betweenness_centrality_popden_income']=(0.5*pv_nodes_demog_joint['population_density_normalized']+0.5*pv_nodes_demog_joint['inverse_income_normalized'])*pv_nodes_demog_joint['betweenness_centrality']"
   ]
  },
  {
   "cell_type": "code",
   "execution_count": null,
   "id": "eb9ee76d-cb68-46da-9a82-bf069b14f381",
   "metadata": {},
   "outputs": [],
   "source": []
  },
  {
   "cell_type": "code",
   "execution_count": null,
   "id": "4e52a582-64e9-4e93-ae61-8e6548cb983c",
   "metadata": {},
   "outputs": [],
   "source": []
  },
  {
   "cell_type": "code",
   "execution_count": null,
   "id": "3d8f92b7-dca5-4392-92d6-91a8f1668e3e",
   "metadata": {},
   "outputs": [],
   "source": []
  }
 ],
 "metadata": {
  "kernelspec": {
   "display_name": "Python 3 (ipykernel)",
   "language": "python",
   "name": "python3"
  },
  "language_info": {
   "codemirror_mode": {
    "name": "ipython",
    "version": 3
   },
   "file_extension": ".py",
   "mimetype": "text/x-python",
   "name": "python",
   "nbconvert_exporter": "python",
   "pygments_lexer": "ipython3",
   "version": "3.11.0"
  }
 },
 "nbformat": 4,
 "nbformat_minor": 5
}
