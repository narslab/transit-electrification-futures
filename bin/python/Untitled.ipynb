{
 "cells": [
  {
   "cell_type": "code",
   "execution_count": 1,
   "id": "fb948bfe-3faa-46d7-9aa5-6f086aef4ae2",
   "metadata": {},
   "outputs": [],
   "source": [
    "import pandas as pd"
   ]
  },
  {
   "cell_type": "code",
   "execution_count": 2,
   "id": "ce72b93e-8664-467b-aaec-e7f668357ba8",
   "metadata": {},
   "outputs": [],
   "source": [
    "df =  pd.read_csv(r'../../results/strategies-simulation-optimized-variables.csv', low_memory=False)"
   ]
  },
  {
   "cell_type": "code",
   "execution_count": 4,
   "id": "1b0e1843-8ccb-441d-840f-1a0d023cb7f3",
   "metadata": {},
   "outputs": [
    {
     "data": {
      "text/plain": [
       "array([  0.,   1.,  45.,   2.,   3.,   5.,   4.,  75.,  94.,  85., 113.,\n",
       "        84.,  87.,  78.,  89.,  92.,  96.,  91.,  98.,  63.,  95.,  93.,\n",
       "       104.])"
      ]
     },
     "execution_count": 4,
     "metadata": {},
     "output_type": "execute_result"
    }
   ],
   "source": [
    "df['Value'].unique()"
   ]
  },
  {
   "cell_type": "code",
   "execution_count": 5,
   "id": "9ed3e972-5c6d-43cd-9165-76d97633bdaf",
   "metadata": {},
   "outputs": [
    {
     "data": {
      "text/html": [
       "<div>\n",
       "<style scoped>\n",
       "    .dataframe tbody tr th:only-of-type {\n",
       "        vertical-align: middle;\n",
       "    }\n",
       "\n",
       "    .dataframe tbody tr th {\n",
       "        vertical-align: top;\n",
       "    }\n",
       "\n",
       "    .dataframe thead th {\n",
       "        text-align: right;\n",
       "    }\n",
       "</style>\n",
       "<table border=\"1\" class=\"dataframe\">\n",
       "  <thead>\n",
       "    <tr style=\"text-align: right;\">\n",
       "      <th></th>\n",
       "      <th>Variable</th>\n",
       "      <th>Value</th>\n",
       "    </tr>\n",
       "  </thead>\n",
       "  <tbody>\n",
       "    <tr>\n",
       "      <th>616</th>\n",
       "      <td>x_CDB[low-cap,0,0,505237]</td>\n",
       "      <td>1.0</td>\n",
       "    </tr>\n",
       "    <tr>\n",
       "      <th>672</th>\n",
       "      <td>x_CDB[low-cap,0,0,505749]</td>\n",
       "      <td>1.0</td>\n",
       "    </tr>\n",
       "    <tr>\n",
       "      <th>675</th>\n",
       "      <td>x_CDB[low-cap,0,0,505757]</td>\n",
       "      <td>1.0</td>\n",
       "    </tr>\n",
       "    <tr>\n",
       "      <th>677</th>\n",
       "      <td>x_CDB[low-cap,0,0,505818]</td>\n",
       "      <td>1.0</td>\n",
       "    </tr>\n",
       "    <tr>\n",
       "      <th>681</th>\n",
       "      <td>x_CDB[low-cap,0,0,505830]</td>\n",
       "      <td>1.0</td>\n",
       "    </tr>\n",
       "    <tr>\n",
       "      <th>...</th>\n",
       "      <td>...</td>\n",
       "      <td>...</td>\n",
       "    </tr>\n",
       "    <tr>\n",
       "      <th>93951034</th>\n",
       "      <td>y_BEB[low-cap,8]</td>\n",
       "      <td>94.0</td>\n",
       "    </tr>\n",
       "    <tr>\n",
       "      <th>93951035</th>\n",
       "      <td>y_BEB[low-cap,9]</td>\n",
       "      <td>95.0</td>\n",
       "    </tr>\n",
       "    <tr>\n",
       "      <th>93951036</th>\n",
       "      <td>y_BEB[low-cap,10]</td>\n",
       "      <td>93.0</td>\n",
       "    </tr>\n",
       "    <tr>\n",
       "      <th>93951037</th>\n",
       "      <td>y_BEB[low-cap,11]</td>\n",
       "      <td>104.0</td>\n",
       "    </tr>\n",
       "    <tr>\n",
       "      <th>93951038</th>\n",
       "      <td>y_BEB[low-cap,12]</td>\n",
       "      <td>87.0</td>\n",
       "    </tr>\n",
       "  </tbody>\n",
       "</table>\n",
       "<p>2448 rows × 2 columns</p>\n",
       "</div>"
      ],
      "text/plain": [
       "                           Variable  Value\n",
       "616       x_CDB[low-cap,0,0,505237]    1.0\n",
       "672       x_CDB[low-cap,0,0,505749]    1.0\n",
       "675       x_CDB[low-cap,0,0,505757]    1.0\n",
       "677       x_CDB[low-cap,0,0,505818]    1.0\n",
       "681       x_CDB[low-cap,0,0,505830]    1.0\n",
       "...                             ...    ...\n",
       "93951034           y_BEB[low-cap,8]   94.0\n",
       "93951035           y_BEB[low-cap,9]   95.0\n",
       "93951036          y_BEB[low-cap,10]   93.0\n",
       "93951037          y_BEB[low-cap,11]  104.0\n",
       "93951038          y_BEB[low-cap,12]   87.0\n",
       "\n",
       "[2448 rows x 2 columns]"
      ]
     },
     "execution_count": 5,
     "metadata": {},
     "output_type": "execute_result"
    }
   ],
   "source": [
    "df.loc[df['Value']!=0]"
   ]
  },
  {
   "cell_type": "code",
   "execution_count": 6,
   "id": "dd0f336f-68c3-4d40-9f28-ad8f529df76b",
   "metadata": {},
   "outputs": [
    {
     "data": {
      "text/html": [
       "<div>\n",
       "<style scoped>\n",
       "    .dataframe tbody tr th:only-of-type {\n",
       "        vertical-align: middle;\n",
       "    }\n",
       "\n",
       "    .dataframe tbody tr th {\n",
       "        vertical-align: top;\n",
       "    }\n",
       "\n",
       "    .dataframe thead th {\n",
       "        text-align: right;\n",
       "    }\n",
       "</style>\n",
       "<table border=\"1\" class=\"dataframe\">\n",
       "  <thead>\n",
       "    <tr style=\"text-align: right;\">\n",
       "      <th></th>\n",
       "      <th>Variable</th>\n",
       "      <th>Value</th>\n",
       "    </tr>\n",
       "  </thead>\n",
       "  <tbody>\n",
       "    <tr>\n",
       "      <th>0</th>\n",
       "      <td>x_CDB[low-cap,0,0,528277]</td>\n",
       "      <td>0.0</td>\n",
       "    </tr>\n",
       "    <tr>\n",
       "      <th>1</th>\n",
       "      <td>x_CDB[low-cap,0,0,528282]</td>\n",
       "      <td>0.0</td>\n",
       "    </tr>\n",
       "    <tr>\n",
       "      <th>2</th>\n",
       "      <td>x_CDB[low-cap,0,0,528283]</td>\n",
       "      <td>0.0</td>\n",
       "    </tr>\n",
       "    <tr>\n",
       "      <th>3</th>\n",
       "      <td>x_CDB[low-cap,0,0,528286]</td>\n",
       "      <td>0.0</td>\n",
       "    </tr>\n",
       "    <tr>\n",
       "      <th>4</th>\n",
       "      <td>x_CDB[low-cap,0,0,528288]</td>\n",
       "      <td>0.0</td>\n",
       "    </tr>\n",
       "    <tr>\n",
       "      <th>...</th>\n",
       "      <td>...</td>\n",
       "      <td>...</td>\n",
       "    </tr>\n",
       "    <tr>\n",
       "      <th>93990034</th>\n",
       "      <td>z_BEB[low-cap,999,8]</td>\n",
       "      <td>0.0</td>\n",
       "    </tr>\n",
       "    <tr>\n",
       "      <th>93990035</th>\n",
       "      <td>z_BEB[low-cap,999,9]</td>\n",
       "      <td>0.0</td>\n",
       "    </tr>\n",
       "    <tr>\n",
       "      <th>93990036</th>\n",
       "      <td>z_BEB[low-cap,999,10]</td>\n",
       "      <td>0.0</td>\n",
       "    </tr>\n",
       "    <tr>\n",
       "      <th>93990037</th>\n",
       "      <td>z_BEB[low-cap,999,11]</td>\n",
       "      <td>0.0</td>\n",
       "    </tr>\n",
       "    <tr>\n",
       "      <th>93990038</th>\n",
       "      <td>z_BEB[low-cap,999,12]</td>\n",
       "      <td>0.0</td>\n",
       "    </tr>\n",
       "  </tbody>\n",
       "</table>\n",
       "<p>93990039 rows × 2 columns</p>\n",
       "</div>"
      ],
      "text/plain": [
       "                           Variable  Value\n",
       "0         x_CDB[low-cap,0,0,528277]    0.0\n",
       "1         x_CDB[low-cap,0,0,528282]    0.0\n",
       "2         x_CDB[low-cap,0,0,528283]    0.0\n",
       "3         x_CDB[low-cap,0,0,528286]    0.0\n",
       "4         x_CDB[low-cap,0,0,528288]    0.0\n",
       "...                             ...    ...\n",
       "93990034       z_BEB[low-cap,999,8]    0.0\n",
       "93990035       z_BEB[low-cap,999,9]    0.0\n",
       "93990036      z_BEB[low-cap,999,10]    0.0\n",
       "93990037      z_BEB[low-cap,999,11]    0.0\n",
       "93990038      z_BEB[low-cap,999,12]    0.0\n",
       "\n",
       "[93990039 rows x 2 columns]"
      ]
     },
     "execution_count": 6,
     "metadata": {},
     "output_type": "execute_result"
    }
   ],
   "source": [
    "df"
   ]
  },
  {
   "cell_type": "code",
   "execution_count": null,
   "id": "4c02cb31-50fa-4643-982c-05cf1db81eaf",
   "metadata": {},
   "outputs": [],
   "source": []
  }
 ],
 "metadata": {
  "kernelspec": {
   "display_name": "Python 3 (ipykernel)",
   "language": "python",
   "name": "python3"
  },
  "language_info": {
   "codemirror_mode": {
    "name": "ipython",
    "version": 3
   },
   "file_extension": ".py",
   "mimetype": "text/x-python",
   "name": "python",
   "nbconvert_exporter": "python",
   "pygments_lexer": "ipython3",
   "version": "3.11.0"
  }
 },
 "nbformat": 4,
 "nbformat_minor": 5
}
